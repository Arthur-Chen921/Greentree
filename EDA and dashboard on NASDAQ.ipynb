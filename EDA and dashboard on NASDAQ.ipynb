{
 "cells": [
  {
   "cell_type": "markdown",
   "id": "b7db1c1e-5be2-464b-b6d9-61caa3b6b710",
   "metadata": {},
   "source": [
    "# Financial Analysis of the Thirty Component Companies of NASDAQ\n",
    "Analysis on thirty stocks on NASDAQ, including their profitability and risk analysis,etc.\n",
    "Firstly,  use yfinance to scrape data from the Yahoo website(https://finance.yahoo.com/quote/%5EIXIC/components/)\n",
    "Subsequent updates can be made based on the website's data"
   ]
  },
  {
   "cell_type": "code",
   "execution_count": 218,
   "id": "5ad6721c-02b0-4c37-a63a-0274234b639a",
   "metadata": {
    "scrolled": true
   },
   "outputs": [],
   "source": [
    "import yfinance as yf\n",
    "import pandas as pd\n",
    "\n",
    "# Define the tickers\n",
    "# I have selected thirty stocks from the Nasdaq component page on March 22nd 2025\n",
    "nasdaq_30 = ['OPTN', 'UONEK', 'SCOR', 'AXON', 'STRS', 'CMRX', 'BSBK', 'FNLC', 'NVCR', 'FNKO',\n",
    "            'NVEC', 'SLAB', 'MSBI', 'AGNC', 'NMRK', 'OPTX', 'IFRX', 'CVCO', 'TWST', 'STRT',\n",
    "            'SCNI', 'NMRA', 'SDA', 'KLXE', 'JAGX', 'CEAD', 'NVCT', 'STRR', 'BCG', 'SCNX']\n",
    "\n",
    "combined_income = pd.DataFrame()\n",
    "combined_balance = pd.DataFrame()\n",
    "combined_cashflow = pd.DataFrame()"
   ]
  },
  {
   "cell_type": "code",
   "execution_count": 221,
   "id": "e3eb6f76-2b84-4bb7-ab62-c4082962c187",
   "metadata": {},
   "outputs": [
    {
     "name": "stdout",
     "output_type": "stream",
     "text": [
      "OPTN Data combine successed\n",
      "UONEK Data combine successed\n",
      "SCOR Data combine successed\n",
      "AXON Data combine successed\n",
      "STRS Data combine successed\n",
      "CMRX Data combine successed\n",
      "BSBK Data combine successed\n",
      "FNLC Data combine successed\n",
      "NVCR Data combine successed\n",
      "FNKO Data combine successed\n",
      "NVEC Data combine successed\n",
      "SLAB Data combine successed\n",
      "MSBI Data combine successed\n",
      "AGNC Data combine successed\n",
      "NMRK Data combine successed\n",
      "OPTX Data combine successed\n",
      "IFRX Data combine successed\n",
      "CVCO Data combine successed\n",
      "TWST Data combine successed\n",
      "STRT Data combine successed\n",
      "SCNI Data combine successed\n",
      "NMRA Data combine successed\n",
      "SDA Data combine successed\n",
      "KLXE Data combine successed\n",
      "JAGX Data combine successed\n",
      "CEAD Data combine successed\n",
      "NVCT Data combine successed\n",
      "STRR Data combine successed\n",
      "BCG Data combine successed\n",
      "SCNX Data combine successed\n"
     ]
    }
   ],
   "source": [
    "for ticker in nasdaq_30:\n",
    "    try:\n",
    "        stock = yf.Ticker(ticker)\n",
    "        \n",
    "        # Income statement \n",
    "        # Since the table is provided based on each company, we need to manually add company codes to distinguish them\n",
    "        income = stock.quarterly_financials.T\n",
    "        income.insert(0, 'Ticker', ticker)  # Add company code column\n",
    "        income.reset_index(inplace=True)     # Change date from index to column\n",
    "        income.rename(columns={'index': 'Date'}, inplace=True)\n",
    "        combined_income = pd.concat([combined_income, income], ignore_index=True)\n",
    "        \n",
    "        # Balance\n",
    "        balance = stock.quarterly_balance_sheet.T\n",
    "        balance.insert(0, 'Ticker', ticker)\n",
    "        balance.reset_index(inplace=True)\n",
    "        balance.rename(columns={'index': 'Date'}, inplace=True)\n",
    "        combined_balance = pd.concat([combined_balance, balance], ignore_index=True)\n",
    "        \n",
    "        # Cashflow\n",
    "        cashflow = stock.quarterly_cashflow.T\n",
    "        cashflow.insert(0, 'Ticker', ticker)\n",
    "        cashflow.reset_index(inplace=True)\n",
    "        cashflow.rename(columns={'index': 'Date'}, inplace=True)\n",
    "        combined_cashflow = pd.concat([combined_cashflow, cashflow], ignore_index=True)\n",
    "        \n",
    "        print(f\"{ticker} Data combine successed\")\n",
    "    except Exception as e:\n",
    "        print(f\"{ticker} Data combine failed: {str(e)}\")"
   ]
  },
  {
   "cell_type": "markdown",
   "id": "ee945853-0fa4-4602-861d-9305c7719a7a",
   "metadata": {},
   "source": [
    "Batch scrap and merge data "
   ]
  },
  {
   "cell_type": "code",
   "execution_count": 224,
   "id": "301ab8ba-7ff7-4edb-8075-174c76acf52e",
   "metadata": {},
   "outputs": [],
   "source": [
    "with pd.ExcelWriter('nasdaq_30_combined.xlsx') as writer:\n",
    "    combined_income.to_excel(writer, sheet_name='Income_Statement', index=False)\n",
    "    combined_balance.to_excel(writer, sheet_name='Balance_Sheet', index=False)\n",
    "    combined_cashflow.to_excel(writer, sheet_name='Cash_Flow', index=False)"
   ]
  },
  {
   "cell_type": "markdown",
   "id": "84c36752-b228-4ee4-a388-965cc86251d9",
   "metadata": {},
   "source": [
    "#  Part2 ----Data Cleaning and Exploratory Data Analysis\n",
    "1.1 Read the data"
   ]
  },
  {
   "cell_type": "code",
   "execution_count": 261,
   "id": "8936556f-0409-45a8-a1ae-3da71683c260",
   "metadata": {},
   "outputs": [],
   "source": [
    "import pandas as pd\n",
    "import numpy as np \n",
    "\n",
    "# 1. Read the data\n",
    "file_path = \"nasdaq_30_combined.xlsx\"\n",
    "income = pd.read_excel(file_path, sheet_name=\"Income_Statement\")\n",
    "balance = pd.read_excel(file_path, sheet_name=\"Balance_Sheet\")\n",
    "cashflow = pd.read_excel(file_path, sheet_name=\"Cash_Flow\")"
   ]
  },
  {
   "cell_type": "code",
   "execution_count": 263,
   "id": "1c850cf5-2f9c-479c-9735-30896c66d38c",
   "metadata": {},
   "outputs": [],
   "source": [
    "for df in [income, balance, cashflow]:\n",
    "    df['Date'] = pd.to_datetime(df['Date'])"
   ]
  },
  {
   "cell_type": "markdown",
   "id": "81253d99-9e1a-4f7e-a390-019699c53383",
   "metadata": {},
   "source": [
    "# 1.2 Convert data format"
   ]
  },
  {
   "cell_type": "code",
   "execution_count": 266,
   "id": "d3edbc24-2b46-4bad-a752-842e5af534c5",
   "metadata": {},
   "outputs": [],
   "source": [
    "\n",
    "def handle_missing(df, threshold=0.75):\n",
    "    # Delete high missing rate columns\n",
    "    missing_ratio = df.isnull().mean()\n",
    "    cols_to_drop = missing_ratio[missing_ratio > threshold].index.tolist()\n",
    "    df_cleaned = df.drop(columns=cols_to_drop)\n",
    "    \n",
    "    # Only process numerical columns\n",
    "    numeric_cols = df_cleaned.select_dtypes(include=np.number).columns.tolist()\n",
    "    \n",
    "    for col in numeric_cols:\n",
    "\n",
    "        # Step 1: Fill in missing values with the historical mean of the same company's column\n",
    "        df_cleaned[col] = df_cleaned.groupby('Ticker')[col].transform(\n",
    "            lambda x: x.fillna(x.mean())\n",
    "        )\n",
    "        \n",
    "        # Step 2: If the company has no historical data, fill in the entire column with the mean\n",
    "        df_cleaned[col] = df_cleaned[col].fillna(df_cleaned[col].mean())\n",
    "    \n",
    "    return df_cleaned\n",
    "\n",
    "# Apply\n",
    "income_clean = handle_missing(income)\n",
    "balance_clean = handle_missing(balance)\n",
    "cashflow_clean = handle_missing(cashflow)"
   ]
  },
  {
   "cell_type": "markdown",
   "id": "c25c88be-3614-4da4-aa38-40de684e5450",
   "metadata": {},
   "source": [
    "# 1.3Handle missing value\n",
    "It can be seen that for various reasons, some financial data of many companies are not reported. \n",
    "In this section, we can choose to use his data from previous quarters and industry averages for prediction and filling. \n",
    "For a large number of missing entries, we set a threshold (75%) to exclude those that are difficult to analyze."
   ]
  },
  {
   "cell_type": "code",
   "execution_count": 269,
   "id": "b7624c29-5bec-4e46-b189-d30914ebb912",
   "metadata": {},
   "outputs": [],
   "source": [
    "def process_outliers(df):\n",
    "    numeric_cols = df.select_dtypes(include=np.number).columns\n",
    "    for col in numeric_cols:\n",
    "        Q1 = df[col].quantile(0.25)\n",
    "        Q3 = df[col].quantile(0.75)\n",
    "        IQR = Q3 - Q1\n",
    "        lower = Q1 - 1.5 * IQR\n",
    "        upper = Q3 + 1.5 * IQR\n",
    "        mean = df[col].mean()\n",
    "        df[col] = np.where((df[col] < lower) | (df[col] > upper), mean, df[col])\n",
    "    return df\n",
    "\n",
    "# Apply\n",
    "income_final = process_outliers(income_clean)\n",
    "balance_final = process_outliers(balance_clean)\n",
    "cashflow_final = process_outliers(cashflow_clean)"
   ]
  },
  {
   "cell_type": "markdown",
   "id": "4b680f49-d4ed-4e91-bbff-470139153daa",
   "metadata": {},
   "source": [
    "# 1.4 Process the outliers\n",
    "I will place this step after deleting the missing column to prevent some normal values from being considered outliers due to too many missing values. At the same time, it also avoids overfilling that leads to a significant gap between the level of a certain item and reality"
   ]
  },
  {
   "cell_type": "code",
   "execution_count": 272,
   "id": "b4e6e219-fd16-4121-9bf8-3f0809f99e35",
   "metadata": {},
   "outputs": [
    {
     "name": "stdout",
     "output_type": "stream",
     "text": [
      "Income total missing: 0\n",
      "Balance total missing: 0\n",
      "Cashflow total missing: 0\n"
     ]
    }
   ],
   "source": [
    "def validate_missing(df, name):\n",
    "    total_missing = df.select_dtypes(include=np.number).isnull().sum().sum()\n",
    "    print(f\"{name}total missing: {total_missing}\")\n",
    "\n",
    "validate_missing(income_final, \"Income \")\n",
    "validate_missing(balance_final, \"Balance \")\n",
    "validate_missing(cashflow_final, \"Cashflow \")"
   ]
  },
  {
   "cell_type": "markdown",
   "id": "ed075d2a-6481-4be7-aaba-589b509215c4",
   "metadata": {},
   "source": [
    "# 1.5 validate missing value to check the code"
   ]
  },
  {
   "cell_type": "code",
   "execution_count": 275,
   "id": "a26c4363-835b-4fea-945c-b96b38eb1ff1",
   "metadata": {},
   "outputs": [],
   "source": [
    "\n",
    "with pd.ExcelWriter(\"nasdaq_30_combined_cleaned.xlsx\") as writer:\n",
    "    income_final.to_excel(writer, sheet_name=\"Income_Statement\", index=False)\n",
    "    balance_final.to_excel(writer, sheet_name=\"Balance_Sheet\", index=False)\n",
    "    cashflow_final.to_excel(writer, sheet_name=\"Cash_Flow\", index=False)\n"
   ]
  },
  {
   "cell_type": "markdown",
   "id": "e116aea3-d39a-4738-8deb-e9739f27304b",
   "metadata": {},
   "source": [
    "# 1.6 Save the cleaned dataset"
   ]
  },
  {
   "cell_type": "markdown",
   "id": "aacef7cf-52e3-421c-9f61-783c2ba01a03",
   "metadata": {},
   "source": [
    "# PART 3  visualization\n",
    "In this section, I will first conduct macro level data analysis on these companies, and then conduct more detailed item mining based on identifying some features. Firstly, we import the data"
   ]
  },
  {
   "cell_type": "code",
   "execution_count": 278,
   "id": "3ab7774c-e0c5-4fbc-ba74-d5aa571a9190",
   "metadata": {},
   "outputs": [],
   "source": [
    "import pandas as pd\n",
    "import plotly.express as px"
   ]
  },
  {
   "cell_type": "code",
   "execution_count": 280,
   "id": "c570843a-eb79-437d-b5c8-cc9dd482e801",
   "metadata": {},
   "outputs": [
    {
     "data": {
      "application/vnd.plotly.v1+json": {
       "config": {
        "plotlyServerURL": "https://plot.ly"
       },
       "data": [
        {
         "alignmentgroup": "True",
         "hovertemplate": "Index=Gross Profit<br>Ticker=%{x}<br>Amount (USD)=%{y}<extra></extra>",
         "legendgroup": "Gross Profit",
         "marker": {
          "color": "#636efa",
          "pattern": {
           "shape": ""
          }
         },
         "name": "Gross Profit",
         "offsetgroup": "Gross Profit",
         "orientation": "v",
         "showlegend": true,
         "textposition": "auto",
         "type": "bar",
         "x": [
          "OPTN",
          "OPTN",
          "OPTN",
          "OPTN",
          "OPTN",
          "OPTN",
          "UONEK",
          "UONEK",
          "UONEK",
          "UONEK",
          "UONEK",
          "UONEK",
          "SCOR",
          "SCOR",
          "SCOR",
          "SCOR",
          "SCOR",
          "SCOR",
          "SCOR",
          "AXON",
          "AXON",
          "AXON",
          "AXON",
          "AXON",
          "AXON",
          "AXON",
          "STRS",
          "STRS",
          "STRS",
          "STRS",
          "STRS",
          "STRS",
          "CMRX",
          "CMRX",
          "CMRX",
          "CMRX",
          "CMRX",
          "CMRX",
          "BSBK",
          "BSBK",
          "BSBK",
          "BSBK",
          "BSBK",
          "FNLC",
          "FNLC",
          "FNLC",
          "FNLC",
          "FNLC",
          "FNLC",
          "FNLC",
          "NVCR",
          "NVCR",
          "NVCR",
          "NVCR",
          "NVCR",
          "NVCR",
          "FNKO",
          "FNKO",
          "FNKO",
          "FNKO",
          "FNKO",
          "FNKO",
          "FNKO",
          "NVEC",
          "NVEC",
          "NVEC",
          "NVEC",
          "NVEC",
          "NVEC",
          "NVEC",
          "SLAB",
          "SLAB",
          "SLAB",
          "SLAB",
          "SLAB",
          "SLAB",
          "MSBI",
          "MSBI",
          "MSBI",
          "MSBI",
          "MSBI",
          "MSBI",
          "AGNC",
          "AGNC",
          "AGNC",
          "AGNC",
          "AGNC",
          "AGNC",
          "NMRK",
          "NMRK",
          "NMRK",
          "NMRK",
          "NMRK",
          "NMRK",
          "NMRK",
          "OPTX",
          "OPTX",
          "OPTX",
          "OPTX",
          "OPTX",
          "OPTX",
          "IFRX",
          "IFRX",
          "IFRX",
          "IFRX",
          "IFRX",
          "IFRX",
          "IFRX",
          "CVCO",
          "CVCO",
          "CVCO",
          "CVCO",
          "CVCO",
          "TWST",
          "TWST",
          "TWST",
          "TWST",
          "TWST",
          "TWST",
          "TWST",
          "STRT",
          "STRT",
          "STRT",
          "STRT",
          "STRT",
          "STRT",
          "SCNI",
          "SCNI",
          "SCNI",
          "SCNI",
          "SCNI",
          "SCNI",
          "NMRA",
          "NMRA",
          "NMRA",
          "NMRA",
          "NMRA",
          "NMRA",
          "NMRA",
          "SDA",
          "SDA",
          "SDA",
          "KLXE",
          "KLXE",
          "KLXE",
          "KLXE",
          "KLXE",
          "KLXE",
          "KLXE",
          "JAGX",
          "JAGX",
          "JAGX",
          "JAGX",
          "JAGX",
          "CEAD",
          "CEAD",
          "CEAD",
          "CEAD",
          "CEAD",
          "CEAD",
          "NVCT",
          "NVCT",
          "NVCT",
          "NVCT",
          "NVCT",
          "NVCT",
          "NVCT",
          "STRR",
          "STRR",
          "STRR",
          "STRR",
          "STRR",
          "STRR",
          "BCG",
          "BCG",
          "BCG",
          "BCG",
          "BCG",
          "BCG",
          "SCNX",
          "SCNX",
          "SCNX",
          "SCNX",
          "SCNX",
          "SCNX"
         ],
         "xaxis": "x",
         "y": [
          18372000,
          18509000,
          13649000,
          17734000,
          17598000,
          null,
          76473000,
          84481000,
          71744000,
          83705000,
          83912000,
          null,
          40253000,
          36474000,
          33884000,
          36728000,
          44881000,
          null,
          null,
          345849000,
          330747000,
          303735000,
          260046000,
          263887000,
          null,
          null,
          218000,
          922000,
          8150000,
          522000,
          -146000,
          null,
          null,
          null,
          null,
          4000,
          11000,
          26000,
          null,
          null,
          null,
          null,
          null,
          null,
          null,
          null,
          null,
          null,
          null,
          null,
          127800000,
          119723000,
          115702000,
          104814000,
          101228000,
          null,
          124403000,
          119809000,
          104048000,
          86272000,
          109409000,
          null,
          null,
          4265423,
          5811436,
          5807750,
          5345252,
          5401193,
          null,
          null,
          90223000,
          90313000,
          76583000,
          55069000,
          43926000,
          null,
          null,
          null,
          null,
          null,
          null,
          null,
          null,
          null,
          null,
          null,
          null,
          null,
          null,
          null,
          null,
          null,
          null,
          null,
          null,
          1833720,
          2174327,
          707443,
          1988597,
          1844058,
          null,
          -2821343,
          196374,
          -341796,
          -184484,
          -274860,
          null,
          null,
          129950000,
          116122000,
          103402000,
          99015000,
          103051000,
          42840000,
          38233000,
          35271000,
          30882000,
          28962000,
          null,
          null,
          17151000,
          18921000,
          18567000,
          14684000,
          13497000,
          null,
          -249000,
          null,
          null,
          null,
          0,
          null,
          null,
          null,
          null,
          null,
          null,
          null,
          null,
          58401000,
          -70021000,
          89749000,
          38100000,
          46600000,
          44200000,
          30700000,
          42100000,
          null,
          null,
          2567000,
          2294000,
          1921000,
          2299000,
          2185000,
          -70153,
          179800,
          -154375,
          -285826,
          -104063,
          null,
          null,
          null,
          null,
          null,
          null,
          null,
          null,
          2817000,
          2216000,
          1574000,
          2854000,
          2203000,
          null,
          3258000,
          3037000,
          2968000,
          3596690,
          1964228,
          null,
          3883,
          -703,
          0,
          -2248595,
          39592,
          null
         ],
         "yaxis": "y"
        },
        {
         "alignmentgroup": "True",
         "hovertemplate": "Index=Selling General And Administration<br>Ticker=%{x}<br>Amount (USD)=%{y}<extra></extra>",
         "legendgroup": "Selling General And Administration",
         "marker": {
          "color": "#EF553B",
          "pattern": {
           "shape": ""
          }
         },
         "name": "Selling General And Administration",
         "offsetgroup": "Selling General And Administration",
         "orientation": "v",
         "showlegend": true,
         "textposition": "auto",
         "type": "bar",
         "x": [
          "OPTN",
          "OPTN",
          "OPTN",
          "OPTN",
          "OPTN",
          "OPTN",
          "UONEK",
          "UONEK",
          "UONEK",
          "UONEK",
          "UONEK",
          "UONEK",
          "SCOR",
          "SCOR",
          "SCOR",
          "SCOR",
          "SCOR",
          "SCOR",
          "SCOR",
          "AXON",
          "AXON",
          "AXON",
          "AXON",
          "AXON",
          "AXON",
          "AXON",
          "STRS",
          "STRS",
          "STRS",
          "STRS",
          "STRS",
          "STRS",
          "CMRX",
          "CMRX",
          "CMRX",
          "CMRX",
          "CMRX",
          "CMRX",
          "BSBK",
          "BSBK",
          "BSBK",
          "BSBK",
          "BSBK",
          "FNLC",
          "FNLC",
          "FNLC",
          "FNLC",
          "FNLC",
          "FNLC",
          "FNLC",
          "NVCR",
          "NVCR",
          "NVCR",
          "NVCR",
          "NVCR",
          "NVCR",
          "FNKO",
          "FNKO",
          "FNKO",
          "FNKO",
          "FNKO",
          "FNKO",
          "FNKO",
          "NVEC",
          "NVEC",
          "NVEC",
          "NVEC",
          "NVEC",
          "NVEC",
          "NVEC",
          "SLAB",
          "SLAB",
          "SLAB",
          "SLAB",
          "SLAB",
          "SLAB",
          "MSBI",
          "MSBI",
          "MSBI",
          "MSBI",
          "MSBI",
          "MSBI",
          "AGNC",
          "AGNC",
          "AGNC",
          "AGNC",
          "AGNC",
          "AGNC",
          "NMRK",
          "NMRK",
          "NMRK",
          "NMRK",
          "NMRK",
          "NMRK",
          "NMRK",
          "OPTX",
          "OPTX",
          "OPTX",
          "OPTX",
          "OPTX",
          "OPTX",
          "IFRX",
          "IFRX",
          "IFRX",
          "IFRX",
          "IFRX",
          "IFRX",
          "IFRX",
          "CVCO",
          "CVCO",
          "CVCO",
          "CVCO",
          "CVCO",
          "TWST",
          "TWST",
          "TWST",
          "TWST",
          "TWST",
          "TWST",
          "TWST",
          "STRT",
          "STRT",
          "STRT",
          "STRT",
          "STRT",
          "STRT",
          "SCNI",
          "SCNI",
          "SCNI",
          "SCNI",
          "SCNI",
          "SCNI",
          "NMRA",
          "NMRA",
          "NMRA",
          "NMRA",
          "NMRA",
          "NMRA",
          "NMRA",
          "SDA",
          "SDA",
          "SDA",
          "KLXE",
          "KLXE",
          "KLXE",
          "KLXE",
          "KLXE",
          "KLXE",
          "KLXE",
          "JAGX",
          "JAGX",
          "JAGX",
          "JAGX",
          "JAGX",
          "CEAD",
          "CEAD",
          "CEAD",
          "CEAD",
          "CEAD",
          "CEAD",
          "NVCT",
          "NVCT",
          "NVCT",
          "NVCT",
          "NVCT",
          "NVCT",
          "NVCT",
          "STRR",
          "STRR",
          "STRR",
          "STRR",
          "STRR",
          "STRR",
          "BCG",
          "BCG",
          "BCG",
          "BCG",
          "BCG",
          "BCG",
          "SCNX",
          "SCNX",
          "SCNX",
          "SCNX",
          "SCNX",
          "SCNX"
         ],
         "xaxis": "x",
         "y": [
          19475000,
          24129000,
          20518000,
          18960000,
          18011000,
          null,
          54609000,
          61151000,
          57006000,
          71156000,
          52768000,
          null,
          26947000,
          23631000,
          26146000,
          28577000,
          25754000,
          null,
          null,
          227019000,
          192189000,
          169427000,
          152669000,
          137106000,
          null,
          null,
          3363000,
          3842000,
          4465000,
          3194000,
          3183000,
          null,
          5173000,
          4533000,
          5546000,
          5170000,
          9304000,
          null,
          2454907,
          2516753,
          2524962,
          3418021,
          2692254,
          7091000,
          6762000,
          6147000,
          6621000,
          6055000,
          null,
          null,
          139894000,
          99933000,
          94327000,
          94736000,
          98636000,
          null,
          102804000,
          92662000,
          77897000,
          85595000,
          97380000,
          null,
          null,
          434783,
          568241,
          540404,
          473622,
          389311,
          null,
          null,
          36412000,
          36793000,
          38695000,
          33553000,
          33633000,
          null,
          26751000,
          24832000,
          26113000,
          26013000,
          24364000,
          null,
          22000000,
          21000000,
          15000000,
          16000000,
          20000000,
          null,
          560126000,
          441026000,
          403009000,
          379638000,
          497549000,
          null,
          null,
          1727480,
          2015783,
          2114543,
          1937762,
          1314885,
          null,
          4715343,
          4516780,
          5054726,
          5038689,
          4236535,
          null,
          null,
          65980000,
          66997000,
          64851000,
          61422000,
          63312000,
          56177000,
          53142000,
          56794000,
          55622000,
          52840000,
          null,
          null,
          15017000,
          14221000,
          8580000,
          12824000,
          13439000,
          null,
          764000,
          519000,
          484000,
          1205000,
          968000,
          null,
          17010000,
          16016000,
          15194000,
          14317000,
          11236000,
          null,
          null,
          56736000,
          -66758000,
          92985000,
          17500000,
          21200000,
          19300000,
          21600000,
          19900000,
          null,
          null,
          5786000,
          5838000,
          5824000,
          5005000,
          6010000,
          676519,
          657005,
          769434,
          709467,
          702999,
          null,
          1953000,
          1540000,
          1700000,
          1736000,
          2601000,
          null,
          null,
          7415000,
          5339000,
          4094000,
          3211000,
          3434000,
          null,
          1405000,
          892000,
          4632000,
          2585764,
          980956,
          null,
          2090217,
          1408314,
          5442612,
          3577710,
          779199,
          null
         ],
         "yaxis": "y"
        }
       ],
       "layout": {
        "autosize": true,
        "barmode": "group",
        "legend": {
         "title": {
          "text": "Index"
         },
         "tracegroupgap": 0
        },
        "template": {
         "data": {
          "bar": [
           {
            "error_x": {
             "color": "#2a3f5f"
            },
            "error_y": {
             "color": "#2a3f5f"
            },
            "marker": {
             "line": {
              "color": "#E5ECF6",
              "width": 0.5
             },
             "pattern": {
              "fillmode": "overlay",
              "size": 10,
              "solidity": 0.2
             }
            },
            "type": "bar"
           }
          ],
          "barpolar": [
           {
            "marker": {
             "line": {
              "color": "#E5ECF6",
              "width": 0.5
             },
             "pattern": {
              "fillmode": "overlay",
              "size": 10,
              "solidity": 0.2
             }
            },
            "type": "barpolar"
           }
          ],
          "carpet": [
           {
            "aaxis": {
             "endlinecolor": "#2a3f5f",
             "gridcolor": "white",
             "linecolor": "white",
             "minorgridcolor": "white",
             "startlinecolor": "#2a3f5f"
            },
            "baxis": {
             "endlinecolor": "#2a3f5f",
             "gridcolor": "white",
             "linecolor": "white",
             "minorgridcolor": "white",
             "startlinecolor": "#2a3f5f"
            },
            "type": "carpet"
           }
          ],
          "choropleth": [
           {
            "colorbar": {
             "outlinewidth": 0,
             "ticks": ""
            },
            "type": "choropleth"
           }
          ],
          "contour": [
           {
            "colorbar": {
             "outlinewidth": 0,
             "ticks": ""
            },
            "colorscale": [
             [
              0,
              "#0d0887"
             ],
             [
              0.1111111111111111,
              "#46039f"
             ],
             [
              0.2222222222222222,
              "#7201a8"
             ],
             [
              0.3333333333333333,
              "#9c179e"
             ],
             [
              0.4444444444444444,
              "#bd3786"
             ],
             [
              0.5555555555555556,
              "#d8576b"
             ],
             [
              0.6666666666666666,
              "#ed7953"
             ],
             [
              0.7777777777777778,
              "#fb9f3a"
             ],
             [
              0.8888888888888888,
              "#fdca26"
             ],
             [
              1,
              "#f0f921"
             ]
            ],
            "type": "contour"
           }
          ],
          "contourcarpet": [
           {
            "colorbar": {
             "outlinewidth": 0,
             "ticks": ""
            },
            "type": "contourcarpet"
           }
          ],
          "heatmap": [
           {
            "colorbar": {
             "outlinewidth": 0,
             "ticks": ""
            },
            "colorscale": [
             [
              0,
              "#0d0887"
             ],
             [
              0.1111111111111111,
              "#46039f"
             ],
             [
              0.2222222222222222,
              "#7201a8"
             ],
             [
              0.3333333333333333,
              "#9c179e"
             ],
             [
              0.4444444444444444,
              "#bd3786"
             ],
             [
              0.5555555555555556,
              "#d8576b"
             ],
             [
              0.6666666666666666,
              "#ed7953"
             ],
             [
              0.7777777777777778,
              "#fb9f3a"
             ],
             [
              0.8888888888888888,
              "#fdca26"
             ],
             [
              1,
              "#f0f921"
             ]
            ],
            "type": "heatmap"
           }
          ],
          "heatmapgl": [
           {
            "colorbar": {
             "outlinewidth": 0,
             "ticks": ""
            },
            "colorscale": [
             [
              0,
              "#0d0887"
             ],
             [
              0.1111111111111111,
              "#46039f"
             ],
             [
              0.2222222222222222,
              "#7201a8"
             ],
             [
              0.3333333333333333,
              "#9c179e"
             ],
             [
              0.4444444444444444,
              "#bd3786"
             ],
             [
              0.5555555555555556,
              "#d8576b"
             ],
             [
              0.6666666666666666,
              "#ed7953"
             ],
             [
              0.7777777777777778,
              "#fb9f3a"
             ],
             [
              0.8888888888888888,
              "#fdca26"
             ],
             [
              1,
              "#f0f921"
             ]
            ],
            "type": "heatmapgl"
           }
          ],
          "histogram": [
           {
            "marker": {
             "pattern": {
              "fillmode": "overlay",
              "size": 10,
              "solidity": 0.2
             }
            },
            "type": "histogram"
           }
          ],
          "histogram2d": [
           {
            "colorbar": {
             "outlinewidth": 0,
             "ticks": ""
            },
            "colorscale": [
             [
              0,
              "#0d0887"
             ],
             [
              0.1111111111111111,
              "#46039f"
             ],
             [
              0.2222222222222222,
              "#7201a8"
             ],
             [
              0.3333333333333333,
              "#9c179e"
             ],
             [
              0.4444444444444444,
              "#bd3786"
             ],
             [
              0.5555555555555556,
              "#d8576b"
             ],
             [
              0.6666666666666666,
              "#ed7953"
             ],
             [
              0.7777777777777778,
              "#fb9f3a"
             ],
             [
              0.8888888888888888,
              "#fdca26"
             ],
             [
              1,
              "#f0f921"
             ]
            ],
            "type": "histogram2d"
           }
          ],
          "histogram2dcontour": [
           {
            "colorbar": {
             "outlinewidth": 0,
             "ticks": ""
            },
            "colorscale": [
             [
              0,
              "#0d0887"
             ],
             [
              0.1111111111111111,
              "#46039f"
             ],
             [
              0.2222222222222222,
              "#7201a8"
             ],
             [
              0.3333333333333333,
              "#9c179e"
             ],
             [
              0.4444444444444444,
              "#bd3786"
             ],
             [
              0.5555555555555556,
              "#d8576b"
             ],
             [
              0.6666666666666666,
              "#ed7953"
             ],
             [
              0.7777777777777778,
              "#fb9f3a"
             ],
             [
              0.8888888888888888,
              "#fdca26"
             ],
             [
              1,
              "#f0f921"
             ]
            ],
            "type": "histogram2dcontour"
           }
          ],
          "mesh3d": [
           {
            "colorbar": {
             "outlinewidth": 0,
             "ticks": ""
            },
            "type": "mesh3d"
           }
          ],
          "parcoords": [
           {
            "line": {
             "colorbar": {
              "outlinewidth": 0,
              "ticks": ""
             }
            },
            "type": "parcoords"
           }
          ],
          "pie": [
           {
            "automargin": true,
            "type": "pie"
           }
          ],
          "scatter": [
           {
            "fillpattern": {
             "fillmode": "overlay",
             "size": 10,
             "solidity": 0.2
            },
            "type": "scatter"
           }
          ],
          "scatter3d": [
           {
            "line": {
             "colorbar": {
              "outlinewidth": 0,
              "ticks": ""
             }
            },
            "marker": {
             "colorbar": {
              "outlinewidth": 0,
              "ticks": ""
             }
            },
            "type": "scatter3d"
           }
          ],
          "scattercarpet": [
           {
            "marker": {
             "colorbar": {
              "outlinewidth": 0,
              "ticks": ""
             }
            },
            "type": "scattercarpet"
           }
          ],
          "scattergeo": [
           {
            "marker": {
             "colorbar": {
              "outlinewidth": 0,
              "ticks": ""
             }
            },
            "type": "scattergeo"
           }
          ],
          "scattergl": [
           {
            "marker": {
             "colorbar": {
              "outlinewidth": 0,
              "ticks": ""
             }
            },
            "type": "scattergl"
           }
          ],
          "scattermapbox": [
           {
            "marker": {
             "colorbar": {
              "outlinewidth": 0,
              "ticks": ""
             }
            },
            "type": "scattermapbox"
           }
          ],
          "scatterpolar": [
           {
            "marker": {
             "colorbar": {
              "outlinewidth": 0,
              "ticks": ""
             }
            },
            "type": "scatterpolar"
           }
          ],
          "scatterpolargl": [
           {
            "marker": {
             "colorbar": {
              "outlinewidth": 0,
              "ticks": ""
             }
            },
            "type": "scatterpolargl"
           }
          ],
          "scatterternary": [
           {
            "marker": {
             "colorbar": {
              "outlinewidth": 0,
              "ticks": ""
             }
            },
            "type": "scatterternary"
           }
          ],
          "surface": [
           {
            "colorbar": {
             "outlinewidth": 0,
             "ticks": ""
            },
            "colorscale": [
             [
              0,
              "#0d0887"
             ],
             [
              0.1111111111111111,
              "#46039f"
             ],
             [
              0.2222222222222222,
              "#7201a8"
             ],
             [
              0.3333333333333333,
              "#9c179e"
             ],
             [
              0.4444444444444444,
              "#bd3786"
             ],
             [
              0.5555555555555556,
              "#d8576b"
             ],
             [
              0.6666666666666666,
              "#ed7953"
             ],
             [
              0.7777777777777778,
              "#fb9f3a"
             ],
             [
              0.8888888888888888,
              "#fdca26"
             ],
             [
              1,
              "#f0f921"
             ]
            ],
            "type": "surface"
           }
          ],
          "table": [
           {
            "cells": {
             "fill": {
              "color": "#EBF0F8"
             },
             "line": {
              "color": "white"
             }
            },
            "header": {
             "fill": {
              "color": "#C8D4E3"
             },
             "line": {
              "color": "white"
             }
            },
            "type": "table"
           }
          ]
         },
         "layout": {
          "annotationdefaults": {
           "arrowcolor": "#2a3f5f",
           "arrowhead": 0,
           "arrowwidth": 1
          },
          "autotypenumbers": "strict",
          "coloraxis": {
           "colorbar": {
            "outlinewidth": 0,
            "ticks": ""
           }
          },
          "colorscale": {
           "diverging": [
            [
             0,
             "#8e0152"
            ],
            [
             0.1,
             "#c51b7d"
            ],
            [
             0.2,
             "#de77ae"
            ],
            [
             0.3,
             "#f1b6da"
            ],
            [
             0.4,
             "#fde0ef"
            ],
            [
             0.5,
             "#f7f7f7"
            ],
            [
             0.6,
             "#e6f5d0"
            ],
            [
             0.7,
             "#b8e186"
            ],
            [
             0.8,
             "#7fbc41"
            ],
            [
             0.9,
             "#4d9221"
            ],
            [
             1,
             "#276419"
            ]
           ],
           "sequential": [
            [
             0,
             "#0d0887"
            ],
            [
             0.1111111111111111,
             "#46039f"
            ],
            [
             0.2222222222222222,
             "#7201a8"
            ],
            [
             0.3333333333333333,
             "#9c179e"
            ],
            [
             0.4444444444444444,
             "#bd3786"
            ],
            [
             0.5555555555555556,
             "#d8576b"
            ],
            [
             0.6666666666666666,
             "#ed7953"
            ],
            [
             0.7777777777777778,
             "#fb9f3a"
            ],
            [
             0.8888888888888888,
             "#fdca26"
            ],
            [
             1,
             "#f0f921"
            ]
           ],
           "sequentialminus": [
            [
             0,
             "#0d0887"
            ],
            [
             0.1111111111111111,
             "#46039f"
            ],
            [
             0.2222222222222222,
             "#7201a8"
            ],
            [
             0.3333333333333333,
             "#9c179e"
            ],
            [
             0.4444444444444444,
             "#bd3786"
            ],
            [
             0.5555555555555556,
             "#d8576b"
            ],
            [
             0.6666666666666666,
             "#ed7953"
            ],
            [
             0.7777777777777778,
             "#fb9f3a"
            ],
            [
             0.8888888888888888,
             "#fdca26"
            ],
            [
             1,
             "#f0f921"
            ]
           ]
          },
          "colorway": [
           "#636efa",
           "#EF553B",
           "#00cc96",
           "#ab63fa",
           "#FFA15A",
           "#19d3f3",
           "#FF6692",
           "#B6E880",
           "#FF97FF",
           "#FECB52"
          ],
          "font": {
           "color": "#2a3f5f"
          },
          "geo": {
           "bgcolor": "white",
           "lakecolor": "white",
           "landcolor": "#E5ECF6",
           "showlakes": true,
           "showland": true,
           "subunitcolor": "white"
          },
          "hoverlabel": {
           "align": "left"
          },
          "hovermode": "closest",
          "mapbox": {
           "style": "light"
          },
          "paper_bgcolor": "white",
          "plot_bgcolor": "#E5ECF6",
          "polar": {
           "angularaxis": {
            "gridcolor": "white",
            "linecolor": "white",
            "ticks": ""
           },
           "bgcolor": "#E5ECF6",
           "radialaxis": {
            "gridcolor": "white",
            "linecolor": "white",
            "ticks": ""
           }
          },
          "scene": {
           "xaxis": {
            "backgroundcolor": "#E5ECF6",
            "gridcolor": "white",
            "gridwidth": 2,
            "linecolor": "white",
            "showbackground": true,
            "ticks": "",
            "zerolinecolor": "white"
           },
           "yaxis": {
            "backgroundcolor": "#E5ECF6",
            "gridcolor": "white",
            "gridwidth": 2,
            "linecolor": "white",
            "showbackground": true,
            "ticks": "",
            "zerolinecolor": "white"
           },
           "zaxis": {
            "backgroundcolor": "#E5ECF6",
            "gridcolor": "white",
            "gridwidth": 2,
            "linecolor": "white",
            "showbackground": true,
            "ticks": "",
            "zerolinecolor": "white"
           }
          },
          "shapedefaults": {
           "line": {
            "color": "#2a3f5f"
           }
          },
          "ternary": {
           "aaxis": {
            "gridcolor": "white",
            "linecolor": "white",
            "ticks": ""
           },
           "baxis": {
            "gridcolor": "white",
            "linecolor": "white",
            "ticks": ""
           },
           "bgcolor": "#E5ECF6",
           "caxis": {
            "gridcolor": "white",
            "linecolor": "white",
            "ticks": ""
           }
          },
          "title": {
           "x": 0.05
          },
          "xaxis": {
           "automargin": true,
           "gridcolor": "white",
           "linecolor": "white",
           "ticks": "",
           "title": {
            "standoff": 15
           },
           "zerolinecolor": "white",
           "zerolinewidth": 2
          },
          "yaxis": {
           "automargin": true,
           "gridcolor": "white",
           "linecolor": "white",
           "ticks": "",
           "title": {
            "standoff": 15
           },
           "zerolinecolor": "white",
           "zerolinewidth": 2
          }
         }
        },
        "title": {
         "text": "PROFITABILITY vs. Cost control (by company)"
        },
        "xaxis": {
         "anchor": "y",
         "autorange": true,
         "domain": [
          0,
          1
         ],
         "range": [
          -0.5,
          29.5
         ],
         "title": {
          "text": "Ticker"
         },
         "type": "category"
        },
        "yaxis": {
         "anchor": "x",
         "autorange": true,
         "domain": [
          0,
          1
         ],
         "range": [
          -200652611.1111111,
          2411979611.111111
         ],
         "title": {
          "text": "Amount (USD)"
         },
         "type": "linear"
        }
       }
      },
      "image/png": "[encoded data removed]",
      "text/html": [
       "<div>                            <div id=\"ce1d9ac2-7f03-4a42-823b-0c597a09bfcd\" class=\"plotly-graph-div\" style=\"height:525px; width:100%;\"></div>            <script type=\"text/javascript\">                require([\"plotly\"], function(Plotly) {                    window.PLOTLYENV=window.PLOTLYENV || {};                                    if (document.getElementById(\"ce1d9ac2-7f03-4a42-823b-0c597a09bfcd\")) {                    Plotly.newPlot(                        \"ce1d9ac2-7f03-4a42-823b-0c597a09bfcd\",                        [{\"alignmentgroup\":\"True\",\"hovertemplate\":\"Index=Gross Profit\\u003cbr\\u003eTicker=%{x}\\u003cbr\\u003eAmount (USD)=%{y}\\u003cextra\\u003e\\u003c\\u002fextra\\u003e\",\"legendgroup\":\"Gross Profit\",\"marker\":{\"color\":\"#636efa\",\"pattern\":{\"shape\":\"\"}},\"name\":\"Gross Profit\",\"offsetgroup\":\"Gross Profit\",\"orientation\":\"v\",\"showlegend\":true,\"textposition\":\"auto\",\"x\":[\"OPTN\",\"OPTN\",\"OPTN\",\"OPTN\",\"OPTN\",\"OPTN\",\"UONEK\",\"UONEK\",\"UONEK\",\"UONEK\",\"UONEK\",\"UONEK\",\"SCOR\",\"SCOR\",\"SCOR\",\"SCOR\",\"SCOR\",\"SCOR\",\"SCOR\",\"AXON\",\"AXON\",\"AXON\",\"AXON\",\"AXON\",\"AXON\",\"AXON\",\"STRS\",\"STRS\",\"STRS\",\"STRS\",\"STRS\",\"STRS\",\"CMRX\",\"CMRX\",\"CMRX\",\"CMRX\",\"CMRX\",\"CMRX\",\"BSBK\",\"BSBK\",\"BSBK\",\"BSBK\",\"BSBK\",\"FNLC\",\"FNLC\",\"FNLC\",\"FNLC\",\"FNLC\",\"FNLC\",\"FNLC\",\"NVCR\",\"NVCR\",\"NVCR\",\"NVCR\",\"NVCR\",\"NVCR\",\"FNKO\",\"FNKO\",\"FNKO\",\"FNKO\",\"FNKO\",\"FNKO\",\"FNKO\",\"NVEC\",\"NVEC\",\"NVEC\",\"NVEC\",\"NVEC\",\"NVEC\",\"NVEC\",\"SLAB\",\"SLAB\",\"SLAB\",\"SLAB\",\"SLAB\",\"SLAB\",\"MSBI\",\"MSBI\",\"MSBI\",\"MSBI\",\"MSBI\",\"MSBI\",\"AGNC\",\"AGNC\",\"AGNC\",\"AGNC\",\"AGNC\",\"AGNC\",\"NMRK\",\"NMRK\",\"NMRK\",\"NMRK\",\"NMRK\",\"NMRK\",\"NMRK\",\"OPTX\",\"OPTX\",\"OPTX\",\"OPTX\",\"OPTX\",\"OPTX\",\"IFRX\",\"IFRX\",\"IFRX\",\"IFRX\",\"IFRX\",\"IFRX\",\"IFRX\",\"CVCO\",\"CVCO\",\"CVCO\",\"CVCO\",\"CVCO\",\"TWST\",\"TWST\",\"TWST\",\"TWST\",\"TWST\",\"TWST\",\"TWST\",\"STRT\",\"STRT\",\"STRT\",\"STRT\",\"STRT\",\"STRT\",\"SCNI\",\"SCNI\",\"SCNI\",\"SCNI\",\"SCNI\",\"SCNI\",\"NMRA\",\"NMRA\",\"NMRA\",\"NMRA\",\"NMRA\",\"NMRA\",\"NMRA\",\"SDA\",\"SDA\",\"SDA\",\"KLXE\",\"KLXE\",\"KLXE\",\"KLXE\",\"KLXE\",\"KLXE\",\"KLXE\",\"JAGX\",\"JAGX\",\"JAGX\",\"JAGX\",\"JAGX\",\"CEAD\",\"CEAD\",\"CEAD\",\"CEAD\",\"CEAD\",\"CEAD\",\"NVCT\",\"NVCT\",\"NVCT\",\"NVCT\",\"NVCT\",\"NVCT\",\"NVCT\",\"STRR\",\"STRR\",\"STRR\",\"STRR\",\"STRR\",\"STRR\",\"BCG\",\"BCG\",\"BCG\",\"BCG\",\"BCG\",\"BCG\",\"SCNX\",\"SCNX\",\"SCNX\",\"SCNX\",\"SCNX\",\"SCNX\"],\"xaxis\":\"x\",\"y\":[18372000.0,18509000.0,13649000.0,17734000.0,17598000.0,null,76473000.0,84481000.0,71744000.0,83705000.0,83912000.0,null,40253000.0,36474000.0,33884000.0,36728000.0,44881000.0,null,null,345849000.0,330747000.0,303735000.0,260046000.0,263887000.0,null,null,218000.0,922000.0,8150000.0,522000.0,-146000.0,null,null,null,null,4000.0,11000.0,26000.0,null,null,null,null,null,null,null,null,null,null,null,null,127800000.0,119723000.0,115702000.0,104814000.0,101228000.0,null,124403000.0,119809000.0,104048000.0,86272000.0,109409000.0,null,null,4265423.0,5811436.0,5807750.0,5345252.0,5401193.0,null,null,90223000.0,90313000.0,76583000.0,55069000.0,43926000.0,null,null,null,null,null,null,null,null,null,null,null,null,null,null,null,null,null,null,null,null,1833720.0,2174327.0,707443.0,1988597.0,1844058.0,null,-2821343.0,196374.0,-341796.0,-184484.0,-274860.0,null,null,129950000.0,116122000.0,103402000.0,99015000.0,103051000.0,42840000.0,38233000.0,35271000.0,30882000.0,28962000.0,null,null,17151000.0,18921000.0,18567000.0,14684000.0,13497000.0,null,-249000.0,null,null,null,0.0,null,null,null,null,null,null,null,null,58401000.0,-70021000.0,89749000.0,38100000.0,46600000.0,44200000.0,30700000.0,42100000.0,null,null,2567000.0,2294000.0,1921000.0,2299000.0,2185000.0,-70153.0,179800.0,-154375.0,-285826.0,-104063.0,null,null,null,null,null,null,null,null,2817000.0,2216000.0,1574000.0,2854000.0,2203000.0,null,3258000.0,3037000.0,2968000.0,3596690.0,1964228.0,null,3883.0,-703.0,0.0,-2248595.0,39592.0,null],\"yaxis\":\"y\",\"type\":\"bar\"},{\"alignmentgroup\":\"True\",\"hovertemplate\":\"Index=Selling General And Administration\\u003cbr\\u003eTicker=%{x}\\u003cbr\\u003eAmount (USD)=%{y}\\u003cextra\\u003e\\u003c\\u002fextra\\u003e\",\"legendgroup\":\"Selling General And Administration\",\"marker\":{\"color\":\"#EF553B\",\"pattern\":{\"shape\":\"\"}},\"name\":\"Selling General And Administration\",\"offsetgroup\":\"Selling General And Administration\",\"orientation\":\"v\",\"showlegend\":true,\"textposition\":\"auto\",\"x\":[\"OPTN\",\"OPTN\",\"OPTN\",\"OPTN\",\"OPTN\",\"OPTN\",\"UONEK\",\"UONEK\",\"UONEK\",\"UONEK\",\"UONEK\",\"UONEK\",\"SCOR\",\"SCOR\",\"SCOR\",\"SCOR\",\"SCOR\",\"SCOR\",\"SCOR\",\"AXON\",\"AXON\",\"AXON\",\"AXON\",\"AXON\",\"AXON\",\"AXON\",\"STRS\",\"STRS\",\"STRS\",\"STRS\",\"STRS\",\"STRS\",\"CMRX\",\"CMRX\",\"CMRX\",\"CMRX\",\"CMRX\",\"CMRX\",\"BSBK\",\"BSBK\",\"BSBK\",\"BSBK\",\"BSBK\",\"FNLC\",\"FNLC\",\"FNLC\",\"FNLC\",\"FNLC\",\"FNLC\",\"FNLC\",\"NVCR\",\"NVCR\",\"NVCR\",\"NVCR\",\"NVCR\",\"NVCR\",\"FNKO\",\"FNKO\",\"FNKO\",\"FNKO\",\"FNKO\",\"FNKO\",\"FNKO\",\"NVEC\",\"NVEC\",\"NVEC\",\"NVEC\",\"NVEC\",\"NVEC\",\"NVEC\",\"SLAB\",\"SLAB\",\"SLAB\",\"SLAB\",\"SLAB\",\"SLAB\",\"MSBI\",\"MSBI\",\"MSBI\",\"MSBI\",\"MSBI\",\"MSBI\",\"AGNC\",\"AGNC\",\"AGNC\",\"AGNC\",\"AGNC\",\"AGNC\",\"NMRK\",\"NMRK\",\"NMRK\",\"NMRK\",\"NMRK\",\"NMRK\",\"NMRK\",\"OPTX\",\"OPTX\",\"OPTX\",\"OPTX\",\"OPTX\",\"OPTX\",\"IFRX\",\"IFRX\",\"IFRX\",\"IFRX\",\"IFRX\",\"IFRX\",\"IFRX\",\"CVCO\",\"CVCO\",\"CVCO\",\"CVCO\",\"CVCO\",\"TWST\",\"TWST\",\"TWST\",\"TWST\",\"TWST\",\"TWST\",\"TWST\",\"STRT\",\"STRT\",\"STRT\",\"STRT\",\"STRT\",\"STRT\",\"SCNI\",\"SCNI\",\"SCNI\",\"SCNI\",\"SCNI\",\"SCNI\",\"NMRA\",\"NMRA\",\"NMRA\",\"NMRA\",\"NMRA\",\"NMRA\",\"NMRA\",\"SDA\",\"SDA\",\"SDA\",\"KLXE\",\"KLXE\",\"KLXE\",\"KLXE\",\"KLXE\",\"KLXE\",\"KLXE\",\"JAGX\",\"JAGX\",\"JAGX\",\"JAGX\",\"JAGX\",\"CEAD\",\"CEAD\",\"CEAD\",\"CEAD\",\"CEAD\",\"CEAD\",\"NVCT\",\"NVCT\",\"NVCT\",\"NVCT\",\"NVCT\",\"NVCT\",\"NVCT\",\"STRR\",\"STRR\",\"STRR\",\"STRR\",\"STRR\",\"STRR\",\"BCG\",\"BCG\",\"BCG\",\"BCG\",\"BCG\",\"BCG\",\"SCNX\",\"SCNX\",\"SCNX\",\"SCNX\",\"SCNX\",\"SCNX\"],\"xaxis\":\"x\",\"y\":[19475000.0,24129000.0,20518000.0,18960000.0,18011000.0,null,54609000.0,61151000.0,57006000.0,71156000.0,52768000.0,null,26947000.0,23631000.0,26146000.0,28577000.0,25754000.0,null,null,227019000.0,192189000.0,169427000.0,152669000.0,137106000.0,null,null,3363000.0,3842000.0,4465000.0,3194000.0,3183000.0,null,5173000.0,4533000.0,5546000.0,5170000.0,9304000.0,null,2454907.0,2516753.0,2524962.0,3418021.0,2692254.0,7091000.0,6762000.0,6147000.0,6621000.0,6055000.0,null,null,139894000.0,99933000.0,94327000.0,94736000.0,98636000.0,null,102804000.0,92662000.0,77897000.0,85595000.0,97380000.0,null,null,434783.0,568241.0,540404.0,473622.0,389311.0,null,null,36412000.0,36793000.0,38695000.0,33553000.0,33633000.0,null,26751000.0,24832000.0,26113000.0,26013000.0,24364000.0,null,22000000.0,21000000.0,15000000.0,16000000.0,20000000.0,null,560126000.0,441026000.0,403009000.0,379638000.0,497549000.0,null,null,1727480.0,2015783.0,2114543.0,1937762.0,1314885.0,null,4715343.0,4516780.0,5054726.0,5038689.0,4236535.0,null,null,65980000.0,66997000.0,64851000.0,61422000.0,63312000.0,56177000.0,53142000.0,56794000.0,55622000.0,52840000.0,null,null,15017000.0,14221000.0,8580000.0,12824000.0,13439000.0,null,764000.0,519000.0,484000.0,1205000.0,968000.0,null,17010000.0,16016000.0,15194000.0,14317000.0,11236000.0,null,null,56736000.0,-66758000.0,92985000.0,17500000.0,21200000.0,19300000.0,21600000.0,19900000.0,null,null,5786000.0,5838000.0,5824000.0,5005000.0,6010000.0,676519.0,657005.0,769434.0,709467.0,702999.0,null,1953000.0,1540000.0,1700000.0,1736000.0,2601000.0,null,null,7415000.0,5339000.0,4094000.0,3211000.0,3434000.0,null,1405000.0,892000.0,4632000.0,2585764.0,980956.0,null,2090217.0,1408314.0,5442612.0,3577710.0,779199.0,null],\"yaxis\":\"y\",\"type\":\"bar\"}],                        {\"template\":{\"data\":{\"histogram2dcontour\":[{\"type\":\"histogram2dcontour\",\"colorbar\":{\"outlinewidth\":0,\"ticks\":\"\"},\"colorscale\":[[0.0,\"#0d0887\"],[0.1111111111111111,\"#46039f\"],[0.2222222222222222,\"#7201a8\"],[0.3333333333333333,\"#9c179e\"],[0.4444444444444444,\"#bd3786\"],[0.5555555555555556,\"#d8576b\"],[0.6666666666666666,\"#ed7953\"],[0.7777777777777778,\"#fb9f3a\"],[0.8888888888888888,\"#fdca26\"],[1.0,\"#f0f921\"]]}],\"choropleth\":[{\"type\":\"choropleth\",\"colorbar\":{\"outlinewidth\":0,\"ticks\":\"\"}}],\"histogram2d\":[{\"type\":\"histogram2d\",\"colorbar\":{\"outlinewidth\":0,\"ticks\":\"\"},\"colorscale\":[[0.0,\"#0d0887\"],[0.1111111111111111,\"#46039f\"],[0.2222222222222222,\"#7201a8\"],[0.3333333333333333,\"#9c179e\"],[0.4444444444444444,\"#bd3786\"],[0.5555555555555556,\"#d8576b\"],[0.6666666666666666,\"#ed7953\"],[0.7777777777777778,\"#fb9f3a\"],[0.8888888888888888,\"#fdca26\"],[1.0,\"#f0f921\"]]}],\"heatmap\":[{\"type\":\"heatmap\",\"colorbar\":{\"outlinewidth\":0,\"ticks\":\"\"},\"colorscale\":[[0.0,\"#0d0887\"],[0.1111111111111111,\"#46039f\"],[0.2222222222222222,\"#7201a8\"],[0.3333333333333333,\"#9c179e\"],[0.4444444444444444,\"#bd3786\"],[0.5555555555555556,\"#d8576b\"],[0.6666666666666666,\"#ed7953\"],[0.7777777777777778,\"#fb9f3a\"],[0.8888888888888888,\"#fdca26\"],[1.0,\"#f0f921\"]]}],\"heatmapgl\":[{\"type\":\"heatmapgl\",\"colorbar\":{\"outlinewidth\":0,\"ticks\":\"\"},\"colorscale\":[[0.0,\"#0d0887\"],[0.1111111111111111,\"#46039f\"],[0.2222222222222222,\"#7201a8\"],[0.3333333333333333,\"#9c179e\"],[0.4444444444444444,\"#bd3786\"],[0.5555555555555556,\"#d8576b\"],[0.6666666666666666,\"#ed7953\"],[0.7777777777777778,\"#fb9f3a\"],[0.8888888888888888,\"#fdca26\"],[1.0,\"#f0f921\"]]}],\"contourcarpet\":[{\"type\":\"contourcarpet\",\"colorbar\":{\"outlinewidth\":0,\"ticks\":\"\"}}],\"contour\":[{\"type\":\"contour\",\"colorbar\":{\"outlinewidth\":0,\"ticks\":\"\"},\"colorscale\":[[0.0,\"#0d0887\"],[0.1111111111111111,\"#46039f\"],[0.2222222222222222,\"#7201a8\"],[0.3333333333333333,\"#9c179e\"],[0.4444444444444444,\"#bd3786\"],[0.5555555555555556,\"#d8576b\"],[0.6666666666666666,\"#ed7953\"],[0.7777777777777778,\"#fb9f3a\"],[0.8888888888888888,\"#fdca26\"],[1.0,\"#f0f921\"]]}],\"surface\":[{\"type\":\"surface\",\"colorbar\":{\"outlinewidth\":0,\"ticks\":\"\"},\"colorscale\":[[0.0,\"#0d0887\"],[0.1111111111111111,\"#46039f\"],[0.2222222222222222,\"#7201a8\"],[0.3333333333333333,\"#9c179e\"],[0.4444444444444444,\"#bd3786\"],[0.5555555555555556,\"#d8576b\"],[0.6666666666666666,\"#ed7953\"],[0.7777777777777778,\"#fb9f3a\"],[0.8888888888888888,\"#fdca26\"],[1.0,\"#f0f921\"]]}],\"mesh3d\":[{\"type\":\"mesh3d\",\"colorbar\":{\"outlinewidth\":0,\"ticks\":\"\"}}],\"scatter\":[{\"fillpattern\":{\"fillmode\":\"overlay\",\"size\":10,\"solidity\":0.2},\"type\":\"scatter\"}],\"parcoords\":[{\"type\":\"parcoords\",\"line\":{\"colorbar\":{\"outlinewidth\":0,\"ticks\":\"\"}}}],\"scatterpolargl\":[{\"type\":\"scatterpolargl\",\"marker\":{\"colorbar\":{\"outlinewidth\":0,\"ticks\":\"\"}}}],\"bar\":[{\"error_x\":{\"color\":\"#2a3f5f\"},\"error_y\":{\"color\":\"#2a3f5f\"},\"marker\":{\"line\":{\"color\":\"#E5ECF6\",\"width\":0.5},\"pattern\":{\"fillmode\":\"overlay\",\"size\":10,\"solidity\":0.2}},\"type\":\"bar\"}],\"scattergeo\":[{\"type\":\"scattergeo\",\"marker\":{\"colorbar\":{\"outlinewidth\":0,\"ticks\":\"\"}}}],\"scatterpolar\":[{\"type\":\"scatterpolar\",\"marker\":{\"colorbar\":{\"outlinewidth\":0,\"ticks\":\"\"}}}],\"histogram\":[{\"marker\":{\"pattern\":{\"fillmode\":\"overlay\",\"size\":10,\"solidity\":0.2}},\"type\":\"histogram\"}],\"scattergl\":[{\"type\":\"scattergl\",\"marker\":{\"colorbar\":{\"outlinewidth\":0,\"ticks\":\"\"}}}],\"scatter3d\":[{\"type\":\"scatter3d\",\"line\":{\"colorbar\":{\"outlinewidth\":0,\"ticks\":\"\"}},\"marker\":{\"colorbar\":{\"outlinewidth\":0,\"ticks\":\"\"}}}],\"scattermapbox\":[{\"type\":\"scattermapbox\",\"marker\":{\"colorbar\":{\"outlinewidth\":0,\"ticks\":\"\"}}}],\"scatterternary\":[{\"type\":\"scatterternary\",\"marker\":{\"colorbar\":{\"outlinewidth\":0,\"ticks\":\"\"}}}],\"scattercarpet\":[{\"type\":\"scattercarpet\",\"marker\":{\"colorbar\":{\"outlinewidth\":0,\"ticks\":\"\"}}}],\"carpet\":[{\"aaxis\":{\"endlinecolor\":\"#2a3f5f\",\"gridcolor\":\"white\",\"linecolor\":\"white\",\"minorgridcolor\":\"white\",\"startlinecolor\":\"#2a3f5f\"},\"baxis\":{\"endlinecolor\":\"#2a3f5f\",\"gridcolor\":\"white\",\"linecolor\":\"white\",\"minorgridcolor\":\"white\",\"startlinecolor\":\"#2a3f5f\"},\"type\":\"carpet\"}],\"table\":[{\"cells\":{\"fill\":{\"color\":\"#EBF0F8\"},\"line\":{\"color\":\"white\"}},\"header\":{\"fill\":{\"color\":\"#C8D4E3\"},\"line\":{\"color\":\"white\"}},\"type\":\"table\"}],\"barpolar\":[{\"marker\":{\"line\":{\"color\":\"#E5ECF6\",\"width\":0.5},\"pattern\":{\"fillmode\":\"overlay\",\"size\":10,\"solidity\":0.2}},\"type\":\"barpolar\"}],\"pie\":[{\"automargin\":true,\"type\":\"pie\"}]},\"layout\":{\"autotypenumbers\":\"strict\",\"colorway\":[\"#636efa\",\"#EF553B\",\"#00cc96\",\"#ab63fa\",\"#FFA15A\",\"#19d3f3\",\"#FF6692\",\"#B6E880\",\"#FF97FF\",\"#FECB52\"],\"font\":{\"color\":\"#2a3f5f\"},\"hovermode\":\"closest\",\"hoverlabel\":{\"align\":\"left\"},\"paper_bgcolor\":\"white\",\"plot_bgcolor\":\"#E5ECF6\",\"polar\":{\"bgcolor\":\"#E5ECF6\",\"angularaxis\":{\"gridcolor\":\"white\",\"linecolor\":\"white\",\"ticks\":\"\"},\"radialaxis\":{\"gridcolor\":\"white\",\"linecolor\":\"white\",\"ticks\":\"\"}},\"ternary\":{\"bgcolor\":\"#E5ECF6\",\"aaxis\":{\"gridcolor\":\"white\",\"linecolor\":\"white\",\"ticks\":\"\"},\"baxis\":{\"gridcolor\":\"white\",\"linecolor\":\"white\",\"ticks\":\"\"},\"caxis\":{\"gridcolor\":\"white\",\"linecolor\":\"white\",\"ticks\":\"\"}},\"coloraxis\":{\"colorbar\":{\"outlinewidth\":0,\"ticks\":\"\"}},\"colorscale\":{\"sequential\":[[0.0,\"#0d0887\"],[0.1111111111111111,\"#46039f\"],[0.2222222222222222,\"#7201a8\"],[0.3333333333333333,\"#9c179e\"],[0.4444444444444444,\"#bd3786\"],[0.5555555555555556,\"#d8576b\"],[0.6666666666666666,\"#ed7953\"],[0.7777777777777778,\"#fb9f3a\"],[0.8888888888888888,\"#fdca26\"],[1.0,\"#f0f921\"]],\"sequentialminus\":[[0.0,\"#0d0887\"],[0.1111111111111111,\"#46039f\"],[0.2222222222222222,\"#7201a8\"],[0.3333333333333333,\"#9c179e\"],[0.4444444444444444,\"#bd3786\"],[0.5555555555555556,\"#d8576b\"],[0.6666666666666666,\"#ed7953\"],[0.7777777777777778,\"#fb9f3a\"],[0.8888888888888888,\"#fdca26\"],[1.0,\"#f0f921\"]],\"diverging\":[[0,\"#8e0152\"],[0.1,\"#c51b7d\"],[0.2,\"#de77ae\"],[0.3,\"#f1b6da\"],[0.4,\"#fde0ef\"],[0.5,\"#f7f7f7\"],[0.6,\"#e6f5d0\"],[0.7,\"#b8e186\"],[0.8,\"#7fbc41\"],[0.9,\"#4d9221\"],[1,\"#276419\"]]},\"xaxis\":{\"gridcolor\":\"white\",\"linecolor\":\"white\",\"ticks\":\"\",\"title\":{\"standoff\":15},\"zerolinecolor\":\"white\",\"automargin\":true,\"zerolinewidth\":2},\"yaxis\":{\"gridcolor\":\"white\",\"linecolor\":\"white\",\"ticks\":\"\",\"title\":{\"standoff\":15},\"zerolinecolor\":\"white\",\"automargin\":true,\"zerolinewidth\":2},\"scene\":{\"xaxis\":{\"backgroundcolor\":\"#E5ECF6\",\"gridcolor\":\"white\",\"linecolor\":\"white\",\"showbackground\":true,\"ticks\":\"\",\"zerolinecolor\":\"white\",\"gridwidth\":2},\"yaxis\":{\"backgroundcolor\":\"#E5ECF6\",\"gridcolor\":\"white\",\"linecolor\":\"white\",\"showbackground\":true,\"ticks\":\"\",\"zerolinecolor\":\"white\",\"gridwidth\":2},\"zaxis\":{\"backgroundcolor\":\"#E5ECF6\",\"gridcolor\":\"white\",\"linecolor\":\"white\",\"showbackground\":true,\"ticks\":\"\",\"zerolinecolor\":\"white\",\"gridwidth\":2}},\"shapedefaults\":{\"line\":{\"color\":\"#2a3f5f\"}},\"annotationdefaults\":{\"arrowcolor\":\"#2a3f5f\",\"arrowhead\":0,\"arrowwidth\":1},\"geo\":{\"bgcolor\":\"white\",\"landcolor\":\"#E5ECF6\",\"subunitcolor\":\"white\",\"showland\":true,\"showlakes\":true,\"lakecolor\":\"white\"},\"title\":{\"x\":0.05},\"mapbox\":{\"style\":\"light\"}}},\"xaxis\":{\"anchor\":\"y\",\"domain\":[0.0,1.0],\"title\":{\"text\":\"Ticker\"}},\"yaxis\":{\"anchor\":\"x\",\"domain\":[0.0,1.0],\"title\":{\"text\":\"Amount (USD)\"}},\"legend\":{\"title\":{\"text\":\"Index\"},\"tracegroupgap\":0},\"title\":{\"text\":\"PROFITABILITY vs. Cost control (by company)\"},\"barmode\":\"group\"},                        {\"responsive\": true}                    ).then(function(){\n",
       "                            \n",
       "var gd = document.getElementById('ce1d9ac2-7f03-4a42-823b-0c597a09bfcd');\n",
       "var x = new MutationObserver(function (mutations, observer) {{\n",
       "        var display = window.getComputedStyle(gd).display;\n",
       "        if (!display || display === 'none') {{\n",
       "            console.log([gd, 'removed!']);\n",
       "            Plotly.purge(gd);\n",
       "            observer.disconnect();\n",
       "        }}\n",
       "}});\n",
       "\n",
       "// Listen for the removal of the full notebook cells\n",
       "var notebookContainer = gd.closest('#notebook-container');\n",
       "if (notebookContainer) {{\n",
       "    x.observe(notebookContainer, {childList: true});\n",
       "}}\n",
       "\n",
       "// Listen for the clearing of the current output cell\n",
       "var outputEl = gd.closest('.output');\n",
       "if (outputEl) {{\n",
       "    x.observe(outputEl, {childList: true});\n",
       "}}\n",
       "\n",
       "                        })                };                });            </script>        </div>"
      ]
     },
     "metadata": {},
     "output_type": "display_data"
    }
   ],
   "source": [
    "fig1 = px.bar(\n",
    "    income,\n",
    "    x='Ticker',\n",
    "    y=['Gross Profit', 'Selling General And Administration'],\n",
    "    barmode='group',\n",
    "    title='PROFITABILITY vs. Cost control (by company)',\n",
    "    labels={'value': 'Amount (USD)', 'variable': 'Index'}\n",
    ")\n",
    "fig1.show()"
   ]
  },
  {
   "cell_type": "markdown",
   "id": "c5da5176-b771-452f-9945-831d1af195ec",
   "metadata": {},
   "source": [
    "# 2.1 PROFITABILITY vs. Cost control\n",
    "I choose a bar chart to horizontally compare the gross profit and sales management expenses of different companies. High gross profit but a large proportion of expenses may imply efficiency issues.Many companies have a high proportion of operating expenses, and the differences in operating and revenue levels between these companies are often significant. Therefore, directly comparing their operating amounts may not be a good choice. I chose to analyze their asset and cash flow composition to determine the operational health of this company"
   ]
  },
  {
   "cell_type": "code",
   "execution_count": 284,
   "id": "db290b49-4c43-44e2-a1a6-e9fe9b9ca8eb",
   "metadata": {},
   "outputs": [
    {
     "data": {
      "application/vnd.plotly.v1+json": {
       "config": {
        "plotlyServerURL": "https://plot.ly"
       },
       "data": [
        {
         "hovertemplate": "Date=2024-09-30 00:00:00<br>Ticker=%{x}<br>Goodwill Porportion=%{y}<br>Goodwill_Ticker_Relative=%{marker.size}<extra></extra>",
         "legendgroup": "2024-09-30 00:00:00",
         "marker": {
          "color": "#636efa",
          "size": [
           0,
           0.17606183616881285,
           0.17391023646599785,
           0.1781080707302011,
           0,
           0,
           0.17184491228799037,
           0.2,
           0,
           0.19746162283693594,
           0,
           0.1972542603053651,
           0.19669889776755967,
           0.2,
           0.19915946558199302,
           0.22935779816513763,
           0.16828885279764716,
           0.19981518158876968,
           0.1736374544000194,
           0,
           0,
           0,
           0,
           0.18518518518518517,
           0.18867943317499677,
           0.2,
           0,
           0.26435484326063036,
           0.19859683209633375,
           0.7773327380429154
          ],
          "sizemode": "area",
          "sizeref": 0.0019433318451072884,
          "symbol": "circle"
         },
         "mode": "markers",
         "name": "2024-09-30 00:00:00",
         "orientation": "v",
         "showlegend": true,
         "type": "scatter",
         "x": [
          "OPTN",
          "UONEK",
          "SCOR",
          "AXON",
          "STRS",
          "CMRX",
          "BSBK",
          "FNLC",
          "NVCR",
          "FNKO",
          "NVEC",
          "SLAB",
          "MSBI",
          "AGNC",
          "NMRK",
          "OPTX",
          "IFRX",
          "CVCO",
          "TWST",
          "STRT",
          "SCNI",
          "NMRA",
          "SDA",
          "KLXE",
          "JAGX",
          "CEAD",
          "NVCT",
          "STRR",
          "BCG",
          "SCNX"
         ],
         "xaxis": "x",
         "y": [
          0,
          0.6226855723491408,
          0.6138989773603386,
          0.09741720336583902,
          0,
          0,
          0.00016902218267663013,
          0.009751912690374067,
          0,
          0.3694277758067521,
          0,
          0.33486306096016627,
          0.02494438806096846,
          0.005871190981136288,
          0.27240662374681657,
          0.009153549995664879,
          0.0005500342562002367,
          0.10686145001834498,
          0.16325125381924493,
          0,
          0,
          0,
          0,
          0.0030813475760065735,
          0.3240686894947491,
          0.0001614281895960855,
          0,
          0.3278816653640213,
          0.6120544181114944,
          0.8937939889110397
         ],
         "yaxis": "y"
        },
        {
         "hovertemplate": "Date=2024-06-30 00:00:00<br>Ticker=%{x}<br>Goodwill Porportion=%{y}<br>Goodwill_Ticker_Relative=%{marker.size}<extra></extra>",
         "legendgroup": "2024-06-30 00:00:00",
         "marker": {
          "color": "#EF553B",
          "size": [
           0,
           0.18804193298242317,
           0.21714775124125932,
           0.17952711125067722,
           0,
           0,
           0.18540833601645185,
           0.2,
           0,
           0.19996507446233772,
           0,
           0.19981845959429256,
           0.19817701842818705,
           0.2,
           0.19903659239486562,
           0.24311926605504589,
           0.1723011238198356,
           0.2003287146561535,
           0.17409280494202506,
           0,
           0,
           0,
           0,
           0.19753086419753085,
           0.19327019787092084,
           0.2,
           0,
           0.26574682806166117,
           0.19929944379949266,
           0
          ],
          "sizemode": "area",
          "sizeref": 0.0019433318451072884,
          "symbol": "circle"
         },
         "mode": "markers",
         "name": "2024-06-30 00:00:00",
         "orientation": "v",
         "showlegend": true,
         "type": "scatter",
         "x": [
          "OPTN",
          "UONEK",
          "SCOR",
          "AXON",
          "STRS",
          "CMRX",
          "BSBK",
          "FNLC",
          "NVCR",
          "FNKO",
          "NVEC",
          "SLAB",
          "MSBI",
          "AGNC",
          "NMRK",
          "OPTX",
          "IFRX",
          "CVCO",
          "TWST",
          "STRT",
          "SCNI",
          "NMRA",
          "SDA",
          "KLXE",
          "JAGX",
          "CEAD",
          "NVCT",
          "STRR",
          "BCG",
          "SCNX"
         ],
         "xaxis": "x",
         "y": [
          0,
          0.6278631849944832,
          0.6668107866419765,
          0.10510158001480345,
          0,
          0,
          0.00018313728662896207,
          0.009934053908271916,
          0,
          0.39734869535750594,
          0,
          0.33901392574482775,
          0.025113074515609478,
          0.006600991403651879,
          0.28626246057657334,
          0.010282138385244098,
          0.0004823517474556042,
          0.10849565649439914,
          0.15757587154726868,
          0,
          0,
          0,
          0,
          0.003257328990228013,
          0.31578776094632194,
          0.00014578820272303684,
          0,
          0.34940518883090543,
          0.622587530084919,
          0
         ],
         "yaxis": "y"
        },
        {
         "hovertemplate": "Date=2024-03-31 00:00:00<br>Ticker=%{x}<br>Goodwill Porportion=%{y}<br>Goodwill_Ticker_Relative=%{marker.size}<extra></extra>",
         "legendgroup": "2024-03-31 00:00:00",
         "marker": {
          "color": "#00cc96",
          "size": [
           0,
           0.21202650625058747,
           0.21776726482007663,
           0.18160843153802722,
           0,
           0,
           0.19948484124593638,
           0.2,
           0,
           0.2026574787036077,
           0,
           0.20268491187038487,
           0.19989725382882081,
           0.2,
           0.20085032336394937,
           0.25688073394495414,
           0.20021040426030232,
           0.20080613992973692,
           0.23842535281010152,
           0,
           0,
           0,
           0.20987654320987653,
           0.1954510600583555,
           0.2,
           0,
           0.15523452122306555,
           0.2000020555026516,
           0
          ],
          "sizemode": "area",
          "sizeref": 0.0019433318451072884,
          "symbol": "circle"
         },
         "mode": "markers",
         "name": "2024-03-31 00:00:00",
         "orientation": "v",
         "showlegend": true,
         "type": "scatter",
         "x": [
          "OPTN",
          "UONEK",
          "SCOR",
          "AXON",
          "STRS",
          "CMRX",
          "BSBK",
          "FNLC",
          "NVCR",
          "FNKO",
          "NVEC",
          "SLAB",
          "MSBI",
          "AGNC",
          "NMRK",
          "OPTX",
          "IFRX",
          "CVCO",
          "TWST",
          "STRT",
          "SCNI",
          "NMRA",
          "KLXE",
          "JAGX",
          "CEAD",
          "NVCT",
          "STRR",
          "BCG",
          "SCNX"
         ],
         "xaxis": "x",
         "y": [
          0,
          0.6410526250351902,
          0.6637672057361177,
          0.11002971077895114,
          0,
          0,
          0.00019988907262766397,
          0.010290211774344648,
          0,
          0.40951408186670196,
          0,
          0.31978651239851413,
          0.025089988788030964,
          0.0073181590517001505,
          0.3108854023205294,
          0.01137193224359085,
          0.0004869030821025791,
          0.11088423819932652,
          0.19593054524035136,
          0,
          0,
          0,
          0.003417085427135678,
          0.35434833631226414,
          0.00014430842827461057,
          0,
          0.2303591117810437,
          0.6269461532619427,
          0
         ],
         "yaxis": "y"
        },
        {
         "hovertemplate": "Date=2023-12-31 00:00:00<br>Ticker=%{x}<br>Goodwill Porportion=%{y}<br>Goodwill_Ticker_Relative=%{marker.size}<extra></extra>",
         "legendgroup": "2023-12-31 00:00:00",
         "marker": {
          "color": "#ab63fa",
          "size": [
           0,
           0.2124985313469311,
           0.21873568405082208,
           0.03536601340899724,
           0,
           0,
           0.21407754385600483,
           0.2,
           0,
           0.20538876489110328,
           0,
           0.2055518356799985,
           0.20169276860239774,
           0.2,
           0.20328514103752598,
           0.2706422018348624,
           0.26422628440666385,
           0.19973895402407987,
           0.24066228398984033,
           0,
           0,
           0,
           0,
           0.2222222222222222,
           0,
           0.2,
           0,
           0.1594763127451257,
           0.20069982160785768,
           0.0826954827383294
          ],
          "sizemode": "area",
          "sizeref": 0.0019433318451072884,
          "symbol": "circle"
         },
         "mode": "markers",
         "name": "2023-12-31 00:00:00",
         "orientation": "v",
         "showlegend": true,
         "type": "scatter",
         "x": [
          "OPTN",
          "UONEK",
          "SCOR",
          "AXON",
          "STRS",
          "CMRX",
          "BSBK",
          "FNLC",
          "NVCR",
          "FNKO",
          "NVEC",
          "SLAB",
          "MSBI",
          "AGNC",
          "NMRK",
          "OPTX",
          "IFRX",
          "CVCO",
          "TWST",
          "STRT",
          "SCNI",
          "NMRA",
          "SDA",
          "KLXE",
          "JAGX",
          "CEAD",
          "NVCT",
          "STRR",
          "BCG",
          "SCNX"
         ],
         "xaxis": "x",
         "y": [
          0,
          0.5973110364910711,
          0.6482357850171485,
          0.0227280860407829,
          0,
          0,
          0.0002194300959580406,
          0.010400115654878783,
          0,
          0.37703563177369975,
          0,
          0.30208252486389997,
          0.025202532952122752,
          0.007346779149673166,
          0.3111601616879958,
          0.011111984584249618,
          0.0005724883914456302,
          0.11258665034418919,
          0.18968088808225814,
          0,
          0,
          0,
          0,
          0.0033345683586513525,
          null,
          0.00013287750298919925,
          0,
          0.22459468051287484,
          0.6144340602284527,
          0.7151320686579409
         ],
         "yaxis": "y"
        },
        {
         "hovertemplate": "Date=2023-09-30 00:00:00<br>Ticker=%{x}<br>Goodwill Porportion=%{y}<br>Goodwill_Ticker_Relative=%{marker.size}<extra></extra>",
         "legendgroup": "2023-09-30 00:00:00",
         "marker": {
          "color": "#FFA15A",
          "size": [
           0,
           0.21137119325124543,
           0,
           0,
           0,
           0,
           0.2291843665936166,
           0,
           0,
           0,
           0,
           0,
           0.20353406137303473,
           0,
           0,
           0,
           0,
           0,
           0,
           0,
           0,
           0.20886485625230286,
           0.2,
           0,
           0.15518749470951723,
           0.2014018469936643,
           0.1345306459247649
          ],
          "sizemode": "area",
          "sizeref": 0.0019433318451072884,
          "symbol": "circle"
         },
         "mode": "markers",
         "name": "2023-09-30 00:00:00",
         "orientation": "v",
         "showlegend": true,
         "type": "scatter",
         "x": [
          "OPTN",
          "UONEK",
          "SCOR",
          "AXON",
          "STRS",
          "CMRX",
          "BSBK",
          "FNLC",
          "NVCR",
          "FNKO",
          "NVEC",
          "SLAB",
          "MSBI",
          "AGNC",
          "NMRK",
          "IFRX",
          "CVCO",
          "TWST",
          "STRT",
          "SCNI",
          "NMRA",
          "JAGX",
          "CEAD",
          "NVCT",
          "STRR",
          "BCG",
          "SCNX"
         ],
         "xaxis": "x",
         "y": [
          0,
          0.6036735036282035,
          null,
          null,
          0,
          0,
          0.00023803032693479052,
          null,
          null,
          null,
          null,
          null,
          0.025084864764901876,
          null,
          null,
          null,
          null,
          null,
          null,
          0,
          null,
          0.4621859850154253,
          0.00012449248902119108,
          null,
          0.22833577814065484,
          0.6244174181598643,
          0.6733529009146321
         ],
         "yaxis": "y"
        },
        {
         "hovertemplate": "Date=2023-06-30 00:00:00<br>Ticker=%{x}<br>Goodwill Porportion=%{y}<br>Goodwill_Ticker_Relative=%{marker.size}<extra></extra>",
         "legendgroup": "2023-06-30 00:00:00",
         "marker": {
          "color": "#19d3f3",
          "size": [
           0,
           0,
           0,
           0,
           0,
           0,
           0,
           0,
           0,
           0,
           0,
           0,
           0,
           0,
           0,
           0,
           0,
           0,
           0,
           0,
           0.21373445264342406,
           0,
           0,
           0,
           0,
           0.005441133293990331
          ],
          "sizemode": "area",
          "sizeref": 0.0019433318451072884,
          "symbol": "circle"
         },
         "mode": "markers",
         "name": "2023-06-30 00:00:00",
         "orientation": "v",
         "showlegend": true,
         "type": "scatter",
         "x": [
          "OPTN",
          "UONEK",
          "SCOR",
          "AXON",
          "STRS",
          "CMRX",
          "FNLC",
          "NVCR",
          "FNKO",
          "SLAB",
          "AGNC",
          "NMRK",
          "OPTX",
          "IFRX",
          "CVCO",
          "TWST",
          "STRT",
          "SCNI",
          "NMRA",
          "SDA",
          "JAGX",
          "CEAD",
          "NVCT",
          "STRR",
          "BCG",
          "SCNX"
         ],
         "xaxis": "x",
         "y": [
          null,
          null,
          null,
          null,
          null,
          null,
          null,
          null,
          null,
          null,
          null,
          null,
          0,
          null,
          null,
          null,
          null,
          null,
          null,
          0,
          0.4113892509392011,
          null,
          null,
          null,
          null,
          null
         ],
         "yaxis": "y"
        },
        {
         "hovertemplate": "Date=2024-12-31 00:00:00<br>Ticker=%{x}<br>Goodwill Porportion=%{y}<br>Goodwill_Ticker_Relative=%{marker.size}<extra></extra>",
         "legendgroup": "2024-12-31 00:00:00",
         "marker": {
          "color": "#FF6692",
          "size": [
           0.1724390634218441,
           0.4253903730720972,
           0.2,
           0,
           0.19452705910601537,
           0,
           0.19469053254995897,
           0.2,
           0.197668477621666,
           0.1949733347155511,
           0.19931100980126004,
           0.17318210385801375,
           0,
           0,
           0.18518518518518517,
           0
          ],
          "sizemode": "area",
          "sizeref": 0.0019433318451072884,
          "symbol": "circle"
         },
         "mode": "markers",
         "name": "2024-12-31 00:00:00",
         "orientation": "v",
         "showlegend": true,
         "type": "scatter",
         "x": [
          "SCOR",
          "AXON",
          "FNLC",
          "NVCR",
          "FNKO",
          "NVEC",
          "SLAB",
          "AGNC",
          "NMRK",
          "IFRX",
          "CVCO",
          "TWST",
          "STRT",
          "NMRA",
          "KLXE",
          "NVCT"
         ],
         "xaxis": "x",
         "y": [
          0.5835438713111306,
          0.20828621540128386,
          0.009707286324718642,
          0,
          0.40321016211997385,
          0,
          0.3376926310692793,
          0.005976254047605521,
          0.2872396032372848,
          0.0006680088231730355,
          0.10754838295326703,
          0.16435965690624077,
          0,
          0,
          0.003287310979618672,
          0
         ],
         "yaxis": "y"
        }
       ],
       "layout": {
        "autosize": true,
        "legend": {
         "itemsizing": "constant",
         "title": {
          "text": "Date"
         },
         "tracegroupgap": 0
        },
        "template": {
         "data": {
          "bar": [
           {
            "error_x": {
             "color": "#2a3f5f"
            },
            "error_y": {
             "color": "#2a3f5f"
            },
            "marker": {
             "line": {
              "color": "#E5ECF6",
              "width": 0.5
             },
             "pattern": {
              "fillmode": "overlay",
              "size": 10,
              "solidity": 0.2
             }
            },
            "type": "bar"
           }
          ],
          "barpolar": [
           {
            "marker": {
             "line": {
              "color": "#E5ECF6",
              "width": 0.5
             },
             "pattern": {
              "fillmode": "overlay",
              "size": 10,
              "solidity": 0.2
             }
            },
            "type": "barpolar"
           }
          ],
          "carpet": [
           {
            "aaxis": {
             "endlinecolor": "#2a3f5f",
             "gridcolor": "white",
             "linecolor": "white",
             "minorgridcolor": "white",
             "startlinecolor": "#2a3f5f"
            },
            "baxis": {
             "endlinecolor": "#2a3f5f",
             "gridcolor": "white",
             "linecolor": "white",
             "minorgridcolor": "white",
             "startlinecolor": "#2a3f5f"
            },
            "type": "carpet"
           }
          ],
          "choropleth": [
           {
            "colorbar": {
             "outlinewidth": 0,
             "ticks": ""
            },
            "type": "choropleth"
           }
          ],
          "contour": [
           {
            "colorbar": {
             "outlinewidth": 0,
             "ticks": ""
            },
            "colorscale": [
             [
              0,
              "#0d0887"
             ],
             [
              0.1111111111111111,
              "#46039f"
             ],
             [
              0.2222222222222222,
              "#7201a8"
             ],
             [
              0.3333333333333333,
              "#9c179e"
             ],
             [
              0.4444444444444444,
              "#bd3786"
             ],
             [
              0.5555555555555556,
              "#d8576b"
             ],
             [
              0.6666666666666666,
              "#ed7953"
             ],
             [
              0.7777777777777778,
              "#fb9f3a"
             ],
             [
              0.8888888888888888,
              "#fdca26"
             ],
             [
              1,
              "#f0f921"
             ]
            ],
            "type": "contour"
           }
          ],
          "contourcarpet": [
           {
            "colorbar": {
             "outlinewidth": 0,
             "ticks": ""
            },
            "type": "contourcarpet"
           }
          ],
          "heatmap": [
           {
            "colorbar": {
             "outlinewidth": 0,
             "ticks": ""
            },
            "colorscale": [
             [
              0,
              "#0d0887"
             ],
             [
              0.1111111111111111,
              "#46039f"
             ],
             [
              0.2222222222222222,
              "#7201a8"
             ],
             [
              0.3333333333333333,
              "#9c179e"
             ],
             [
              0.4444444444444444,
              "#bd3786"
             ],
             [
              0.5555555555555556,
              "#d8576b"
             ],
             [
              0.6666666666666666,
              "#ed7953"
             ],
             [
              0.7777777777777778,
              "#fb9f3a"
             ],
             [
              0.8888888888888888,
              "#fdca26"
             ],
             [
              1,
              "#f0f921"
             ]
            ],
            "type": "heatmap"
           }
          ],
          "heatmapgl": [
           {
            "colorbar": {
             "outlinewidth": 0,
             "ticks": ""
            },
            "colorscale": [
             [
              0,
              "#0d0887"
             ],
             [
              0.1111111111111111,
              "#46039f"
             ],
             [
              0.2222222222222222,
              "#7201a8"
             ],
             [
              0.3333333333333333,
              "#9c179e"
             ],
             [
              0.4444444444444444,
              "#bd3786"
             ],
             [
              0.5555555555555556,
              "#d8576b"
             ],
             [
              0.6666666666666666,
              "#ed7953"
             ],
             [
              0.7777777777777778,
              "#fb9f3a"
             ],
             [
              0.8888888888888888,
              "#fdca26"
             ],
             [
              1,
              "#f0f921"
             ]
            ],
            "type": "heatmapgl"
           }
          ],
          "histogram": [
           {
            "marker": {
             "pattern": {
              "fillmode": "overlay",
              "size": 10,
              "solidity": 0.2
             }
            },
            "type": "histogram"
           }
          ],
          "histogram2d": [
           {
            "colorbar": {
             "outlinewidth": 0,
             "ticks": ""
            },
            "colorscale": [
             [
              0,
              "#0d0887"
             ],
             [
              0.1111111111111111,
              "#46039f"
             ],
             [
              0.2222222222222222,
              "#7201a8"
             ],
             [
              0.3333333333333333,
              "#9c179e"
             ],
             [
              0.4444444444444444,
              "#bd3786"
             ],
             [
              0.5555555555555556,
              "#d8576b"
             ],
             [
              0.6666666666666666,
              "#ed7953"
             ],
             [
              0.7777777777777778,
              "#fb9f3a"
             ],
             [
              0.8888888888888888,
              "#fdca26"
             ],
             [
              1,
              "#f0f921"
             ]
            ],
            "type": "histogram2d"
           }
          ],
          "histogram2dcontour": [
           {
            "colorbar": {
             "outlinewidth": 0,
             "ticks": ""
            },
            "colorscale": [
             [
              0,
              "#0d0887"
             ],
             [
              0.1111111111111111,
              "#46039f"
             ],
             [
              0.2222222222222222,
              "#7201a8"
             ],
             [
              0.3333333333333333,
              "#9c179e"
             ],
             [
              0.4444444444444444,
              "#bd3786"
             ],
             [
              0.5555555555555556,
              "#d8576b"
             ],
             [
              0.6666666666666666,
              "#ed7953"
             ],
             [
              0.7777777777777778,
              "#fb9f3a"
             ],
             [
              0.8888888888888888,
              "#fdca26"
             ],
             [
              1,
              "#f0f921"
             ]
            ],
            "type": "histogram2dcontour"
           }
          ],
          "mesh3d": [
           {
            "colorbar": {
             "outlinewidth": 0,
             "ticks": ""
            },
            "type": "mesh3d"
           }
          ],
          "parcoords": [
           {
            "line": {
             "colorbar": {
              "outlinewidth": 0,
              "ticks": ""
             }
            },
            "type": "parcoords"
           }
          ],
          "pie": [
           {
            "automargin": true,
            "type": "pie"
           }
          ],
          "scatter": [
           {
            "fillpattern": {
             "fillmode": "overlay",
             "size": 10,
             "solidity": 0.2
            },
            "type": "scatter"
           }
          ],
          "scatter3d": [
           {
            "line": {
             "colorbar": {
              "outlinewidth": 0,
              "ticks": ""
             }
            },
            "marker": {
             "colorbar": {
              "outlinewidth": 0,
              "ticks": ""
             }
            },
            "type": "scatter3d"
           }
          ],
          "scattercarpet": [
           {
            "marker": {
             "colorbar": {
              "outlinewidth": 0,
              "ticks": ""
             }
            },
            "type": "scattercarpet"
           }
          ],
          "scattergeo": [
           {
            "marker": {
             "colorbar": {
              "outlinewidth": 0,
              "ticks": ""
             }
            },
            "type": "scattergeo"
           }
          ],
          "scattergl": [
           {
            "marker": {
             "colorbar": {
              "outlinewidth": 0,
              "ticks": ""
             }
            },
            "type": "scattergl"
           }
          ],
          "scattermapbox": [
           {
            "marker": {
             "colorbar": {
              "outlinewidth": 0,
              "ticks": ""
             }
            },
            "type": "scattermapbox"
           }
          ],
          "scatterpolar": [
           {
            "marker": {
             "colorbar": {
              "outlinewidth": 0,
              "ticks": ""
             }
            },
            "type": "scatterpolar"
           }
          ],
          "scatterpolargl": [
           {
            "marker": {
             "colorbar": {
              "outlinewidth": 0,
              "ticks": ""
             }
            },
            "type": "scatterpolargl"
           }
          ],
          "scatterternary": [
           {
            "marker": {
             "colorbar": {
              "outlinewidth": 0,
              "ticks": ""
             }
            },
            "type": "scatterternary"
           }
          ],
          "surface": [
           {
            "colorbar": {
             "outlinewidth": 0,
             "ticks": ""
            },
            "colorscale": [
             [
              0,
              "#0d0887"
             ],
             [
              0.1111111111111111,
              "#46039f"
             ],
             [
              0.2222222222222222,
              "#7201a8"
             ],
             [
              0.3333333333333333,
              "#9c179e"
             ],
             [
              0.4444444444444444,
              "#bd3786"
             ],
             [
              0.5555555555555556,
              "#d8576b"
             ],
             [
              0.6666666666666666,
              "#ed7953"
             ],
             [
              0.7777777777777778,
              "#fb9f3a"
             ],
             [
              0.8888888888888888,
              "#fdca26"
             ],
             [
              1,
              "#f0f921"
             ]
            ],
            "type": "surface"
           }
          ],
          "table": [
           {
            "cells": {
             "fill": {
              "color": "#EBF0F8"
             },
             "line": {
              "color": "white"
             }
            },
            "header": {
             "fill": {
              "color": "#C8D4E3"
             },
             "line": {
              "color": "white"
             }
            },
            "type": "table"
           }
          ]
         },
         "layout": {
          "annotationdefaults": {
           "arrowcolor": "#2a3f5f",
           "arrowhead": 0,
           "arrowwidth": 1
          },
          "autotypenumbers": "strict",
          "coloraxis": {
           "colorbar": {
            "outlinewidth": 0,
            "ticks": ""
           }
          },
          "colorscale": {
           "diverging": [
            [
             0,
             "#8e0152"
            ],
            [
             0.1,
             "#c51b7d"
            ],
            [
             0.2,
             "#de77ae"
            ],
            [
             0.3,
             "#f1b6da"
            ],
            [
             0.4,
             "#fde0ef"
            ],
            [
             0.5,
             "#f7f7f7"
            ],
            [
             0.6,
             "#e6f5d0"
            ],
            [
             0.7,
             "#b8e186"
            ],
            [
             0.8,
             "#7fbc41"
            ],
            [
             0.9,
             "#4d9221"
            ],
            [
             1,
             "#276419"
            ]
           ],
           "sequential": [
            [
             0,
             "#0d0887"
            ],
            [
             0.1111111111111111,
             "#46039f"
            ],
            [
             0.2222222222222222,
             "#7201a8"
            ],
            [
             0.3333333333333333,
             "#9c179e"
            ],
            [
             0.4444444444444444,
             "#bd3786"
            ],
            [
             0.5555555555555556,
             "#d8576b"
            ],
            [
             0.6666666666666666,
             "#ed7953"
            ],
            [
             0.7777777777777778,
             "#fb9f3a"
            ],
            [
             0.8888888888888888,
             "#fdca26"
            ],
            [
             1,
             "#f0f921"
            ]
           ],
           "sequentialminus": [
            [
             0,
             "#0d0887"
            ],
            [
             0.1111111111111111,
             "#46039f"
            ],
            [
             0.2222222222222222,
             "#7201a8"
            ],
            [
             0.3333333333333333,
             "#9c179e"
            ],
            [
             0.4444444444444444,
             "#bd3786"
            ],
            [
             0.5555555555555556,
             "#d8576b"
            ],
            [
             0.6666666666666666,
             "#ed7953"
            ],
            [
             0.7777777777777778,
             "#fb9f3a"
            ],
            [
             0.8888888888888888,
             "#fdca26"
            ],
            [
             1,
             "#f0f921"
            ]
           ]
          },
          "colorway": [
           "#636efa",
           "#EF553B",
           "#00cc96",
           "#ab63fa",
           "#FFA15A",
           "#19d3f3",
           "#FF6692",
           "#B6E880",
           "#FF97FF",
           "#FECB52"
          ],
          "font": {
           "color": "#2a3f5f"
          },
          "geo": {
           "bgcolor": "white",
           "lakecolor": "white",
           "landcolor": "#E5ECF6",
           "showlakes": true,
           "showland": true,
           "subunitcolor": "white"
          },
          "hoverlabel": {
           "align": "left"
          },
          "hovermode": "closest",
          "mapbox": {
           "style": "light"
          },
          "paper_bgcolor": "white",
          "plot_bgcolor": "#E5ECF6",
          "polar": {
           "angularaxis": {
            "gridcolor": "white",
            "linecolor": "white",
            "ticks": ""
           },
           "bgcolor": "#E5ECF6",
           "radialaxis": {
            "gridcolor": "white",
            "linecolor": "white",
            "ticks": ""
           }
          },
          "scene": {
           "xaxis": {
            "backgroundcolor": "#E5ECF6",
            "gridcolor": "white",
            "gridwidth": 2,
            "linecolor": "white",
            "showbackground": true,
            "ticks": "",
            "zerolinecolor": "white"
           },
           "yaxis": {
            "backgroundcolor": "#E5ECF6",
            "gridcolor": "white",
            "gridwidth": 2,
            "linecolor": "white",
            "showbackground": true,
            "ticks": "",
            "zerolinecolor": "white"
           },
           "zaxis": {
            "backgroundcolor": "#E5ECF6",
            "gridcolor": "white",
            "gridwidth": 2,
            "linecolor": "white",
            "showbackground": true,
            "ticks": "",
            "zerolinecolor": "white"
           }
          },
          "shapedefaults": {
           "line": {
            "color": "#2a3f5f"
           }
          },
          "ternary": {
           "aaxis": {
            "gridcolor": "white",
            "linecolor": "white",
            "ticks": ""
           },
           "baxis": {
            "gridcolor": "white",
            "linecolor": "white",
            "ticks": ""
           },
           "bgcolor": "#E5ECF6",
           "caxis": {
            "gridcolor": "white",
            "linecolor": "white",
            "ticks": ""
           }
          },
          "title": {
           "x": 0.05
          },
          "xaxis": {
           "automargin": true,
           "gridcolor": "white",
           "linecolor": "white",
           "ticks": "",
           "title": {
            "standoff": 15
           },
           "zerolinecolor": "white",
           "zerolinewidth": 2
          },
          "yaxis": {
           "automargin": true,
           "gridcolor": "white",
           "linecolor": "white",
           "ticks": "",
           "title": {
            "standoff": 15
           },
           "zerolinecolor": "white",
           "zerolinewidth": 2
          }
         }
        },
        "title": {
         "text": "Proportion of goodwill to total assets "
        },
        "xaxis": {
         "anchor": "y",
         "autorange": true,
         "domain": [
          0,
          1
         ],
         "range": [
          -1.772006830540228,
          31.281588594351565
         ],
         "title": {
          "text": "Ticker"
         },
         "type": "category"
        },
        "yaxis": {
         "anchor": "x",
         "autorange": true,
         "domain": [
          0,
          1
         ],
         "range": [
          -0.12157024769924452,
          1.0610045113091888
         ],
         "title": {
          "text": "Goodwill Porportion"
         },
         "type": "linear"
        }
       }
      },
      "image/png": "[encoded data removed]",
      "text/html": [
       "<div>                            <div id=\"6345abdf-515a-4dd5-aff6-1d90800747a3\" class=\"plotly-graph-div\" style=\"height:525px; width:100%;\"></div>            <script type=\"text/javascript\">                require([\"plotly\"], function(Plotly) {                    window.PLOTLYENV=window.PLOTLYENV || {};                                    if (document.getElementById(\"6345abdf-515a-4dd5-aff6-1d90800747a3\")) {                    Plotly.newPlot(                        \"6345abdf-515a-4dd5-aff6-1d90800747a3\",                        [{\"hovertemplate\":\"Date=2024-09-30 00:00:00\\u003cbr\\u003eTicker=%{x}\\u003cbr\\u003eGoodwill Porportion=%{y}\\u003cbr\\u003eGoodwill_Ticker_Relative=%{marker.size}\\u003cextra\\u003e\\u003c\\u002fextra\\u003e\",\"legendgroup\":\"2024-09-30 00:00:00\",\"marker\":{\"color\":\"#636efa\",\"size\":[0.0,0.17606183616881285,0.17391023646599785,0.1781080707302011,0.0,0.0,0.17184491228799037,0.2,0.0,0.19746162283693594,0.0,0.1972542603053651,0.19669889776755967,0.2,0.19915946558199302,0.22935779816513763,0.16828885279764716,0.19981518158876968,0.1736374544000194,0.0,0.0,0.0,0.0,0.18518518518518517,0.18867943317499677,0.2,0.0,0.26435484326063036,0.19859683209633375,0.7773327380429154],\"sizemode\":\"area\",\"sizeref\":0.0019433318451072884,\"symbol\":\"circle\"},\"mode\":\"markers\",\"name\":\"2024-09-30 00:00:00\",\"orientation\":\"v\",\"showlegend\":true,\"x\":[\"OPTN\",\"UONEK\",\"SCOR\",\"AXON\",\"STRS\",\"CMRX\",\"BSBK\",\"FNLC\",\"NVCR\",\"FNKO\",\"NVEC\",\"SLAB\",\"MSBI\",\"AGNC\",\"NMRK\",\"OPTX\",\"IFRX\",\"CVCO\",\"TWST\",\"STRT\",\"SCNI\",\"NMRA\",\"SDA\",\"KLXE\",\"JAGX\",\"CEAD\",\"NVCT\",\"STRR\",\"BCG\",\"SCNX\"],\"xaxis\":\"x\",\"y\":[0.0,0.6226855723491408,0.6138989773603386,0.09741720336583902,0.0,0.0,0.00016902218267663013,0.009751912690374067,0.0,0.3694277758067521,0.0,0.33486306096016627,0.02494438806096846,0.005871190981136288,0.27240662374681657,0.009153549995664879,0.0005500342562002367,0.10686145001834498,0.16325125381924493,0.0,0.0,0.0,0.0,0.0030813475760065735,0.3240686894947491,0.0001614281895960855,0.0,0.3278816653640213,0.6120544181114944,0.8937939889110397],\"yaxis\":\"y\",\"type\":\"scatter\"},{\"hovertemplate\":\"Date=2024-06-30 00:00:00\\u003cbr\\u003eTicker=%{x}\\u003cbr\\u003eGoodwill Porportion=%{y}\\u003cbr\\u003eGoodwill_Ticker_Relative=%{marker.size}\\u003cextra\\u003e\\u003c\\u002fextra\\u003e\",\"legendgroup\":\"2024-06-30 00:00:00\",\"marker\":{\"color\":\"#EF553B\",\"size\":[0.0,0.18804193298242317,0.21714775124125932,0.17952711125067722,0.0,0.0,0.18540833601645185,0.2,0.0,0.19996507446233772,0.0,0.19981845959429256,0.19817701842818705,0.2,0.19903659239486562,0.24311926605504589,0.1723011238198356,0.2003287146561535,0.17409280494202506,0.0,0.0,0.0,0.0,0.19753086419753085,0.19327019787092084,0.2,0.0,0.26574682806166117,0.19929944379949266,0.0],\"sizemode\":\"area\",\"sizeref\":0.0019433318451072884,\"symbol\":\"circle\"},\"mode\":\"markers\",\"name\":\"2024-06-30 00:00:00\",\"orientation\":\"v\",\"showlegend\":true,\"x\":[\"OPTN\",\"UONEK\",\"SCOR\",\"AXON\",\"STRS\",\"CMRX\",\"BSBK\",\"FNLC\",\"NVCR\",\"FNKO\",\"NVEC\",\"SLAB\",\"MSBI\",\"AGNC\",\"NMRK\",\"OPTX\",\"IFRX\",\"CVCO\",\"TWST\",\"STRT\",\"SCNI\",\"NMRA\",\"SDA\",\"KLXE\",\"JAGX\",\"CEAD\",\"NVCT\",\"STRR\",\"BCG\",\"SCNX\"],\"xaxis\":\"x\",\"y\":[0.0,0.6278631849944832,0.6668107866419765,0.10510158001480345,0.0,0.0,0.00018313728662896207,0.009934053908271916,0.0,0.39734869535750594,0.0,0.33901392574482775,0.025113074515609478,0.006600991403651879,0.28626246057657334,0.010282138385244098,0.0004823517474556042,0.10849565649439914,0.15757587154726868,0.0,0.0,0.0,0.0,0.003257328990228013,0.31578776094632194,0.00014578820272303684,0.0,0.34940518883090543,0.622587530084919,0.0],\"yaxis\":\"y\",\"type\":\"scatter\"},{\"hovertemplate\":\"Date=2024-03-31 00:00:00\\u003cbr\\u003eTicker=%{x}\\u003cbr\\u003eGoodwill Porportion=%{y}\\u003cbr\\u003eGoodwill_Ticker_Relative=%{marker.size}\\u003cextra\\u003e\\u003c\\u002fextra\\u003e\",\"legendgroup\":\"2024-03-31 00:00:00\",\"marker\":{\"color\":\"#00cc96\",\"size\":[0.0,0.21202650625058747,0.21776726482007663,0.18160843153802722,0.0,0.0,0.19948484124593638,0.2,0.0,0.2026574787036077,0.0,0.20268491187038487,0.19989725382882081,0.2,0.20085032336394937,0.25688073394495414,0.20021040426030232,0.20080613992973692,0.23842535281010152,0.0,0.0,0.0,0.20987654320987653,0.1954510600583555,0.2,0.0,0.15523452122306555,0.2000020555026516,0.0],\"sizemode\":\"area\",\"sizeref\":0.0019433318451072884,\"symbol\":\"circle\"},\"mode\":\"markers\",\"name\":\"2024-03-31 00:00:00\",\"orientation\":\"v\",\"showlegend\":true,\"x\":[\"OPTN\",\"UONEK\",\"SCOR\",\"AXON\",\"STRS\",\"CMRX\",\"BSBK\",\"FNLC\",\"NVCR\",\"FNKO\",\"NVEC\",\"SLAB\",\"MSBI\",\"AGNC\",\"NMRK\",\"OPTX\",\"IFRX\",\"CVCO\",\"TWST\",\"STRT\",\"SCNI\",\"NMRA\",\"KLXE\",\"JAGX\",\"CEAD\",\"NVCT\",\"STRR\",\"BCG\",\"SCNX\"],\"xaxis\":\"x\",\"y\":[0.0,0.6410526250351902,0.6637672057361177,0.11002971077895114,0.0,0.0,0.00019988907262766397,0.010290211774344648,0.0,0.40951408186670196,0.0,0.31978651239851413,0.025089988788030964,0.0073181590517001505,0.3108854023205294,0.01137193224359085,0.0004869030821025791,0.11088423819932652,0.19593054524035136,0.0,0.0,0.0,0.003417085427135678,0.35434833631226414,0.00014430842827461057,0.0,0.2303591117810437,0.6269461532619427,0.0],\"yaxis\":\"y\",\"type\":\"scatter\"},{\"hovertemplate\":\"Date=2023-12-31 00:00:00\\u003cbr\\u003eTicker=%{x}\\u003cbr\\u003eGoodwill Porportion=%{y}\\u003cbr\\u003eGoodwill_Ticker_Relative=%{marker.size}\\u003cextra\\u003e\\u003c\\u002fextra\\u003e\",\"legendgroup\":\"2023-12-31 00:00:00\",\"marker\":{\"color\":\"#ab63fa\",\"size\":[0.0,0.2124985313469311,0.21873568405082208,0.03536601340899724,0.0,0.0,0.21407754385600483,0.2,0.0,0.20538876489110328,0.0,0.2055518356799985,0.20169276860239774,0.2,0.20328514103752598,0.2706422018348624,0.26422628440666385,0.19973895402407987,0.24066228398984033,0.0,0.0,0.0,0.0,0.2222222222222222,0.0,0.2,0.0,0.1594763127451257,0.20069982160785768,0.0826954827383294],\"sizemode\":\"area\",\"sizeref\":0.0019433318451072884,\"symbol\":\"circle\"},\"mode\":\"markers\",\"name\":\"2023-12-31 00:00:00\",\"orientation\":\"v\",\"showlegend\":true,\"x\":[\"OPTN\",\"UONEK\",\"SCOR\",\"AXON\",\"STRS\",\"CMRX\",\"BSBK\",\"FNLC\",\"NVCR\",\"FNKO\",\"NVEC\",\"SLAB\",\"MSBI\",\"AGNC\",\"NMRK\",\"OPTX\",\"IFRX\",\"CVCO\",\"TWST\",\"STRT\",\"SCNI\",\"NMRA\",\"SDA\",\"KLXE\",\"JAGX\",\"CEAD\",\"NVCT\",\"STRR\",\"BCG\",\"SCNX\"],\"xaxis\":\"x\",\"y\":[0.0,0.5973110364910711,0.6482357850171485,0.0227280860407829,0.0,0.0,0.0002194300959580406,0.010400115654878783,0.0,0.37703563177369975,0.0,0.30208252486389997,0.025202532952122752,0.007346779149673166,0.3111601616879958,0.011111984584249618,0.0005724883914456302,0.11258665034418919,0.18968088808225814,0.0,0.0,0.0,0.0,0.0033345683586513525,null,0.00013287750298919925,0.0,0.22459468051287484,0.6144340602284527,0.7151320686579409],\"yaxis\":\"y\",\"type\":\"scatter\"},{\"hovertemplate\":\"Date=2023-09-30 00:00:00\\u003cbr\\u003eTicker=%{x}\\u003cbr\\u003eGoodwill Porportion=%{y}\\u003cbr\\u003eGoodwill_Ticker_Relative=%{marker.size}\\u003cextra\\u003e\\u003c\\u002fextra\\u003e\",\"legendgroup\":\"2023-09-30 00:00:00\",\"marker\":{\"color\":\"#FFA15A\",\"size\":[0.0,0.21137119325124543,0.0,0.0,0.0,0.0,0.2291843665936166,0.0,0.0,0.0,0.0,0.0,0.20353406137303473,0.0,0.0,0.0,0.0,0.0,0.0,0.0,0.0,0.20886485625230286,0.2,0.0,0.15518749470951723,0.2014018469936643,0.1345306459247649],\"sizemode\":\"area\",\"sizeref\":0.0019433318451072884,\"symbol\":\"circle\"},\"mode\":\"markers\",\"name\":\"2023-09-30 00:00:00\",\"orientation\":\"v\",\"showlegend\":true,\"x\":[\"OPTN\",\"UONEK\",\"SCOR\",\"AXON\",\"STRS\",\"CMRX\",\"BSBK\",\"FNLC\",\"NVCR\",\"FNKO\",\"NVEC\",\"SLAB\",\"MSBI\",\"AGNC\",\"NMRK\",\"IFRX\",\"CVCO\",\"TWST\",\"STRT\",\"SCNI\",\"NMRA\",\"JAGX\",\"CEAD\",\"NVCT\",\"STRR\",\"BCG\",\"SCNX\"],\"xaxis\":\"x\",\"y\":[0.0,0.6036735036282035,null,null,0.0,0.0,0.00023803032693479052,null,null,null,null,null,0.025084864764901876,null,null,null,null,null,null,0.0,null,0.4621859850154253,0.00012449248902119108,null,0.22833577814065484,0.6244174181598643,0.6733529009146321],\"yaxis\":\"y\",\"type\":\"scatter\"},{\"hovertemplate\":\"Date=2023-06-30 00:00:00\\u003cbr\\u003eTicker=%{x}\\u003cbr\\u003eGoodwill Porportion=%{y}\\u003cbr\\u003eGoodwill_Ticker_Relative=%{marker.size}\\u003cextra\\u003e\\u003c\\u002fextra\\u003e\",\"legendgroup\":\"2023-06-30 00:00:00\",\"marker\":{\"color\":\"#19d3f3\",\"size\":[0.0,0.0,0.0,0.0,0.0,0.0,0.0,0.0,0.0,0.0,0.0,0.0,0.0,0.0,0.0,0.0,0.0,0.0,0.0,0.0,0.21373445264342406,0.0,0.0,0.0,0.0,0.005441133293990331],\"sizemode\":\"area\",\"sizeref\":0.0019433318451072884,\"symbol\":\"circle\"},\"mode\":\"markers\",\"name\":\"2023-06-30 00:00:00\",\"orientation\":\"v\",\"showlegend\":true,\"x\":[\"OPTN\",\"UONEK\",\"SCOR\",\"AXON\",\"STRS\",\"CMRX\",\"FNLC\",\"NVCR\",\"FNKO\",\"SLAB\",\"AGNC\",\"NMRK\",\"OPTX\",\"IFRX\",\"CVCO\",\"TWST\",\"STRT\",\"SCNI\",\"NMRA\",\"SDA\",\"JAGX\",\"CEAD\",\"NVCT\",\"STRR\",\"BCG\",\"SCNX\"],\"xaxis\":\"x\",\"y\":[null,null,null,null,null,null,null,null,null,null,null,null,0.0,null,null,null,null,null,null,0.0,0.4113892509392011,null,null,null,null,null],\"yaxis\":\"y\",\"type\":\"scatter\"},{\"hovertemplate\":\"Date=2024-12-31 00:00:00\\u003cbr\\u003eTicker=%{x}\\u003cbr\\u003eGoodwill Porportion=%{y}\\u003cbr\\u003eGoodwill_Ticker_Relative=%{marker.size}\\u003cextra\\u003e\\u003c\\u002fextra\\u003e\",\"legendgroup\":\"2024-12-31 00:00:00\",\"marker\":{\"color\":\"#FF6692\",\"size\":[0.1724390634218441,0.4253903730720972,0.2,0.0,0.19452705910601537,0.0,0.19469053254995897,0.2,0.197668477621666,0.1949733347155511,0.19931100980126004,0.17318210385801375,0.0,0.0,0.18518518518518517,0.0],\"sizemode\":\"area\",\"sizeref\":0.0019433318451072884,\"symbol\":\"circle\"},\"mode\":\"markers\",\"name\":\"2024-12-31 00:00:00\",\"orientation\":\"v\",\"showlegend\":true,\"x\":[\"SCOR\",\"AXON\",\"FNLC\",\"NVCR\",\"FNKO\",\"NVEC\",\"SLAB\",\"AGNC\",\"NMRK\",\"IFRX\",\"CVCO\",\"TWST\",\"STRT\",\"NMRA\",\"KLXE\",\"NVCT\"],\"xaxis\":\"x\",\"y\":[0.5835438713111306,0.20828621540128386,0.009707286324718642,0.0,0.40321016211997385,0.0,0.3376926310692793,0.005976254047605521,0.2872396032372848,0.0006680088231730355,0.10754838295326703,0.16435965690624077,0.0,0.0,0.003287310979618672,0.0],\"yaxis\":\"y\",\"type\":\"scatter\"}],                        {\"template\":{\"data\":{\"histogram2dcontour\":[{\"type\":\"histogram2dcontour\",\"colorbar\":{\"outlinewidth\":0,\"ticks\":\"\"},\"colorscale\":[[0.0,\"#0d0887\"],[0.1111111111111111,\"#46039f\"],[0.2222222222222222,\"#7201a8\"],[0.3333333333333333,\"#9c179e\"],[0.4444444444444444,\"#bd3786\"],[0.5555555555555556,\"#d8576b\"],[0.6666666666666666,\"#ed7953\"],[0.7777777777777778,\"#fb9f3a\"],[0.8888888888888888,\"#fdca26\"],[1.0,\"#f0f921\"]]}],\"choropleth\":[{\"type\":\"choropleth\",\"colorbar\":{\"outlinewidth\":0,\"ticks\":\"\"}}],\"histogram2d\":[{\"type\":\"histogram2d\",\"colorbar\":{\"outlinewidth\":0,\"ticks\":\"\"},\"colorscale\":[[0.0,\"#0d0887\"],[0.1111111111111111,\"#46039f\"],[0.2222222222222222,\"#7201a8\"],[0.3333333333333333,\"#9c179e\"],[0.4444444444444444,\"#bd3786\"],[0.5555555555555556,\"#d8576b\"],[0.6666666666666666,\"#ed7953\"],[0.7777777777777778,\"#fb9f3a\"],[0.8888888888888888,\"#fdca26\"],[1.0,\"#f0f921\"]]}],\"heatmap\":[{\"type\":\"heatmap\",\"colorbar\":{\"outlinewidth\":0,\"ticks\":\"\"},\"colorscale\":[[0.0,\"#0d0887\"],[0.1111111111111111,\"#46039f\"],[0.2222222222222222,\"#7201a8\"],[0.3333333333333333,\"#9c179e\"],[0.4444444444444444,\"#bd3786\"],[0.5555555555555556,\"#d8576b\"],[0.6666666666666666,\"#ed7953\"],[0.7777777777777778,\"#fb9f3a\"],[0.8888888888888888,\"#fdca26\"],[1.0,\"#f0f921\"]]}],\"heatmapgl\":[{\"type\":\"heatmapgl\",\"colorbar\":{\"outlinewidth\":0,\"ticks\":\"\"},\"colorscale\":[[0.0,\"#0d0887\"],[0.1111111111111111,\"#46039f\"],[0.2222222222222222,\"#7201a8\"],[0.3333333333333333,\"#9c179e\"],[0.4444444444444444,\"#bd3786\"],[0.5555555555555556,\"#d8576b\"],[0.6666666666666666,\"#ed7953\"],[0.7777777777777778,\"#fb9f3a\"],[0.8888888888888888,\"#fdca26\"],[1.0,\"#f0f921\"]]}],\"contourcarpet\":[{\"type\":\"contourcarpet\",\"colorbar\":{\"outlinewidth\":0,\"ticks\":\"\"}}],\"contour\":[{\"type\":\"contour\",\"colorbar\":{\"outlinewidth\":0,\"ticks\":\"\"},\"colorscale\":[[0.0,\"#0d0887\"],[0.1111111111111111,\"#46039f\"],[0.2222222222222222,\"#7201a8\"],[0.3333333333333333,\"#9c179e\"],[0.4444444444444444,\"#bd3786\"],[0.5555555555555556,\"#d8576b\"],[0.6666666666666666,\"#ed7953\"],[0.7777777777777778,\"#fb9f3a\"],[0.8888888888888888,\"#fdca26\"],[1.0,\"#f0f921\"]]}],\"surface\":[{\"type\":\"surface\",\"colorbar\":{\"outlinewidth\":0,\"ticks\":\"\"},\"colorscale\":[[0.0,\"#0d0887\"],[0.1111111111111111,\"#46039f\"],[0.2222222222222222,\"#7201a8\"],[0.3333333333333333,\"#9c179e\"],[0.4444444444444444,\"#bd3786\"],[0.5555555555555556,\"#d8576b\"],[0.6666666666666666,\"#ed7953\"],[0.7777777777777778,\"#fb9f3a\"],[0.8888888888888888,\"#fdca26\"],[1.0,\"#f0f921\"]]}],\"mesh3d\":[{\"type\":\"mesh3d\",\"colorbar\":{\"outlinewidth\":0,\"ticks\":\"\"}}],\"scatter\":[{\"fillpattern\":{\"fillmode\":\"overlay\",\"size\":10,\"solidity\":0.2},\"type\":\"scatter\"}],\"parcoords\":[{\"type\":\"parcoords\",\"line\":{\"colorbar\":{\"outlinewidth\":0,\"ticks\":\"\"}}}],\"scatterpolargl\":[{\"type\":\"scatterpolargl\",\"marker\":{\"colorbar\":{\"outlinewidth\":0,\"ticks\":\"\"}}}],\"bar\":[{\"error_x\":{\"color\":\"#2a3f5f\"},\"error_y\":{\"color\":\"#2a3f5f\"},\"marker\":{\"line\":{\"color\":\"#E5ECF6\",\"width\":0.5},\"pattern\":{\"fillmode\":\"overlay\",\"size\":10,\"solidity\":0.2}},\"type\":\"bar\"}],\"scattergeo\":[{\"type\":\"scattergeo\",\"marker\":{\"colorbar\":{\"outlinewidth\":0,\"ticks\":\"\"}}}],\"scatterpolar\":[{\"type\":\"scatterpolar\",\"marker\":{\"colorbar\":{\"outlinewidth\":0,\"ticks\":\"\"}}}],\"histogram\":[{\"marker\":{\"pattern\":{\"fillmode\":\"overlay\",\"size\":10,\"solidity\":0.2}},\"type\":\"histogram\"}],\"scattergl\":[{\"type\":\"scattergl\",\"marker\":{\"colorbar\":{\"outlinewidth\":0,\"ticks\":\"\"}}}],\"scatter3d\":[{\"type\":\"scatter3d\",\"line\":{\"colorbar\":{\"outlinewidth\":0,\"ticks\":\"\"}},\"marker\":{\"colorbar\":{\"outlinewidth\":0,\"ticks\":\"\"}}}],\"scattermapbox\":[{\"type\":\"scattermapbox\",\"marker\":{\"colorbar\":{\"outlinewidth\":0,\"ticks\":\"\"}}}],\"scatterternary\":[{\"type\":\"scatterternary\",\"marker\":{\"colorbar\":{\"outlinewidth\":0,\"ticks\":\"\"}}}],\"scattercarpet\":[{\"type\":\"scattercarpet\",\"marker\":{\"colorbar\":{\"outlinewidth\":0,\"ticks\":\"\"}}}],\"carpet\":[{\"aaxis\":{\"endlinecolor\":\"#2a3f5f\",\"gridcolor\":\"white\",\"linecolor\":\"white\",\"minorgridcolor\":\"white\",\"startlinecolor\":\"#2a3f5f\"},\"baxis\":{\"endlinecolor\":\"#2a3f5f\",\"gridcolor\":\"white\",\"linecolor\":\"white\",\"minorgridcolor\":\"white\",\"startlinecolor\":\"#2a3f5f\"},\"type\":\"carpet\"}],\"table\":[{\"cells\":{\"fill\":{\"color\":\"#EBF0F8\"},\"line\":{\"color\":\"white\"}},\"header\":{\"fill\":{\"color\":\"#C8D4E3\"},\"line\":{\"color\":\"white\"}},\"type\":\"table\"}],\"barpolar\":[{\"marker\":{\"line\":{\"color\":\"#E5ECF6\",\"width\":0.5},\"pattern\":{\"fillmode\":\"overlay\",\"size\":10,\"solidity\":0.2}},\"type\":\"barpolar\"}],\"pie\":[{\"automargin\":true,\"type\":\"pie\"}]},\"layout\":{\"autotypenumbers\":\"strict\",\"colorway\":[\"#636efa\",\"#EF553B\",\"#00cc96\",\"#ab63fa\",\"#FFA15A\",\"#19d3f3\",\"#FF6692\",\"#B6E880\",\"#FF97FF\",\"#FECB52\"],\"font\":{\"color\":\"#2a3f5f\"},\"hovermode\":\"closest\",\"hoverlabel\":{\"align\":\"left\"},\"paper_bgcolor\":\"white\",\"plot_bgcolor\":\"#E5ECF6\",\"polar\":{\"bgcolor\":\"#E5ECF6\",\"angularaxis\":{\"gridcolor\":\"white\",\"linecolor\":\"white\",\"ticks\":\"\"},\"radialaxis\":{\"gridcolor\":\"white\",\"linecolor\":\"white\",\"ticks\":\"\"}},\"ternary\":{\"bgcolor\":\"#E5ECF6\",\"aaxis\":{\"gridcolor\":\"white\",\"linecolor\":\"white\",\"ticks\":\"\"},\"baxis\":{\"gridcolor\":\"white\",\"linecolor\":\"white\",\"ticks\":\"\"},\"caxis\":{\"gridcolor\":\"white\",\"linecolor\":\"white\",\"ticks\":\"\"}},\"coloraxis\":{\"colorbar\":{\"outlinewidth\":0,\"ticks\":\"\"}},\"colorscale\":{\"sequential\":[[0.0,\"#0d0887\"],[0.1111111111111111,\"#46039f\"],[0.2222222222222222,\"#7201a8\"],[0.3333333333333333,\"#9c179e\"],[0.4444444444444444,\"#bd3786\"],[0.5555555555555556,\"#d8576b\"],[0.6666666666666666,\"#ed7953\"],[0.7777777777777778,\"#fb9f3a\"],[0.8888888888888888,\"#fdca26\"],[1.0,\"#f0f921\"]],\"sequentialminus\":[[0.0,\"#0d0887\"],[0.1111111111111111,\"#46039f\"],[0.2222222222222222,\"#7201a8\"],[0.3333333333333333,\"#9c179e\"],[0.4444444444444444,\"#bd3786\"],[0.5555555555555556,\"#d8576b\"],[0.6666666666666666,\"#ed7953\"],[0.7777777777777778,\"#fb9f3a\"],[0.8888888888888888,\"#fdca26\"],[1.0,\"#f0f921\"]],\"diverging\":[[0,\"#8e0152\"],[0.1,\"#c51b7d\"],[0.2,\"#de77ae\"],[0.3,\"#f1b6da\"],[0.4,\"#fde0ef\"],[0.5,\"#f7f7f7\"],[0.6,\"#e6f5d0\"],[0.7,\"#b8e186\"],[0.8,\"#7fbc41\"],[0.9,\"#4d9221\"],[1,\"#276419\"]]},\"xaxis\":{\"gridcolor\":\"white\",\"linecolor\":\"white\",\"ticks\":\"\",\"title\":{\"standoff\":15},\"zerolinecolor\":\"white\",\"automargin\":true,\"zerolinewidth\":2},\"yaxis\":{\"gridcolor\":\"white\",\"linecolor\":\"white\",\"ticks\":\"\",\"title\":{\"standoff\":15},\"zerolinecolor\":\"white\",\"automargin\":true,\"zerolinewidth\":2},\"scene\":{\"xaxis\":{\"backgroundcolor\":\"#E5ECF6\",\"gridcolor\":\"white\",\"linecolor\":\"white\",\"showbackground\":true,\"ticks\":\"\",\"zerolinecolor\":\"white\",\"gridwidth\":2},\"yaxis\":{\"backgroundcolor\":\"#E5ECF6\",\"gridcolor\":\"white\",\"linecolor\":\"white\",\"showbackground\":true,\"ticks\":\"\",\"zerolinecolor\":\"white\",\"gridwidth\":2},\"zaxis\":{\"backgroundcolor\":\"#E5ECF6\",\"gridcolor\":\"white\",\"linecolor\":\"white\",\"showbackground\":true,\"ticks\":\"\",\"zerolinecolor\":\"white\",\"gridwidth\":2}},\"shapedefaults\":{\"line\":{\"color\":\"#2a3f5f\"}},\"annotationdefaults\":{\"arrowcolor\":\"#2a3f5f\",\"arrowhead\":0,\"arrowwidth\":1},\"geo\":{\"bgcolor\":\"white\",\"landcolor\":\"#E5ECF6\",\"subunitcolor\":\"white\",\"showland\":true,\"showlakes\":true,\"lakecolor\":\"white\"},\"title\":{\"x\":0.05},\"mapbox\":{\"style\":\"light\"}}},\"xaxis\":{\"anchor\":\"y\",\"domain\":[0.0,1.0],\"title\":{\"text\":\"Ticker\"}},\"yaxis\":{\"anchor\":\"x\",\"domain\":[0.0,1.0],\"title\":{\"text\":\"Goodwill Porportion\"}},\"legend\":{\"title\":{\"text\":\"Date\"},\"tracegroupgap\":0,\"itemsizing\":\"constant\"},\"title\":{\"text\":\"Proportion of goodwill to total assets \"}},                        {\"responsive\": true}                    ).then(function(){\n",
       "                            \n",
       "var gd = document.getElementById('6345abdf-515a-4dd5-aff6-1d90800747a3');\n",
       "var x = new MutationObserver(function (mutations, observer) {{\n",
       "        var display = window.getComputedStyle(gd).display;\n",
       "        if (!display || display === 'none') {{\n",
       "            console.log([gd, 'removed!']);\n",
       "            Plotly.purge(gd);\n",
       "            observer.disconnect();\n",
       "        }}\n",
       "}});\n",
       "\n",
       "// Listen for the removal of the full notebook cells\n",
       "var notebookContainer = gd.closest('#notebook-container');\n",
       "if (notebookContainer) {{\n",
       "    x.observe(notebookContainer, {childList: true});\n",
       "}}\n",
       "\n",
       "// Listen for the clearing of the current output cell\n",
       "var outputEl = gd.closest('.output');\n",
       "if (outputEl) {{\n",
       "    x.observe(outputEl, {childList: true});\n",
       "}}\n",
       "\n",
       "                        })                };                });            </script>        </div>"
      ]
     },
     "metadata": {},
     "output_type": "display_data"
    }
   ],
   "source": [
    "balance['Goodwill And Other Intangible Assets'] = balance['Goodwill And Other Intangible Assets'].fillna(0)\n",
    "balance['Total Assets'] = balance['Total Assets'].fillna(0)\n",
    "\n",
    "# Calculate the proportion of goodwill to total assets\n",
    "balance['Goodwill/Assets'] = balance['Goodwill And Other Intangible Assets'] / balance['Total Assets']\n",
    "\n",
    "# Group by Ticker and calculate the total goodwill of each Ticker\n",
    "ticker_total_goodwill = balance.groupby('Ticker')['Goodwill And Other Intangible Assets'].transform('sum')\n",
    "\n",
    "# Avoid zero denominator: Set the denominator of a company with zero total goodwill to 1 (avoid NaN), and replace it with 1 if the total goodwill is 0\n",
    "ticker_total_goodwill = ticker_total_goodwill.replace(0, 1)  \n",
    "\n",
    "# Calculate the relative proportion\n",
    "balance['Goodwill_Ticker_Relative'] = (\n",
    "    balance['Goodwill And Other Intangible Assets'] / ticker_total_goodwill\n",
    ")\n",
    "\n",
    "fig2 = px.scatter(\n",
    "    balance,\n",
    "    x='Ticker',\n",
    "    y='Goodwill/Assets',\n",
    "    size='Goodwill_Ticker_Relative',  \n",
    "    color='Date',\n",
    "    title='Proportion of goodwill to total assets ',\n",
    "    labels={'Goodwill/Assets': 'Goodwill Porportion'}\n",
    ")\n",
    "fig2.show()"
   ]
  },
  {
   "cell_type": "markdown",
   "id": "11d54b9d-e027-4fe7-91c4-3e24df6ef23e",
   "metadata": {},
   "source": [
    "# 2.2 Proportion of goodwill to total assets\n",
    "Excessive operating expenses do not necessarily mean that a company has the risk of cost control. Companies also have similar goodwill assets that can prove their potential financing ability to counter potential operating expenses. Therefore, we use scatter plots to observe which companies have a higher proportion of goodwill.Through Group by Ticker, I calculate the total goodwill of each Ticker, and then calculate the proportion of goodwill for each year to observe whether the proportion of goodwill assets has significantly decreased or increased during this period"
   ]
  },
  {
   "cell_type": "code",
   "execution_count": 286,
   "id": "9485be6e-eb05-48bd-ad4a-389e76a186a2",
   "metadata": {},
   "outputs": [
    {
     "data": {
      "application/vnd.plotly.v1+json": {
       "config": {
        "plotlyServerURL": "https://plot.ly"
       },
       "data": [
        {
         "hovertemplate": "Ticker=OPTN<br>Date=%{x}<br>Asset liability ratio=%{y}<extra></extra>",
         "legendgroup": "OPTN",
         "line": {
          "color": "#636efa",
          "dash": "solid"
         },
         "marker": {
          "symbol": "circle"
         },
         "mode": "lines",
         "name": "OPTN",
         "orientation": "v",
         "showlegend": true,
         "type": "scatter",
         "x": [
          "2024-09-30T00:00:00",
          "2024-06-30T00:00:00",
          "2024-03-31T00:00:00",
          "2023-12-31T00:00:00",
          "2023-09-30T00:00:00",
          "2023-06-30T00:00:00"
         ],
         "xaxis": "x",
         "y": [
          0.9692337047778965,
          0.9566701043436059,
          1.569498369312005,
          1.2229668891384864,
          1.291271805693887,
          null
         ],
         "yaxis": "y"
        },
        {
         "hovertemplate": "Ticker=UONEK<br>Date=%{x}<br>Asset liability ratio=%{y}<extra></extra>",
         "legendgroup": "UONEK",
         "line": {
          "color": "#EF553B",
          "dash": "solid"
         },
         "marker": {
          "symbol": "circle"
         },
         "mode": "lines",
         "name": "UONEK",
         "orientation": "v",
         "showlegend": true,
         "type": "scatter",
         "x": [
          "2024-09-30T00:00:00",
          "2024-06-30T00:00:00",
          "2024-03-31T00:00:00",
          "2023-12-31T00:00:00",
          "2023-09-30T00:00:00",
          "2023-06-30T00:00:00"
         ],
         "xaxis": "x",
         "y": [
          0.6528797437780685,
          0.6301934534755425,
          0.601162676073224,
          0.6186325157512593,
          0.6261809487857053,
          null
         ],
         "yaxis": "y"
        },
        {
         "hovertemplate": "Ticker=SCOR<br>Date=%{x}<br>Asset liability ratio=%{y}<extra></extra>",
         "legendgroup": "SCOR",
         "line": {
          "color": "#00cc96",
          "dash": "solid"
         },
         "marker": {
          "symbol": "circle"
         },
         "mode": "lines",
         "name": "SCOR",
         "orientation": "v",
         "showlegend": true,
         "type": "scatter",
         "x": [
          "2024-12-31T00:00:00",
          "2024-09-30T00:00:00",
          "2024-06-30T00:00:00",
          "2024-03-31T00:00:00",
          "2023-12-31T00:00:00",
          "2023-09-30T00:00:00",
          "2023-06-30T00:00:00"
         ],
         "xaxis": "x",
         "y": [
          0.1490329973247925,
          0.08490964016079057,
          0.0764475621227396,
          0.0926843565185534,
          0.09563500544479386,
          null,
          null
         ],
         "yaxis": "y"
        },
        {
         "hovertemplate": "Ticker=AXON<br>Date=%{x}<br>Asset liability ratio=%{y}<extra></extra>",
         "legendgroup": "AXON",
         "line": {
          "color": "#ab63fa",
          "dash": "solid"
         },
         "marker": {
          "symbol": "circle"
         },
         "mode": "lines",
         "name": "AXON",
         "orientation": "v",
         "showlegend": true,
         "type": "scatter",
         "x": [
          "2024-12-31T00:00:00",
          "2024-09-30T00:00:00",
          "2024-06-30T00:00:00",
          "2024-03-31T00:00:00",
          "2023-12-31T00:00:00",
          "2023-09-30T00:00:00",
          "2023-06-30T00:00:00"
         ],
         "xaxis": "x",
         "y": [
          0.1612823348205466,
          0.17992200033053246,
          0.19249379403960593,
          0.19646086661231857,
          0.2084560658974872,
          null,
          null
         ],
         "yaxis": "y"
        },
        {
         "hovertemplate": "Ticker=STRS<br>Date=%{x}<br>Asset liability ratio=%{y}<extra></extra>",
         "legendgroup": "STRS",
         "line": {
          "color": "#FFA15A",
          "dash": "solid"
         },
         "marker": {
          "symbol": "circle"
         },
         "mode": "lines",
         "name": "STRS",
         "orientation": "v",
         "showlegend": true,
         "type": "scatter",
         "x": [
          "2024-09-30T00:00:00",
          "2024-06-30T00:00:00",
          "2024-03-31T00:00:00",
          "2023-12-31T00:00:00",
          "2023-09-30T00:00:00",
          "2023-06-30T00:00:00"
         ],
         "xaxis": "x",
         "y": [
          0.37674223020757674,
          0.37740264894477993,
          0.3610595917309923,
          0.3689581780186416,
          0.34269084361012786,
          null
         ],
         "yaxis": "y"
        },
        {
         "hovertemplate": "Ticker=CMRX<br>Date=%{x}<br>Asset liability ratio=%{y}<extra></extra>",
         "legendgroup": "CMRX",
         "line": {
          "color": "#19d3f3",
          "dash": "solid"
         },
         "marker": {
          "symbol": "circle"
         },
         "mode": "lines",
         "name": "CMRX",
         "orientation": "v",
         "showlegend": true,
         "type": "scatter",
         "x": [
          "2024-09-30T00:00:00",
          "2024-06-30T00:00:00",
          "2024-03-31T00:00:00",
          "2023-12-31T00:00:00",
          "2023-09-30T00:00:00",
          "2023-06-30T00:00:00"
         ],
         "xaxis": "x",
         "y": [
          0.004058789421937631,
          0.004632767728599358,
          0.005179291081312294,
          0.006119168695423313,
          0.006520716257845722,
          null
         ],
         "yaxis": "y"
        },
        {
         "hovertemplate": "Ticker=BSBK<br>Date=%{x}<br>Asset liability ratio=%{y}<extra></extra>",
         "legendgroup": "BSBK",
         "line": {
          "color": "#FF6692",
          "dash": "solid"
         },
         "marker": {
          "symbol": "circle"
         },
         "mode": "lines",
         "name": "BSBK",
         "orientation": "v",
         "showlegend": true,
         "type": "scatter",
         "x": [
          "2024-09-30T00:00:00",
          "2024-06-30T00:00:00",
          "2024-03-31T00:00:00",
          "2023-12-31T00:00:00",
          "2023-09-30T00:00:00"
         ],
         "xaxis": "x",
         "y": [
          0.20693414204203592,
          0.18409763786549915,
          0.15540588604037414,
          0.17852160357886573,
          0.14596582499545352
         ],
         "yaxis": "y"
        },
        {
         "hovertemplate": "Ticker=FNLC<br>Date=%{x}<br>Asset liability ratio=%{y}<extra></extra>",
         "legendgroup": "FNLC",
         "line": {
          "color": "#B6E880",
          "dash": "solid"
         },
         "marker": {
          "symbol": "circle"
         },
         "mode": "lines",
         "name": "FNLC",
         "orientation": "v",
         "showlegend": true,
         "type": "scatter",
         "x": [
          "2024-12-31T00:00:00",
          "2024-09-30T00:00:00",
          "2024-06-30T00:00:00",
          "2024-03-31T00:00:00",
          "2023-12-31T00:00:00",
          "2023-09-30T00:00:00",
          "2023-06-30T00:00:00"
         ],
         "xaxis": "x",
         "y": [
          0.030091764042559258,
          0.030230101989999883,
          0.07475662443143215,
          0.051971176930799785,
          0.006813049725489345,
          null,
          null
         ],
         "yaxis": "y"
        },
        {
         "hovertemplate": "Ticker=NVCR<br>Date=%{x}<br>Asset liability ratio=%{y}<extra></extra>",
         "legendgroup": "NVCR",
         "line": {
          "color": "#FF97FF",
          "dash": "solid"
         },
         "marker": {
          "symbol": "circle"
         },
         "mode": "lines",
         "name": "NVCR",
         "orientation": "v",
         "showlegend": true,
         "type": "scatter",
         "x": [
          "2024-12-31T00:00:00",
          "2024-09-30T00:00:00",
          "2024-06-30T00:00:00",
          "2024-03-31T00:00:00",
          "2023-12-31T00:00:00",
          "2023-09-30T00:00:00",
          "2023-06-30T00:00:00"
         ],
         "xaxis": "x",
         "y": [
          0.5507437233233181,
          0.5528917679907953,
          0.5570184050091984,
          0.5308048926860283,
          0.527483381015575,
          null,
          null
         ],
         "yaxis": "y"
        },
        {
         "hovertemplate": "Ticker=FNKO<br>Date=%{x}<br>Asset liability ratio=%{y}<extra></extra>",
         "legendgroup": "FNKO",
         "line": {
          "color": "#FECB52",
          "dash": "solid"
         },
         "marker": {
          "symbol": "circle"
         },
         "mode": "lines",
         "name": "FNKO",
         "orientation": "v",
         "showlegend": true,
         "type": "scatter",
         "x": [
          "2024-12-31T00:00:00",
          "2024-09-30T00:00:00",
          "2024-06-30T00:00:00",
          "2024-03-31T00:00:00",
          "2023-12-31T00:00:00",
          "2023-09-30T00:00:00",
          "2023-06-30T00:00:00"
         ],
         "xaxis": "x",
         "y": [
          0.3680530615592135,
          0.3880807683766945,
          0.4139234157912572,
          0.45609203387587666,
          0.45374380936281045,
          null,
          null
         ],
         "yaxis": "y"
        },
        {
         "hovertemplate": "Ticker=NVEC<br>Date=%{x}<br>Asset liability ratio=%{y}<extra></extra>",
         "legendgroup": "NVEC",
         "line": {
          "color": "#636efa",
          "dash": "solid"
         },
         "marker": {
          "symbol": "circle"
         },
         "mode": "lines",
         "name": "NVEC",
         "orientation": "v",
         "showlegend": true,
         "type": "scatter",
         "x": [
          "2024-12-31T00:00:00",
          "2024-09-30T00:00:00",
          "2024-06-30T00:00:00",
          "2024-03-31T00:00:00",
          "2023-12-31T00:00:00",
          "2023-09-30T00:00:00"
         ],
         "xaxis": "x",
         "y": [
          0.014705451571891272,
          0.004095613331112858,
          0.004687034988112786,
          0.005318161492972009,
          0.005874290667665127,
          null
         ],
         "yaxis": "y"
        },
        {
         "hovertemplate": "Ticker=SLAB<br>Date=%{x}<br>Asset liability ratio=%{y}<extra></extra>",
         "legendgroup": "SLAB",
         "line": {
          "color": "#EF553B",
          "dash": "solid"
         },
         "marker": {
          "symbol": "circle"
         },
         "mode": "lines",
         "name": "SLAB",
         "orientation": "v",
         "showlegend": true,
         "type": "scatter",
         "x": [
          "2024-12-31T00:00:00",
          "2024-09-30T00:00:00",
          "2024-06-30T00:00:00",
          "2024-03-31T00:00:00",
          "2023-12-31T00:00:00",
          "2023-09-30T00:00:00",
          "2023-06-30T00:00:00"
         ],
         "xaxis": "x",
         "y": [
          0.012717208348259634,
          null,
          null,
          null,
          0.04492549145701899,
          null,
          null
         ],
         "yaxis": "y"
        },
        {
         "hovertemplate": "Ticker=MSBI<br>Date=%{x}<br>Asset liability ratio=%{y}<extra></extra>",
         "legendgroup": "MSBI",
         "line": {
          "color": "#00cc96",
          "dash": "solid"
         },
         "marker": {
          "symbol": "circle"
         },
         "mode": "lines",
         "name": "MSBI",
         "orientation": "v",
         "showlegend": true,
         "type": "scatter",
         "x": [
          "2024-09-30T00:00:00",
          "2024-06-30T00:00:00",
          "2024-03-31T00:00:00",
          "2023-12-31T00:00:00",
          "2023-09-30T00:00:00"
         ],
         "xaxis": "x",
         "y": [
          0.06550282055704695,
          0.0891622495221904,
          0.04451295990492107,
          0.07682994045406634,
          0.07917263514890123
         ],
         "yaxis": "y"
        },
        {
         "hovertemplate": "Ticker=AGNC<br>Date=%{x}<br>Asset liability ratio=%{y}<extra></extra>",
         "legendgroup": "AGNC",
         "line": {
          "color": "#ab63fa",
          "dash": "solid"
         },
         "marker": {
          "symbol": "circle"
         },
         "mode": "lines",
         "name": "AGNC",
         "orientation": "v",
         "showlegend": true,
         "type": "scatter",
         "x": [
          "2024-12-31T00:00:00",
          "2024-09-30T00:00:00",
          "2024-06-30T00:00:00",
          "2024-03-31T00:00:00",
          "2023-12-31T00:00:00",
          "2023-09-30T00:00:00",
          "2023-06-30T00:00:00"
         ],
         "xaxis": "x",
         "y": [
          0.0007271487814577061,
          0.0007701752427726309,
          0.0008910083453598544,
          0.0010573765930213144,
          0.0011173808592658807,
          null,
          null
         ],
         "yaxis": "y"
        },
        {
         "hovertemplate": "Ticker=NMRK<br>Date=%{x}<br>Asset liability ratio=%{y}<extra></extra>",
         "legendgroup": "NMRK",
         "line": {
          "color": "#FFA15A",
          "dash": "solid"
         },
         "marker": {
          "symbol": "circle"
         },
         "mode": "lines",
         "name": "NMRK",
         "orientation": "v",
         "showlegend": true,
         "type": "scatter",
         "x": [
          "2024-12-31T00:00:00",
          "2024-09-30T00:00:00",
          "2024-06-30T00:00:00",
          "2024-03-31T00:00:00",
          "2023-12-31T00:00:00",
          "2023-09-30T00:00:00",
          "2023-06-30T00:00:00"
         ],
         "xaxis": "x",
         "y": [
          0.4295531748660331,
          0.47901422366176555,
          0.4567805352025012,
          0.41532754309099074,
          0.3915888696935643,
          null,
          null
         ],
         "yaxis": "y"
        },
        {
         "hovertemplate": "Ticker=OPTX<br>Date=%{x}<br>Asset liability ratio=%{y}<extra></extra>",
         "legendgroup": "OPTX",
         "line": {
          "color": "#19d3f3",
          "dash": "solid"
         },
         "marker": {
          "symbol": "circle"
         },
         "mode": "lines",
         "name": "OPTX",
         "orientation": "v",
         "showlegend": true,
         "type": "scatter",
         "x": [
          "2024-09-30T00:00:00",
          "2024-06-30T00:00:00",
          "2024-03-31T00:00:00",
          "2023-12-31T00:00:00",
          "2023-06-30T00:00:00"
         ],
         "xaxis": "x",
         "y": [
          0.413621280583109,
          0.3698378863741451,
          0.3589711650443048,
          0.3362035652294024,
          0.4212828822967738
         ],
         "yaxis": "y"
        },
        {
         "hovertemplate": "Ticker=IFRX<br>Date=%{x}<br>Asset liability ratio=%{y}<extra></extra>",
         "legendgroup": "IFRX",
         "line": {
          "color": "#FF6692",
          "dash": "solid"
         },
         "marker": {
          "symbol": "circle"
         },
         "mode": "lines",
         "name": "IFRX",
         "orientation": "v",
         "showlegend": true,
         "type": "scatter",
         "x": [
          "2024-12-31T00:00:00",
          "2024-09-30T00:00:00",
          "2024-06-30T00:00:00",
          "2024-03-31T00:00:00",
          "2023-12-31T00:00:00",
          "2023-09-30T00:00:00",
          "2023-06-30T00:00:00"
         ],
         "xaxis": "x",
         "y": [
          0.010590664843407701,
          0.011267815219410598,
          0.010734250370609865,
          0.010319291983438852,
          0.009317515190745458,
          null,
          null
         ],
         "yaxis": "y"
        },
        {
         "hovertemplate": "Ticker=CVCO<br>Date=%{x}<br>Asset liability ratio=%{y}<extra></extra>",
         "legendgroup": "CVCO",
         "line": {
          "color": "#B6E880",
          "dash": "solid"
         },
         "marker": {
          "symbol": "circle"
         },
         "mode": "lines",
         "name": "CVCO",
         "orientation": "v",
         "showlegend": true,
         "type": "scatter",
         "x": [
          "2024-12-31T00:00:00",
          "2024-09-30T00:00:00",
          "2024-06-30T00:00:00",
          "2024-03-31T00:00:00",
          "2023-12-31T00:00:00",
          "2023-09-30T00:00:00",
          "2023-06-30T00:00:00"
         ],
         "xaxis": "x",
         "y": [
          0.02271088862702027,
          0.02323339314820523,
          0.02453352763344492,
          0.02595557393513322,
          0.02509053246052302,
          null,
          null
         ],
         "yaxis": "y"
        },
        {
         "hovertemplate": "Ticker=TWST<br>Date=%{x}<br>Asset liability ratio=%{y}<extra></extra>",
         "legendgroup": "TWST",
         "line": {
          "color": "#FF97FF",
          "dash": "solid"
         },
         "marker": {
          "symbol": "circle"
         },
         "mode": "lines",
         "name": "TWST",
         "orientation": "v",
         "showlegend": true,
         "type": "scatter",
         "x": [
          "2024-12-31T00:00:00",
          "2024-09-30T00:00:00",
          "2024-06-30T00:00:00",
          "2024-03-31T00:00:00",
          "2023-12-31T00:00:00",
          "2023-09-30T00:00:00",
          "2023-06-30T00:00:00"
         ],
         "xaxis": "x",
         "y": [
          0.13575207860922148,
          0.13840601768125238,
          0.13662049965680328,
          0.12723270816082044,
          0.12537680042029709,
          null,
          null
         ],
         "yaxis": "y"
        },
        {
         "hovertemplate": "Ticker=STRT<br>Date=%{x}<br>Asset liability ratio=%{y}<extra></extra>",
         "legendgroup": "STRT",
         "line": {
          "color": "#FECB52",
          "dash": "solid"
         },
         "marker": {
          "symbol": "circle"
         },
         "mode": "lines",
         "name": "STRT",
         "orientation": "v",
         "showlegend": true,
         "type": "scatter",
         "x": [
          "2024-12-31T00:00:00",
          "2024-09-30T00:00:00",
          "2024-06-30T00:00:00",
          "2024-03-31T00:00:00",
          "2023-12-31T00:00:00",
          "2023-09-30T00:00:00",
          "2023-06-30T00:00:00"
         ],
         "xaxis": "x",
         "y": [
          0.03652762753059189,
          0.03543518495803656,
          0.03568595263650563,
          0.03729748184616797,
          0.039186016018037624,
          null,
          null
         ],
         "yaxis": "y"
        },
        {
         "hovertemplate": "Ticker=SCNI<br>Date=%{x}<br>Asset liability ratio=%{y}<extra></extra>",
         "legendgroup": "SCNI",
         "line": {
          "color": "#636efa",
          "dash": "solid"
         },
         "marker": {
          "symbol": "circle"
         },
         "mode": "lines",
         "name": "SCNI",
         "orientation": "v",
         "showlegend": true,
         "type": "scatter",
         "x": [
          "2024-09-30T00:00:00",
          "2024-06-30T00:00:00",
          "2024-03-31T00:00:00",
          "2023-12-31T00:00:00",
          "2023-09-30T00:00:00",
          "2023-06-30T00:00:00"
         ],
         "xaxis": "x",
         "y": [
          0.10007340347443112,
          1.4021951383745201,
          1.2098410650401736,
          1.1767971611721613,
          1.0659240124852007,
          null
         ],
         "yaxis": "y"
        },
        {
         "hovertemplate": "Ticker=NMRA<br>Date=%{x}<br>Asset liability ratio=%{y}<extra></extra>",
         "legendgroup": "NMRA",
         "line": {
          "color": "#EF553B",
          "dash": "solid"
         },
         "marker": {
          "symbol": "circle"
         },
         "mode": "lines",
         "name": "NMRA",
         "orientation": "v",
         "showlegend": true,
         "type": "scatter",
         "x": [
          "2024-12-31T00:00:00",
          "2024-09-30T00:00:00",
          "2024-06-30T00:00:00",
          "2024-03-31T00:00:00",
          "2023-12-31T00:00:00",
          "2023-09-30T00:00:00",
          "2023-06-30T00:00:00"
         ],
         "xaxis": "x",
         "y": [
          0.005845942228335626,
          0.007786416744909045,
          0.008917776959154258,
          0.00983760947644549,
          0.010542226342466168,
          null,
          null
         ],
         "yaxis": "y"
        },
        {
         "hovertemplate": "Ticker=SDA<br>Date=%{x}<br>Asset liability ratio=%{y}<extra></extra>",
         "legendgroup": "SDA",
         "line": {
          "color": "#00cc96",
          "dash": "solid"
         },
         "marker": {
          "symbol": "circle"
         },
         "mode": "lines",
         "name": "SDA",
         "orientation": "v",
         "showlegend": true,
         "type": "scatter",
         "x": [
          "2024-09-30T00:00:00",
          "2024-06-30T00:00:00",
          "2023-12-31T00:00:00",
          "2023-06-30T00:00:00"
         ],
         "xaxis": "x",
         "y": [
          0.33373668445378984,
          0.33714990817263546,
          0.37754384393128315,
          0.38665916730277344
         ],
         "yaxis": "y"
        },
        {
         "hovertemplate": "Ticker=KLXE<br>Date=%{x}<br>Asset liability ratio=%{y}<extra></extra>",
         "legendgroup": "KLXE",
         "line": {
          "color": "#ab63fa",
          "dash": "solid"
         },
         "marker": {
          "symbol": "circle"
         },
         "mode": "lines",
         "name": "KLXE",
         "orientation": "v",
         "showlegend": true,
         "type": "scatter",
         "x": [
          "2024-12-31T00:00:00",
          "2024-09-30T00:00:00",
          "2024-06-30T00:00:00",
          "2024-03-31T00:00:00",
          "2023-12-31T00:00:00"
         ],
         "xaxis": "x",
         "y": [
          0.7558623712469866,
          0.7187756778964667,
          0.7212947882736156,
          0.7234170854271357,
          0.6769173768062245
         ],
         "yaxis": "y"
        },
        {
         "hovertemplate": "Ticker=JAGX<br>Date=%{x}<br>Asset liability ratio=%{y}<extra></extra>",
         "legendgroup": "JAGX",
         "line": {
          "color": "#FFA15A",
          "dash": "solid"
         },
         "marker": {
          "symbol": "circle"
         },
         "mode": "lines",
         "name": "JAGX",
         "orientation": "v",
         "showlegend": true,
         "type": "scatter",
         "x": [
          "2024-09-30T00:00:00",
          "2024-06-30T00:00:00",
          "2024-03-31T00:00:00",
          "2023-12-31T00:00:00",
          "2023-09-30T00:00:00",
          "2023-06-30T00:00:00"
         ],
         "xaxis": "x",
         "y": [
          0.5861355317620497,
          0.5557526155648481,
          0.6040007943815558,
          null,
          0.7832304980167475,
          0.606896419535383
         ],
         "yaxis": "y"
        },
        {
         "hovertemplate": "Ticker=CEAD<br>Date=%{x}<br>Asset liability ratio=%{y}<extra></extra>",
         "legendgroup": "CEAD",
         "line": {
          "color": "#19d3f3",
          "dash": "solid"
         },
         "marker": {
          "symbol": "circle"
         },
         "mode": "lines",
         "name": "CEAD",
         "orientation": "v",
         "showlegend": true,
         "type": "scatter",
         "x": [
          "2024-09-30T00:00:00",
          "2024-06-30T00:00:00",
          "2024-03-31T00:00:00",
          "2023-12-31T00:00:00",
          "2023-09-30T00:00:00",
          "2023-06-30T00:00:00"
         ],
         "xaxis": "x",
         "y": [
          0.02644705375911562,
          0.02620355729587899,
          0.028212376584751,
          0.02805320008600006,
          0.028189045177984123,
          null
         ],
         "yaxis": "y"
        },
        {
         "hovertemplate": "Ticker=NVCT<br>Date=%{x}<br>Asset liability ratio=%{y}<extra></extra>",
         "legendgroup": "NVCT",
         "line": {
          "color": "#FF6692",
          "dash": "solid"
         },
         "marker": {
          "symbol": "circle"
         },
         "mode": "lines",
         "name": "NVCT",
         "orientation": "v",
         "showlegend": true,
         "type": "scatter",
         "x": [
          "2024-12-31T00:00:00",
          "2024-09-30T00:00:00",
          "2024-06-30T00:00:00",
          "2024-03-31T00:00:00",
          "2023-12-31T00:00:00",
          "2023-09-30T00:00:00",
          "2023-06-30T00:00:00"
         ],
         "xaxis": "x",
         "y": [
          null,
          null,
          null,
          null,
          null,
          null,
          null
         ],
         "yaxis": "y"
        },
        {
         "hovertemplate": "Ticker=STRR<br>Date=%{x}<br>Asset liability ratio=%{y}<extra></extra>",
         "legendgroup": "STRR",
         "line": {
          "color": "#B6E880",
          "dash": "solid"
         },
         "marker": {
          "symbol": "circle"
         },
         "mode": "lines",
         "name": "STRR",
         "orientation": "v",
         "showlegend": true,
         "type": "scatter",
         "x": [
          "2024-09-30T00:00:00",
          "2024-06-30T00:00:00",
          "2024-03-31T00:00:00",
          "2023-12-31T00:00:00",
          "2023-09-30T00:00:00",
          "2023-06-30T00:00:00"
         ],
         "xaxis": "x",
         "y": [
          0.21453985511473,
          0.19402468280859694,
          0.04743960139011012,
          0.04780385715799512,
          0.030984473167086437,
          null
         ],
         "yaxis": "y"
        },
        {
         "hovertemplate": "Ticker=BCG<br>Date=%{x}<br>Asset liability ratio=%{y}<extra></extra>",
         "legendgroup": "BCG",
         "line": {
          "color": "#FF97FF",
          "dash": "solid"
         },
         "marker": {
          "symbol": "circle"
         },
         "mode": "lines",
         "name": "BCG",
         "orientation": "v",
         "showlegend": true,
         "type": "scatter",
         "x": [
          "2024-09-30T00:00:00",
          "2024-06-30T00:00:00",
          "2024-03-31T00:00:00",
          "2023-12-31T00:00:00",
          "2023-09-30T00:00:00",
          "2023-06-30T00:00:00"
         ],
         "xaxis": "x",
         "y": [
          0.42438361483207143,
          0.44309219986982123,
          0.4533151059466849,
          0.6311971517578994,
          0.6414996950390174,
          null
         ],
         "yaxis": "y"
        },
        {
         "hovertemplate": "Ticker=SCNX<br>Date=%{x}<br>Asset liability ratio=%{y}<extra></extra>",
         "legendgroup": "SCNX",
         "line": {
          "color": "#FECB52",
          "dash": "solid"
         },
         "marker": {
          "symbol": "circle"
         },
         "mode": "lines",
         "name": "SCNX",
         "orientation": "v",
         "showlegend": true,
         "type": "scatter",
         "x": [
          "2024-09-30T00:00:00",
          "2024-06-30T00:00:00",
          "2024-03-31T00:00:00",
          "2023-12-31T00:00:00",
          "2023-09-30T00:00:00",
          "2023-06-30T00:00:00"
         ],
         "xaxis": "x",
         "y": [
          0.029228781808147836,
          0.013038594452394725,
          0.012042580831934775,
          0.5668203393736156,
          0.2993905515986239,
          null
         ],
         "yaxis": "y"
        }
       ],
       "layout": {
        "autosize": true,
        "legend": {
         "title": {
          "text": "Ticker"
         },
         "tracegroupgap": 0
        },
        "template": {
         "data": {
          "bar": [
           {
            "error_x": {
             "color": "#2a3f5f"
            },
            "error_y": {
             "color": "#2a3f5f"
            },
            "marker": {
             "line": {
              "color": "#E5ECF6",
              "width": 0.5
             },
             "pattern": {
              "fillmode": "overlay",
              "size": 10,
              "solidity": 0.2
             }
            },
            "type": "bar"
           }
          ],
          "barpolar": [
           {
            "marker": {
             "line": {
              "color": "#E5ECF6",
              "width": 0.5
             },
             "pattern": {
              "fillmode": "overlay",
              "size": 10,
              "solidity": 0.2
             }
            },
            "type": "barpolar"
           }
          ],
          "carpet": [
           {
            "aaxis": {
             "endlinecolor": "#2a3f5f",
             "gridcolor": "white",
             "linecolor": "white",
             "minorgridcolor": "white",
             "startlinecolor": "#2a3f5f"
            },
            "baxis": {
             "endlinecolor": "#2a3f5f",
             "gridcolor": "white",
             "linecolor": "white",
             "minorgridcolor": "white",
             "startlinecolor": "#2a3f5f"
            },
            "type": "carpet"
           }
          ],
          "choropleth": [
           {
            "colorbar": {
             "outlinewidth": 0,
             "ticks": ""
            },
            "type": "choropleth"
           }
          ],
          "contour": [
           {
            "colorbar": {
             "outlinewidth": 0,
             "ticks": ""
            },
            "colorscale": [
             [
              0,
              "#0d0887"
             ],
             [
              0.1111111111111111,
              "#46039f"
             ],
             [
              0.2222222222222222,
              "#7201a8"
             ],
             [
              0.3333333333333333,
              "#9c179e"
             ],
             [
              0.4444444444444444,
              "#bd3786"
             ],
             [
              0.5555555555555556,
              "#d8576b"
             ],
             [
              0.6666666666666666,
              "#ed7953"
             ],
             [
              0.7777777777777778,
              "#fb9f3a"
             ],
             [
              0.8888888888888888,
              "#fdca26"
             ],
             [
              1,
              "#f0f921"
             ]
            ],
            "type": "contour"
           }
          ],
          "contourcarpet": [
           {
            "colorbar": {
             "outlinewidth": 0,
             "ticks": ""
            },
            "type": "contourcarpet"
           }
          ],
          "heatmap": [
           {
            "colorbar": {
             "outlinewidth": 0,
             "ticks": ""
            },
            "colorscale": [
             [
              0,
              "#0d0887"
             ],
             [
              0.1111111111111111,
              "#46039f"
             ],
             [
              0.2222222222222222,
              "#7201a8"
             ],
             [
              0.3333333333333333,
              "#9c179e"
             ],
             [
              0.4444444444444444,
              "#bd3786"
             ],
             [
              0.5555555555555556,
              "#d8576b"
             ],
             [
              0.6666666666666666,
              "#ed7953"
             ],
             [
              0.7777777777777778,
              "#fb9f3a"
             ],
             [
              0.8888888888888888,
              "#fdca26"
             ],
             [
              1,
              "#f0f921"
             ]
            ],
            "type": "heatmap"
           }
          ],
          "heatmapgl": [
           {
            "colorbar": {
             "outlinewidth": 0,
             "ticks": ""
            },
            "colorscale": [
             [
              0,
              "#0d0887"
             ],
             [
              0.1111111111111111,
              "#46039f"
             ],
             [
              0.2222222222222222,
              "#7201a8"
             ],
             [
              0.3333333333333333,
              "#9c179e"
             ],
             [
              0.4444444444444444,
              "#bd3786"
             ],
             [
              0.5555555555555556,
              "#d8576b"
             ],
             [
              0.6666666666666666,
              "#ed7953"
             ],
             [
              0.7777777777777778,
              "#fb9f3a"
             ],
             [
              0.8888888888888888,
              "#fdca26"
             ],
             [
              1,
              "#f0f921"
             ]
            ],
            "type": "heatmapgl"
           }
          ],
          "histogram": [
           {
            "marker": {
             "pattern": {
              "fillmode": "overlay",
              "size": 10,
              "solidity": 0.2
             }
            },
            "type": "histogram"
           }
          ],
          "histogram2d": [
           {
            "colorbar": {
             "outlinewidth": 0,
             "ticks": ""
            },
            "colorscale": [
             [
              0,
              "#0d0887"
             ],
             [
              0.1111111111111111,
              "#46039f"
             ],
             [
              0.2222222222222222,
              "#7201a8"
             ],
             [
              0.3333333333333333,
              "#9c179e"
             ],
             [
              0.4444444444444444,
              "#bd3786"
             ],
             [
              0.5555555555555556,
              "#d8576b"
             ],
             [
              0.6666666666666666,
              "#ed7953"
             ],
             [
              0.7777777777777778,
              "#fb9f3a"
             ],
             [
              0.8888888888888888,
              "#fdca26"
             ],
             [
              1,
              "#f0f921"
             ]
            ],
            "type": "histogram2d"
           }
          ],
          "histogram2dcontour": [
           {
            "colorbar": {
             "outlinewidth": 0,
             "ticks": ""
            },
            "colorscale": [
             [
              0,
              "#0d0887"
             ],
             [
              0.1111111111111111,
              "#46039f"
             ],
             [
              0.2222222222222222,
              "#7201a8"
             ],
             [
              0.3333333333333333,
              "#9c179e"
             ],
             [
              0.4444444444444444,
              "#bd3786"
             ],
             [
              0.5555555555555556,
              "#d8576b"
             ],
             [
              0.6666666666666666,
              "#ed7953"
             ],
             [
              0.7777777777777778,
              "#fb9f3a"
             ],
             [
              0.8888888888888888,
              "#fdca26"
             ],
             [
              1,
              "#f0f921"
             ]
            ],
            "type": "histogram2dcontour"
           }
          ],
          "mesh3d": [
           {
            "colorbar": {
             "outlinewidth": 0,
             "ticks": ""
            },
            "type": "mesh3d"
           }
          ],
          "parcoords": [
           {
            "line": {
             "colorbar": {
              "outlinewidth": 0,
              "ticks": ""
             }
            },
            "type": "parcoords"
           }
          ],
          "pie": [
           {
            "automargin": true,
            "type": "pie"
           }
          ],
          "scatter": [
           {
            "fillpattern": {
             "fillmode": "overlay",
             "size": 10,
             "solidity": 0.2
            },
            "type": "scatter"
           }
          ],
          "scatter3d": [
           {
            "line": {
             "colorbar": {
              "outlinewidth": 0,
              "ticks": ""
             }
            },
            "marker": {
             "colorbar": {
              "outlinewidth": 0,
              "ticks": ""
             }
            },
            "type": "scatter3d"
           }
          ],
          "scattercarpet": [
           {
            "marker": {
             "colorbar": {
              "outlinewidth": 0,
              "ticks": ""
             }
            },
            "type": "scattercarpet"
           }
          ],
          "scattergeo": [
           {
            "marker": {
             "colorbar": {
              "outlinewidth": 0,
              "ticks": ""
             }
            },
            "type": "scattergeo"
           }
          ],
          "scattergl": [
           {
            "marker": {
             "colorbar": {
              "outlinewidth": 0,
              "ticks": ""
             }
            },
            "type": "scattergl"
           }
          ],
          "scattermapbox": [
           {
            "marker": {
             "colorbar": {
              "outlinewidth": 0,
              "ticks": ""
             }
            },
            "type": "scattermapbox"
           }
          ],
          "scatterpolar": [
           {
            "marker": {
             "colorbar": {
              "outlinewidth": 0,
              "ticks": ""
             }
            },
            "type": "scatterpolar"
           }
          ],
          "scatterpolargl": [
           {
            "marker": {
             "colorbar": {
              "outlinewidth": 0,
              "ticks": ""
             }
            },
            "type": "scatterpolargl"
           }
          ],
          "scatterternary": [
           {
            "marker": {
             "colorbar": {
              "outlinewidth": 0,
              "ticks": ""
             }
            },
            "type": "scatterternary"
           }
          ],
          "surface": [
           {
            "colorbar": {
             "outlinewidth": 0,
             "ticks": ""
            },
            "colorscale": [
             [
              0,
              "#0d0887"
             ],
             [
              0.1111111111111111,
              "#46039f"
             ],
             [
              0.2222222222222222,
              "#7201a8"
             ],
             [
              0.3333333333333333,
              "#9c179e"
             ],
             [
              0.4444444444444444,
              "#bd3786"
             ],
             [
              0.5555555555555556,
              "#d8576b"
             ],
             [
              0.6666666666666666,
              "#ed7953"
             ],
             [
              0.7777777777777778,
              "#fb9f3a"
             ],
             [
              0.8888888888888888,
              "#fdca26"
             ],
             [
              1,
              "#f0f921"
             ]
            ],
            "type": "surface"
           }
          ],
          "table": [
           {
            "cells": {
             "fill": {
              "color": "#EBF0F8"
             },
             "line": {
              "color": "white"
             }
            },
            "header": {
             "fill": {
              "color": "#C8D4E3"
             },
             "line": {
              "color": "white"
             }
            },
            "type": "table"
           }
          ]
         },
         "layout": {
          "annotationdefaults": {
           "arrowcolor": "#2a3f5f",
           "arrowhead": 0,
           "arrowwidth": 1
          },
          "autotypenumbers": "strict",
          "coloraxis": {
           "colorbar": {
            "outlinewidth": 0,
            "ticks": ""
           }
          },
          "colorscale": {
           "diverging": [
            [
             0,
             "#8e0152"
            ],
            [
             0.1,
             "#c51b7d"
            ],
            [
             0.2,
             "#de77ae"
            ],
            [
             0.3,
             "#f1b6da"
            ],
            [
             0.4,
             "#fde0ef"
            ],
            [
             0.5,
             "#f7f7f7"
            ],
            [
             0.6,
             "#e6f5d0"
            ],
            [
             0.7,
             "#b8e186"
            ],
            [
             0.8,
             "#7fbc41"
            ],
            [
             0.9,
             "#4d9221"
            ],
            [
             1,
             "#276419"
            ]
           ],
           "sequential": [
            [
             0,
             "#0d0887"
            ],
            [
             0.1111111111111111,
             "#46039f"
            ],
            [
             0.2222222222222222,
             "#7201a8"
            ],
            [
             0.3333333333333333,
             "#9c179e"
            ],
            [
             0.4444444444444444,
             "#bd3786"
            ],
            [
             0.5555555555555556,
             "#d8576b"
            ],
            [
             0.6666666666666666,
             "#ed7953"
            ],
            [
             0.7777777777777778,
             "#fb9f3a"
            ],
            [
             0.8888888888888888,
             "#fdca26"
            ],
            [
             1,
             "#f0f921"
            ]
           ],
           "sequentialminus": [
            [
             0,
             "#0d0887"
            ],
            [
             0.1111111111111111,
             "#46039f"
            ],
            [
             0.2222222222222222,
             "#7201a8"
            ],
            [
             0.3333333333333333,
             "#9c179e"
            ],
            [
             0.4444444444444444,
             "#bd3786"
            ],
            [
             0.5555555555555556,
             "#d8576b"
            ],
            [
             0.6666666666666666,
             "#ed7953"
            ],
            [
             0.7777777777777778,
             "#fb9f3a"
            ],
            [
             0.8888888888888888,
             "#fdca26"
            ],
            [
             1,
             "#f0f921"
            ]
           ]
          },
          "colorway": [
           "#636efa",
           "#EF553B",
           "#00cc96",
           "#ab63fa",
           "#FFA15A",
           "#19d3f3",
           "#FF6692",
           "#B6E880",
           "#FF97FF",
           "#FECB52"
          ],
          "font": {
           "color": "#2a3f5f"
          },
          "geo": {
           "bgcolor": "white",
           "lakecolor": "white",
           "landcolor": "#E5ECF6",
           "showlakes": true,
           "showland": true,
           "subunitcolor": "white"
          },
          "hoverlabel": {
           "align": "left"
          },
          "hovermode": "closest",
          "mapbox": {
           "style": "light"
          },
          "paper_bgcolor": "white",
          "plot_bgcolor": "#E5ECF6",
          "polar": {
           "angularaxis": {
            "gridcolor": "white",
            "linecolor": "white",
            "ticks": ""
           },
           "bgcolor": "#E5ECF6",
           "radialaxis": {
            "gridcolor": "white",
            "linecolor": "white",
            "ticks": ""
           }
          },
          "scene": {
           "xaxis": {
            "backgroundcolor": "#E5ECF6",
            "gridcolor": "white",
            "gridwidth": 2,
            "linecolor": "white",
            "showbackground": true,
            "ticks": "",
            "zerolinecolor": "white"
           },
           "yaxis": {
            "backgroundcolor": "#E5ECF6",
            "gridcolor": "white",
            "gridwidth": 2,
            "linecolor": "white",
            "showbackground": true,
            "ticks": "",
            "zerolinecolor": "white"
           },
           "zaxis": {
            "backgroundcolor": "#E5ECF6",
            "gridcolor": "white",
            "gridwidth": 2,
            "linecolor": "white",
            "showbackground": true,
            "ticks": "",
            "zerolinecolor": "white"
           }
          },
          "shapedefaults": {
           "line": {
            "color": "#2a3f5f"
           }
          },
          "ternary": {
           "aaxis": {
            "gridcolor": "white",
            "linecolor": "white",
            "ticks": ""
           },
           "baxis": {
            "gridcolor": "white",
            "linecolor": "white",
            "ticks": ""
           },
           "bgcolor": "#E5ECF6",
           "caxis": {
            "gridcolor": "white",
            "linecolor": "white",
            "ticks": ""
           }
          },
          "title": {
           "x": 0.05
          },
          "xaxis": {
           "automargin": true,
           "gridcolor": "white",
           "linecolor": "white",
           "ticks": "",
           "title": {
            "standoff": 15
           },
           "zerolinecolor": "white",
           "zerolinewidth": 2
          },
          "yaxis": {
           "automargin": true,
           "gridcolor": "white",
           "linecolor": "white",
           "ticks": "",
           "title": {
            "standoff": 15
           },
           "zerolinecolor": "white",
           "zerolinewidth": 2
          }
         }
        },
        "title": {
         "text": "Trend of asset liability ratio"
        },
        "xaxis": {
         "anchor": "y",
         "autorange": true,
         "domain": [
          0,
          1
         ],
         "range": [
          "2023-06-30",
          "2024-12-31"
         ],
         "title": {
          "text": "Date"
         },
         "type": "date"
        },
        "yaxis": {
         "anchor": "x",
         "autorange": true,
         "domain": [
          0,
          1
         ],
         "range": [
          -0.08642680791468381,
          1.6566523260081465
         ],
         "title": {
          "text": "Asset liability ratio"
         },
         "type": "linear"
        }
       }
      },
      "image/png": "[encoded data removed]",
      "text/html": [
       "<div>                            <div id=\"554e12d8-d36e-46a8-92e7-dbacbf9f6bc8\" class=\"plotly-graph-div\" style=\"height:525px; width:100%;\"></div>            <script type=\"text/javascript\">                require([\"plotly\"], function(Plotly) {                    window.PLOTLYENV=window.PLOTLYENV || {};                                    if (document.getElementById(\"554e12d8-d36e-46a8-92e7-dbacbf9f6bc8\")) {                    Plotly.newPlot(                        \"554e12d8-d36e-46a8-92e7-dbacbf9f6bc8\",                        [{\"hovertemplate\":\"Ticker=OPTN\\u003cbr\\u003eDate=%{x}\\u003cbr\\u003eAsset liability ratio=%{y}\\u003cextra\\u003e\\u003c\\u002fextra\\u003e\",\"legendgroup\":\"OPTN\",\"line\":{\"color\":\"#636efa\",\"dash\":\"solid\"},\"marker\":{\"symbol\":\"circle\"},\"mode\":\"lines\",\"name\":\"OPTN\",\"orientation\":\"v\",\"showlegend\":true,\"x\":[\"2024-09-30T00:00:00\",\"2024-06-30T00:00:00\",\"2024-03-31T00:00:00\",\"2023-12-31T00:00:00\",\"2023-09-30T00:00:00\",\"2023-06-30T00:00:00\"],\"xaxis\":\"x\",\"y\":[0.9692337047778965,0.9566701043436059,1.569498369312005,1.2229668891384864,1.291271805693887,null],\"yaxis\":\"y\",\"type\":\"scatter\"},{\"hovertemplate\":\"Ticker=UONEK\\u003cbr\\u003eDate=%{x}\\u003cbr\\u003eAsset liability ratio=%{y}\\u003cextra\\u003e\\u003c\\u002fextra\\u003e\",\"legendgroup\":\"UONEK\",\"line\":{\"color\":\"#EF553B\",\"dash\":\"solid\"},\"marker\":{\"symbol\":\"circle\"},\"mode\":\"lines\",\"name\":\"UONEK\",\"orientation\":\"v\",\"showlegend\":true,\"x\":[\"2024-09-30T00:00:00\",\"2024-06-30T00:00:00\",\"2024-03-31T00:00:00\",\"2023-12-31T00:00:00\",\"2023-09-30T00:00:00\",\"2023-06-30T00:00:00\"],\"xaxis\":\"x\",\"y\":[0.6528797437780685,0.6301934534755425,0.601162676073224,0.6186325157512593,0.6261809487857053,null],\"yaxis\":\"y\",\"type\":\"scatter\"},{\"hovertemplate\":\"Ticker=SCOR\\u003cbr\\u003eDate=%{x}\\u003cbr\\u003eAsset liability ratio=%{y}\\u003cextra\\u003e\\u003c\\u002fextra\\u003e\",\"legendgroup\":\"SCOR\",\"line\":{\"color\":\"#00cc96\",\"dash\":\"solid\"},\"marker\":{\"symbol\":\"circle\"},\"mode\":\"lines\",\"name\":\"SCOR\",\"orientation\":\"v\",\"showlegend\":true,\"x\":[\"2024-12-31T00:00:00\",\"2024-09-30T00:00:00\",\"2024-06-30T00:00:00\",\"2024-03-31T00:00:00\",\"2023-12-31T00:00:00\",\"2023-09-30T00:00:00\",\"2023-06-30T00:00:00\"],\"xaxis\":\"x\",\"y\":[0.1490329973247925,0.08490964016079057,0.0764475621227396,0.0926843565185534,0.09563500544479386,null,null],\"yaxis\":\"y\",\"type\":\"scatter\"},{\"hovertemplate\":\"Ticker=AXON\\u003cbr\\u003eDate=%{x}\\u003cbr\\u003eAsset liability ratio=%{y}\\u003cextra\\u003e\\u003c\\u002fextra\\u003e\",\"legendgroup\":\"AXON\",\"line\":{\"color\":\"#ab63fa\",\"dash\":\"solid\"},\"marker\":{\"symbol\":\"circle\"},\"mode\":\"lines\",\"name\":\"AXON\",\"orientation\":\"v\",\"showlegend\":true,\"x\":[\"2024-12-31T00:00:00\",\"2024-09-30T00:00:00\",\"2024-06-30T00:00:00\",\"2024-03-31T00:00:00\",\"2023-12-31T00:00:00\",\"2023-09-30T00:00:00\",\"2023-06-30T00:00:00\"],\"xaxis\":\"x\",\"y\":[0.1612823348205466,0.17992200033053246,0.19249379403960593,0.19646086661231857,0.2084560658974872,null,null],\"yaxis\":\"y\",\"type\":\"scatter\"},{\"hovertemplate\":\"Ticker=STRS\\u003cbr\\u003eDate=%{x}\\u003cbr\\u003eAsset liability ratio=%{y}\\u003cextra\\u003e\\u003c\\u002fextra\\u003e\",\"legendgroup\":\"STRS\",\"line\":{\"color\":\"#FFA15A\",\"dash\":\"solid\"},\"marker\":{\"symbol\":\"circle\"},\"mode\":\"lines\",\"name\":\"STRS\",\"orientation\":\"v\",\"showlegend\":true,\"x\":[\"2024-09-30T00:00:00\",\"2024-06-30T00:00:00\",\"2024-03-31T00:00:00\",\"2023-12-31T00:00:00\",\"2023-09-30T00:00:00\",\"2023-06-30T00:00:00\"],\"xaxis\":\"x\",\"y\":[0.37674223020757674,0.37740264894477993,0.3610595917309923,0.3689581780186416,0.34269084361012786,null],\"yaxis\":\"y\",\"type\":\"scatter\"},{\"hovertemplate\":\"Ticker=CMRX\\u003cbr\\u003eDate=%{x}\\u003cbr\\u003eAsset liability ratio=%{y}\\u003cextra\\u003e\\u003c\\u002fextra\\u003e\",\"legendgroup\":\"CMRX\",\"line\":{\"color\":\"#19d3f3\",\"dash\":\"solid\"},\"marker\":{\"symbol\":\"circle\"},\"mode\":\"lines\",\"name\":\"CMRX\",\"orientation\":\"v\",\"showlegend\":true,\"x\":[\"2024-09-30T00:00:00\",\"2024-06-30T00:00:00\",\"2024-03-31T00:00:00\",\"2023-12-31T00:00:00\",\"2023-09-30T00:00:00\",\"2023-06-30T00:00:00\"],\"xaxis\":\"x\",\"y\":[0.004058789421937631,0.004632767728599358,0.005179291081312294,0.006119168695423313,0.006520716257845722,null],\"yaxis\":\"y\",\"type\":\"scatter\"},{\"hovertemplate\":\"Ticker=BSBK\\u003cbr\\u003eDate=%{x}\\u003cbr\\u003eAsset liability ratio=%{y}\\u003cextra\\u003e\\u003c\\u002fextra\\u003e\",\"legendgroup\":\"BSBK\",\"line\":{\"color\":\"#FF6692\",\"dash\":\"solid\"},\"marker\":{\"symbol\":\"circle\"},\"mode\":\"lines\",\"name\":\"BSBK\",\"orientation\":\"v\",\"showlegend\":true,\"x\":[\"2024-09-30T00:00:00\",\"2024-06-30T00:00:00\",\"2024-03-31T00:00:00\",\"2023-12-31T00:00:00\",\"2023-09-30T00:00:00\"],\"xaxis\":\"x\",\"y\":[0.20693414204203592,0.18409763786549915,0.15540588604037414,0.17852160357886573,0.14596582499545352],\"yaxis\":\"y\",\"type\":\"scatter\"},{\"hovertemplate\":\"Ticker=FNLC\\u003cbr\\u003eDate=%{x}\\u003cbr\\u003eAsset liability ratio=%{y}\\u003cextra\\u003e\\u003c\\u002fextra\\u003e\",\"legendgroup\":\"FNLC\",\"line\":{\"color\":\"#B6E880\",\"dash\":\"solid\"},\"marker\":{\"symbol\":\"circle\"},\"mode\":\"lines\",\"name\":\"FNLC\",\"orientation\":\"v\",\"showlegend\":true,\"x\":[\"2024-12-31T00:00:00\",\"2024-09-30T00:00:00\",\"2024-06-30T00:00:00\",\"2024-03-31T00:00:00\",\"2023-12-31T00:00:00\",\"2023-09-30T00:00:00\",\"2023-06-30T00:00:00\"],\"xaxis\":\"x\",\"y\":[0.030091764042559258,0.030230101989999883,0.07475662443143215,0.051971176930799785,0.006813049725489345,null,null],\"yaxis\":\"y\",\"type\":\"scatter\"},{\"hovertemplate\":\"Ticker=NVCR\\u003cbr\\u003eDate=%{x}\\u003cbr\\u003eAsset liability ratio=%{y}\\u003cextra\\u003e\\u003c\\u002fextra\\u003e\",\"legendgroup\":\"NVCR\",\"line\":{\"color\":\"#FF97FF\",\"dash\":\"solid\"},\"marker\":{\"symbol\":\"circle\"},\"mode\":\"lines\",\"name\":\"NVCR\",\"orientation\":\"v\",\"showlegend\":true,\"x\":[\"2024-12-31T00:00:00\",\"2024-09-30T00:00:00\",\"2024-06-30T00:00:00\",\"2024-03-31T00:00:00\",\"2023-12-31T00:00:00\",\"2023-09-30T00:00:00\",\"2023-06-30T00:00:00\"],\"xaxis\":\"x\",\"y\":[0.5507437233233181,0.5528917679907953,0.5570184050091984,0.5308048926860283,0.527483381015575,null,null],\"yaxis\":\"y\",\"type\":\"scatter\"},{\"hovertemplate\":\"Ticker=FNKO\\u003cbr\\u003eDate=%{x}\\u003cbr\\u003eAsset liability ratio=%{y}\\u003cextra\\u003e\\u003c\\u002fextra\\u003e\",\"legendgroup\":\"FNKO\",\"line\":{\"color\":\"#FECB52\",\"dash\":\"solid\"},\"marker\":{\"symbol\":\"circle\"},\"mode\":\"lines\",\"name\":\"FNKO\",\"orientation\":\"v\",\"showlegend\":true,\"x\":[\"2024-12-31T00:00:00\",\"2024-09-30T00:00:00\",\"2024-06-30T00:00:00\",\"2024-03-31T00:00:00\",\"2023-12-31T00:00:00\",\"2023-09-30T00:00:00\",\"2023-06-30T00:00:00\"],\"xaxis\":\"x\",\"y\":[0.3680530615592135,0.3880807683766945,0.4139234157912572,0.45609203387587666,0.45374380936281045,null,null],\"yaxis\":\"y\",\"type\":\"scatter\"},{\"hovertemplate\":\"Ticker=NVEC\\u003cbr\\u003eDate=%{x}\\u003cbr\\u003eAsset liability ratio=%{y}\\u003cextra\\u003e\\u003c\\u002fextra\\u003e\",\"legendgroup\":\"NVEC\",\"line\":{\"color\":\"#636efa\",\"dash\":\"solid\"},\"marker\":{\"symbol\":\"circle\"},\"mode\":\"lines\",\"name\":\"NVEC\",\"orientation\":\"v\",\"showlegend\":true,\"x\":[\"2024-12-31T00:00:00\",\"2024-09-30T00:00:00\",\"2024-06-30T00:00:00\",\"2024-03-31T00:00:00\",\"2023-12-31T00:00:00\",\"2023-09-30T00:00:00\"],\"xaxis\":\"x\",\"y\":[0.014705451571891272,0.004095613331112858,0.004687034988112786,0.005318161492972009,0.005874290667665127,null],\"yaxis\":\"y\",\"type\":\"scatter\"},{\"hovertemplate\":\"Ticker=SLAB\\u003cbr\\u003eDate=%{x}\\u003cbr\\u003eAsset liability ratio=%{y}\\u003cextra\\u003e\\u003c\\u002fextra\\u003e\",\"legendgroup\":\"SLAB\",\"line\":{\"color\":\"#EF553B\",\"dash\":\"solid\"},\"marker\":{\"symbol\":\"circle\"},\"mode\":\"lines\",\"name\":\"SLAB\",\"orientation\":\"v\",\"showlegend\":true,\"x\":[\"2024-12-31T00:00:00\",\"2024-09-30T00:00:00\",\"2024-06-30T00:00:00\",\"2024-03-31T00:00:00\",\"2023-12-31T00:00:00\",\"2023-09-30T00:00:00\",\"2023-06-30T00:00:00\"],\"xaxis\":\"x\",\"y\":[0.012717208348259634,null,null,null,0.04492549145701899,null,null],\"yaxis\":\"y\",\"type\":\"scatter\"},{\"hovertemplate\":\"Ticker=MSBI\\u003cbr\\u003eDate=%{x}\\u003cbr\\u003eAsset liability ratio=%{y}\\u003cextra\\u003e\\u003c\\u002fextra\\u003e\",\"legendgroup\":\"MSBI\",\"line\":{\"color\":\"#00cc96\",\"dash\":\"solid\"},\"marker\":{\"symbol\":\"circle\"},\"mode\":\"lines\",\"name\":\"MSBI\",\"orientation\":\"v\",\"showlegend\":true,\"x\":[\"2024-09-30T00:00:00\",\"2024-06-30T00:00:00\",\"2024-03-31T00:00:00\",\"2023-12-31T00:00:00\",\"2023-09-30T00:00:00\"],\"xaxis\":\"x\",\"y\":[0.06550282055704695,0.0891622495221904,0.04451295990492107,0.07682994045406634,0.07917263514890123],\"yaxis\":\"y\",\"type\":\"scatter\"},{\"hovertemplate\":\"Ticker=AGNC\\u003cbr\\u003eDate=%{x}\\u003cbr\\u003eAsset liability ratio=%{y}\\u003cextra\\u003e\\u003c\\u002fextra\\u003e\",\"legendgroup\":\"AGNC\",\"line\":{\"color\":\"#ab63fa\",\"dash\":\"solid\"},\"marker\":{\"symbol\":\"circle\"},\"mode\":\"lines\",\"name\":\"AGNC\",\"orientation\":\"v\",\"showlegend\":true,\"x\":[\"2024-12-31T00:00:00\",\"2024-09-30T00:00:00\",\"2024-06-30T00:00:00\",\"2024-03-31T00:00:00\",\"2023-12-31T00:00:00\",\"2023-09-30T00:00:00\",\"2023-06-30T00:00:00\"],\"xaxis\":\"x\",\"y\":[0.0007271487814577061,0.0007701752427726309,0.0008910083453598544,0.0010573765930213144,0.0011173808592658807,null,null],\"yaxis\":\"y\",\"type\":\"scatter\"},{\"hovertemplate\":\"Ticker=NMRK\\u003cbr\\u003eDate=%{x}\\u003cbr\\u003eAsset liability ratio=%{y}\\u003cextra\\u003e\\u003c\\u002fextra\\u003e\",\"legendgroup\":\"NMRK\",\"line\":{\"color\":\"#FFA15A\",\"dash\":\"solid\"},\"marker\":{\"symbol\":\"circle\"},\"mode\":\"lines\",\"name\":\"NMRK\",\"orientation\":\"v\",\"showlegend\":true,\"x\":[\"2024-12-31T00:00:00\",\"2024-09-30T00:00:00\",\"2024-06-30T00:00:00\",\"2024-03-31T00:00:00\",\"2023-12-31T00:00:00\",\"2023-09-30T00:00:00\",\"2023-06-30T00:00:00\"],\"xaxis\":\"x\",\"y\":[0.4295531748660331,0.47901422366176555,0.4567805352025012,0.41532754309099074,0.3915888696935643,null,null],\"yaxis\":\"y\",\"type\":\"scatter\"},{\"hovertemplate\":\"Ticker=OPTX\\u003cbr\\u003eDate=%{x}\\u003cbr\\u003eAsset liability ratio=%{y}\\u003cextra\\u003e\\u003c\\u002fextra\\u003e\",\"legendgroup\":\"OPTX\",\"line\":{\"color\":\"#19d3f3\",\"dash\":\"solid\"},\"marker\":{\"symbol\":\"circle\"},\"mode\":\"lines\",\"name\":\"OPTX\",\"orientation\":\"v\",\"showlegend\":true,\"x\":[\"2024-09-30T00:00:00\",\"2024-06-30T00:00:00\",\"2024-03-31T00:00:00\",\"2023-12-31T00:00:00\",\"2023-06-30T00:00:00\"],\"xaxis\":\"x\",\"y\":[0.413621280583109,0.3698378863741451,0.3589711650443048,0.3362035652294024,0.4212828822967738],\"yaxis\":\"y\",\"type\":\"scatter\"},{\"hovertemplate\":\"Ticker=IFRX\\u003cbr\\u003eDate=%{x}\\u003cbr\\u003eAsset liability ratio=%{y}\\u003cextra\\u003e\\u003c\\u002fextra\\u003e\",\"legendgroup\":\"IFRX\",\"line\":{\"color\":\"#FF6692\",\"dash\":\"solid\"},\"marker\":{\"symbol\":\"circle\"},\"mode\":\"lines\",\"name\":\"IFRX\",\"orientation\":\"v\",\"showlegend\":true,\"x\":[\"2024-12-31T00:00:00\",\"2024-09-30T00:00:00\",\"2024-06-30T00:00:00\",\"2024-03-31T00:00:00\",\"2023-12-31T00:00:00\",\"2023-09-30T00:00:00\",\"2023-06-30T00:00:00\"],\"xaxis\":\"x\",\"y\":[0.010590664843407701,0.011267815219410598,0.010734250370609865,0.010319291983438852,0.009317515190745458,null,null],\"yaxis\":\"y\",\"type\":\"scatter\"},{\"hovertemplate\":\"Ticker=CVCO\\u003cbr\\u003eDate=%{x}\\u003cbr\\u003eAsset liability ratio=%{y}\\u003cextra\\u003e\\u003c\\u002fextra\\u003e\",\"legendgroup\":\"CVCO\",\"line\":{\"color\":\"#B6E880\",\"dash\":\"solid\"},\"marker\":{\"symbol\":\"circle\"},\"mode\":\"lines\",\"name\":\"CVCO\",\"orientation\":\"v\",\"showlegend\":true,\"x\":[\"2024-12-31T00:00:00\",\"2024-09-30T00:00:00\",\"2024-06-30T00:00:00\",\"2024-03-31T00:00:00\",\"2023-12-31T00:00:00\",\"2023-09-30T00:00:00\",\"2023-06-30T00:00:00\"],\"xaxis\":\"x\",\"y\":[0.02271088862702027,0.02323339314820523,0.02453352763344492,0.02595557393513322,0.02509053246052302,null,null],\"yaxis\":\"y\",\"type\":\"scatter\"},{\"hovertemplate\":\"Ticker=TWST\\u003cbr\\u003eDate=%{x}\\u003cbr\\u003eAsset liability ratio=%{y}\\u003cextra\\u003e\\u003c\\u002fextra\\u003e\",\"legendgroup\":\"TWST\",\"line\":{\"color\":\"#FF97FF\",\"dash\":\"solid\"},\"marker\":{\"symbol\":\"circle\"},\"mode\":\"lines\",\"name\":\"TWST\",\"orientation\":\"v\",\"showlegend\":true,\"x\":[\"2024-12-31T00:00:00\",\"2024-09-30T00:00:00\",\"2024-06-30T00:00:00\",\"2024-03-31T00:00:00\",\"2023-12-31T00:00:00\",\"2023-09-30T00:00:00\",\"2023-06-30T00:00:00\"],\"xaxis\":\"x\",\"y\":[0.13575207860922148,0.13840601768125238,0.13662049965680328,0.12723270816082044,0.12537680042029709,null,null],\"yaxis\":\"y\",\"type\":\"scatter\"},{\"hovertemplate\":\"Ticker=STRT\\u003cbr\\u003eDate=%{x}\\u003cbr\\u003eAsset liability ratio=%{y}\\u003cextra\\u003e\\u003c\\u002fextra\\u003e\",\"legendgroup\":\"STRT\",\"line\":{\"color\":\"#FECB52\",\"dash\":\"solid\"},\"marker\":{\"symbol\":\"circle\"},\"mode\":\"lines\",\"name\":\"STRT\",\"orientation\":\"v\",\"showlegend\":true,\"x\":[\"2024-12-31T00:00:00\",\"2024-09-30T00:00:00\",\"2024-06-30T00:00:00\",\"2024-03-31T00:00:00\",\"2023-12-31T00:00:00\",\"2023-09-30T00:00:00\",\"2023-06-30T00:00:00\"],\"xaxis\":\"x\",\"y\":[0.03652762753059189,0.03543518495803656,0.03568595263650563,0.03729748184616797,0.039186016018037624,null,null],\"yaxis\":\"y\",\"type\":\"scatter\"},{\"hovertemplate\":\"Ticker=SCNI\\u003cbr\\u003eDate=%{x}\\u003cbr\\u003eAsset liability ratio=%{y}\\u003cextra\\u003e\\u003c\\u002fextra\\u003e\",\"legendgroup\":\"SCNI\",\"line\":{\"color\":\"#636efa\",\"dash\":\"solid\"},\"marker\":{\"symbol\":\"circle\"},\"mode\":\"lines\",\"name\":\"SCNI\",\"orientation\":\"v\",\"showlegend\":true,\"x\":[\"2024-09-30T00:00:00\",\"2024-06-30T00:00:00\",\"2024-03-31T00:00:00\",\"2023-12-31T00:00:00\",\"2023-09-30T00:00:00\",\"2023-06-30T00:00:00\"],\"xaxis\":\"x\",\"y\":[0.10007340347443112,1.4021951383745201,1.2098410650401736,1.1767971611721613,1.0659240124852007,null],\"yaxis\":\"y\",\"type\":\"scatter\"},{\"hovertemplate\":\"Ticker=NMRA\\u003cbr\\u003eDate=%{x}\\u003cbr\\u003eAsset liability ratio=%{y}\\u003cextra\\u003e\\u003c\\u002fextra\\u003e\",\"legendgroup\":\"NMRA\",\"line\":{\"color\":\"#EF553B\",\"dash\":\"solid\"},\"marker\":{\"symbol\":\"circle\"},\"mode\":\"lines\",\"name\":\"NMRA\",\"orientation\":\"v\",\"showlegend\":true,\"x\":[\"2024-12-31T00:00:00\",\"2024-09-30T00:00:00\",\"2024-06-30T00:00:00\",\"2024-03-31T00:00:00\",\"2023-12-31T00:00:00\",\"2023-09-30T00:00:00\",\"2023-06-30T00:00:00\"],\"xaxis\":\"x\",\"y\":[0.005845942228335626,0.007786416744909045,0.008917776959154258,0.00983760947644549,0.010542226342466168,null,null],\"yaxis\":\"y\",\"type\":\"scatter\"},{\"hovertemplate\":\"Ticker=SDA\\u003cbr\\u003eDate=%{x}\\u003cbr\\u003eAsset liability ratio=%{y}\\u003cextra\\u003e\\u003c\\u002fextra\\u003e\",\"legendgroup\":\"SDA\",\"line\":{\"color\":\"#00cc96\",\"dash\":\"solid\"},\"marker\":{\"symbol\":\"circle\"},\"mode\":\"lines\",\"name\":\"SDA\",\"orientation\":\"v\",\"showlegend\":true,\"x\":[\"2024-09-30T00:00:00\",\"2024-06-30T00:00:00\",\"2023-12-31T00:00:00\",\"2023-06-30T00:00:00\"],\"xaxis\":\"x\",\"y\":[0.33373668445378984,0.33714990817263546,0.37754384393128315,0.38665916730277344],\"yaxis\":\"y\",\"type\":\"scatter\"},{\"hovertemplate\":\"Ticker=KLXE\\u003cbr\\u003eDate=%{x}\\u003cbr\\u003eAsset liability ratio=%{y}\\u003cextra\\u003e\\u003c\\u002fextra\\u003e\",\"legendgroup\":\"KLXE\",\"line\":{\"color\":\"#ab63fa\",\"dash\":\"solid\"},\"marker\":{\"symbol\":\"circle\"},\"mode\":\"lines\",\"name\":\"KLXE\",\"orientation\":\"v\",\"showlegend\":true,\"x\":[\"2024-12-31T00:00:00\",\"2024-09-30T00:00:00\",\"2024-06-30T00:00:00\",\"2024-03-31T00:00:00\",\"2023-12-31T00:00:00\"],\"xaxis\":\"x\",\"y\":[0.7558623712469866,0.7187756778964667,0.7212947882736156,0.7234170854271357,0.6769173768062245],\"yaxis\":\"y\",\"type\":\"scatter\"},{\"hovertemplate\":\"Ticker=JAGX\\u003cbr\\u003eDate=%{x}\\u003cbr\\u003eAsset liability ratio=%{y}\\u003cextra\\u003e\\u003c\\u002fextra\\u003e\",\"legendgroup\":\"JAGX\",\"line\":{\"color\":\"#FFA15A\",\"dash\":\"solid\"},\"marker\":{\"symbol\":\"circle\"},\"mode\":\"lines\",\"name\":\"JAGX\",\"orientation\":\"v\",\"showlegend\":true,\"x\":[\"2024-09-30T00:00:00\",\"2024-06-30T00:00:00\",\"2024-03-31T00:00:00\",\"2023-12-31T00:00:00\",\"2023-09-30T00:00:00\",\"2023-06-30T00:00:00\"],\"xaxis\":\"x\",\"y\":[0.5861355317620497,0.5557526155648481,0.6040007943815558,null,0.7832304980167475,0.606896419535383],\"yaxis\":\"y\",\"type\":\"scatter\"},{\"hovertemplate\":\"Ticker=CEAD\\u003cbr\\u003eDate=%{x}\\u003cbr\\u003eAsset liability ratio=%{y}\\u003cextra\\u003e\\u003c\\u002fextra\\u003e\",\"legendgroup\":\"CEAD\",\"line\":{\"color\":\"#19d3f3\",\"dash\":\"solid\"},\"marker\":{\"symbol\":\"circle\"},\"mode\":\"lines\",\"name\":\"CEAD\",\"orientation\":\"v\",\"showlegend\":true,\"x\":[\"2024-09-30T00:00:00\",\"2024-06-30T00:00:00\",\"2024-03-31T00:00:00\",\"2023-12-31T00:00:00\",\"2023-09-30T00:00:00\",\"2023-06-30T00:00:00\"],\"xaxis\":\"x\",\"y\":[0.02644705375911562,0.02620355729587899,0.028212376584751,0.02805320008600006,0.028189045177984123,null],\"yaxis\":\"y\",\"type\":\"scatter\"},{\"hovertemplate\":\"Ticker=NVCT\\u003cbr\\u003eDate=%{x}\\u003cbr\\u003eAsset liability ratio=%{y}\\u003cextra\\u003e\\u003c\\u002fextra\\u003e\",\"legendgroup\":\"NVCT\",\"line\":{\"color\":\"#FF6692\",\"dash\":\"solid\"},\"marker\":{\"symbol\":\"circle\"},\"mode\":\"lines\",\"name\":\"NVCT\",\"orientation\":\"v\",\"showlegend\":true,\"x\":[\"2024-12-31T00:00:00\",\"2024-09-30T00:00:00\",\"2024-06-30T00:00:00\",\"2024-03-31T00:00:00\",\"2023-12-31T00:00:00\",\"2023-09-30T00:00:00\",\"2023-06-30T00:00:00\"],\"xaxis\":\"x\",\"y\":[null,null,null,null,null,null,null],\"yaxis\":\"y\",\"type\":\"scatter\"},{\"hovertemplate\":\"Ticker=STRR\\u003cbr\\u003eDate=%{x}\\u003cbr\\u003eAsset liability ratio=%{y}\\u003cextra\\u003e\\u003c\\u002fextra\\u003e\",\"legendgroup\":\"STRR\",\"line\":{\"color\":\"#B6E880\",\"dash\":\"solid\"},\"marker\":{\"symbol\":\"circle\"},\"mode\":\"lines\",\"name\":\"STRR\",\"orientation\":\"v\",\"showlegend\":true,\"x\":[\"2024-09-30T00:00:00\",\"2024-06-30T00:00:00\",\"2024-03-31T00:00:00\",\"2023-12-31T00:00:00\",\"2023-09-30T00:00:00\",\"2023-06-30T00:00:00\"],\"xaxis\":\"x\",\"y\":[0.21453985511473,0.19402468280859694,0.04743960139011012,0.04780385715799512,0.030984473167086437,null],\"yaxis\":\"y\",\"type\":\"scatter\"},{\"hovertemplate\":\"Ticker=BCG\\u003cbr\\u003eDate=%{x}\\u003cbr\\u003eAsset liability ratio=%{y}\\u003cextra\\u003e\\u003c\\u002fextra\\u003e\",\"legendgroup\":\"BCG\",\"line\":{\"color\":\"#FF97FF\",\"dash\":\"solid\"},\"marker\":{\"symbol\":\"circle\"},\"mode\":\"lines\",\"name\":\"BCG\",\"orientation\":\"v\",\"showlegend\":true,\"x\":[\"2024-09-30T00:00:00\",\"2024-06-30T00:00:00\",\"2024-03-31T00:00:00\",\"2023-12-31T00:00:00\",\"2023-09-30T00:00:00\",\"2023-06-30T00:00:00\"],\"xaxis\":\"x\",\"y\":[0.42438361483207143,0.44309219986982123,0.4533151059466849,0.6311971517578994,0.6414996950390174,null],\"yaxis\":\"y\",\"type\":\"scatter\"},{\"hovertemplate\":\"Ticker=SCNX\\u003cbr\\u003eDate=%{x}\\u003cbr\\u003eAsset liability ratio=%{y}\\u003cextra\\u003e\\u003c\\u002fextra\\u003e\",\"legendgroup\":\"SCNX\",\"line\":{\"color\":\"#FECB52\",\"dash\":\"solid\"},\"marker\":{\"symbol\":\"circle\"},\"mode\":\"lines\",\"name\":\"SCNX\",\"orientation\":\"v\",\"showlegend\":true,\"x\":[\"2024-09-30T00:00:00\",\"2024-06-30T00:00:00\",\"2024-03-31T00:00:00\",\"2023-12-31T00:00:00\",\"2023-09-30T00:00:00\",\"2023-06-30T00:00:00\"],\"xaxis\":\"x\",\"y\":[0.029228781808147836,0.013038594452394725,0.012042580831934775,0.5668203393736156,0.2993905515986239,null],\"yaxis\":\"y\",\"type\":\"scatter\"}],                        {\"template\":{\"data\":{\"histogram2dcontour\":[{\"type\":\"histogram2dcontour\",\"colorbar\":{\"outlinewidth\":0,\"ticks\":\"\"},\"colorscale\":[[0.0,\"#0d0887\"],[0.1111111111111111,\"#46039f\"],[0.2222222222222222,\"#7201a8\"],[0.3333333333333333,\"#9c179e\"],[0.4444444444444444,\"#bd3786\"],[0.5555555555555556,\"#d8576b\"],[0.6666666666666666,\"#ed7953\"],[0.7777777777777778,\"#fb9f3a\"],[0.8888888888888888,\"#fdca26\"],[1.0,\"#f0f921\"]]}],\"choropleth\":[{\"type\":\"choropleth\",\"colorbar\":{\"outlinewidth\":0,\"ticks\":\"\"}}],\"histogram2d\":[{\"type\":\"histogram2d\",\"colorbar\":{\"outlinewidth\":0,\"ticks\":\"\"},\"colorscale\":[[0.0,\"#0d0887\"],[0.1111111111111111,\"#46039f\"],[0.2222222222222222,\"#7201a8\"],[0.3333333333333333,\"#9c179e\"],[0.4444444444444444,\"#bd3786\"],[0.5555555555555556,\"#d8576b\"],[0.6666666666666666,\"#ed7953\"],[0.7777777777777778,\"#fb9f3a\"],[0.8888888888888888,\"#fdca26\"],[1.0,\"#f0f921\"]]}],\"heatmap\":[{\"type\":\"heatmap\",\"colorbar\":{\"outlinewidth\":0,\"ticks\":\"\"},\"colorscale\":[[0.0,\"#0d0887\"],[0.1111111111111111,\"#46039f\"],[0.2222222222222222,\"#7201a8\"],[0.3333333333333333,\"#9c179e\"],[0.4444444444444444,\"#bd3786\"],[0.5555555555555556,\"#d8576b\"],[0.6666666666666666,\"#ed7953\"],[0.7777777777777778,\"#fb9f3a\"],[0.8888888888888888,\"#fdca26\"],[1.0,\"#f0f921\"]]}],\"heatmapgl\":[{\"type\":\"heatmapgl\",\"colorbar\":{\"outlinewidth\":0,\"ticks\":\"\"},\"colorscale\":[[0.0,\"#0d0887\"],[0.1111111111111111,\"#46039f\"],[0.2222222222222222,\"#7201a8\"],[0.3333333333333333,\"#9c179e\"],[0.4444444444444444,\"#bd3786\"],[0.5555555555555556,\"#d8576b\"],[0.6666666666666666,\"#ed7953\"],[0.7777777777777778,\"#fb9f3a\"],[0.8888888888888888,\"#fdca26\"],[1.0,\"#f0f921\"]]}],\"contourcarpet\":[{\"type\":\"contourcarpet\",\"colorbar\":{\"outlinewidth\":0,\"ticks\":\"\"}}],\"contour\":[{\"type\":\"contour\",\"colorbar\":{\"outlinewidth\":0,\"ticks\":\"\"},\"colorscale\":[[0.0,\"#0d0887\"],[0.1111111111111111,\"#46039f\"],[0.2222222222222222,\"#7201a8\"],[0.3333333333333333,\"#9c179e\"],[0.4444444444444444,\"#bd3786\"],[0.5555555555555556,\"#d8576b\"],[0.6666666666666666,\"#ed7953\"],[0.7777777777777778,\"#fb9f3a\"],[0.8888888888888888,\"#fdca26\"],[1.0,\"#f0f921\"]]}],\"surface\":[{\"type\":\"surface\",\"colorbar\":{\"outlinewidth\":0,\"ticks\":\"\"},\"colorscale\":[[0.0,\"#0d0887\"],[0.1111111111111111,\"#46039f\"],[0.2222222222222222,\"#7201a8\"],[0.3333333333333333,\"#9c179e\"],[0.4444444444444444,\"#bd3786\"],[0.5555555555555556,\"#d8576b\"],[0.6666666666666666,\"#ed7953\"],[0.7777777777777778,\"#fb9f3a\"],[0.8888888888888888,\"#fdca26\"],[1.0,\"#f0f921\"]]}],\"mesh3d\":[{\"type\":\"mesh3d\",\"colorbar\":{\"outlinewidth\":0,\"ticks\":\"\"}}],\"scatter\":[{\"fillpattern\":{\"fillmode\":\"overlay\",\"size\":10,\"solidity\":0.2},\"type\":\"scatter\"}],\"parcoords\":[{\"type\":\"parcoords\",\"line\":{\"colorbar\":{\"outlinewidth\":0,\"ticks\":\"\"}}}],\"scatterpolargl\":[{\"type\":\"scatterpolargl\",\"marker\":{\"colorbar\":{\"outlinewidth\":0,\"ticks\":\"\"}}}],\"bar\":[{\"error_x\":{\"color\":\"#2a3f5f\"},\"error_y\":{\"color\":\"#2a3f5f\"},\"marker\":{\"line\":{\"color\":\"#E5ECF6\",\"width\":0.5},\"pattern\":{\"fillmode\":\"overlay\",\"size\":10,\"solidity\":0.2}},\"type\":\"bar\"}],\"scattergeo\":[{\"type\":\"scattergeo\",\"marker\":{\"colorbar\":{\"outlinewidth\":0,\"ticks\":\"\"}}}],\"scatterpolar\":[{\"type\":\"scatterpolar\",\"marker\":{\"colorbar\":{\"outlinewidth\":0,\"ticks\":\"\"}}}],\"histogram\":[{\"marker\":{\"pattern\":{\"fillmode\":\"overlay\",\"size\":10,\"solidity\":0.2}},\"type\":\"histogram\"}],\"scattergl\":[{\"type\":\"scattergl\",\"marker\":{\"colorbar\":{\"outlinewidth\":0,\"ticks\":\"\"}}}],\"scatter3d\":[{\"type\":\"scatter3d\",\"line\":{\"colorbar\":{\"outlinewidth\":0,\"ticks\":\"\"}},\"marker\":{\"colorbar\":{\"outlinewidth\":0,\"ticks\":\"\"}}}],\"scattermapbox\":[{\"type\":\"scattermapbox\",\"marker\":{\"colorbar\":{\"outlinewidth\":0,\"ticks\":\"\"}}}],\"scatterternary\":[{\"type\":\"scatterternary\",\"marker\":{\"colorbar\":{\"outlinewidth\":0,\"ticks\":\"\"}}}],\"scattercarpet\":[{\"type\":\"scattercarpet\",\"marker\":{\"colorbar\":{\"outlinewidth\":0,\"ticks\":\"\"}}}],\"carpet\":[{\"aaxis\":{\"endlinecolor\":\"#2a3f5f\",\"gridcolor\":\"white\",\"linecolor\":\"white\",\"minorgridcolor\":\"white\",\"startlinecolor\":\"#2a3f5f\"},\"baxis\":{\"endlinecolor\":\"#2a3f5f\",\"gridcolor\":\"white\",\"linecolor\":\"white\",\"minorgridcolor\":\"white\",\"startlinecolor\":\"#2a3f5f\"},\"type\":\"carpet\"}],\"table\":[{\"cells\":{\"fill\":{\"color\":\"#EBF0F8\"},\"line\":{\"color\":\"white\"}},\"header\":{\"fill\":{\"color\":\"#C8D4E3\"},\"line\":{\"color\":\"white\"}},\"type\":\"table\"}],\"barpolar\":[{\"marker\":{\"line\":{\"color\":\"#E5ECF6\",\"width\":0.5},\"pattern\":{\"fillmode\":\"overlay\",\"size\":10,\"solidity\":0.2}},\"type\":\"barpolar\"}],\"pie\":[{\"automargin\":true,\"type\":\"pie\"}]},\"layout\":{\"autotypenumbers\":\"strict\",\"colorway\":[\"#636efa\",\"#EF553B\",\"#00cc96\",\"#ab63fa\",\"#FFA15A\",\"#19d3f3\",\"#FF6692\",\"#B6E880\",\"#FF97FF\",\"#FECB52\"],\"font\":{\"color\":\"#2a3f5f\"},\"hovermode\":\"closest\",\"hoverlabel\":{\"align\":\"left\"},\"paper_bgcolor\":\"white\",\"plot_bgcolor\":\"#E5ECF6\",\"polar\":{\"bgcolor\":\"#E5ECF6\",\"angularaxis\":{\"gridcolor\":\"white\",\"linecolor\":\"white\",\"ticks\":\"\"},\"radialaxis\":{\"gridcolor\":\"white\",\"linecolor\":\"white\",\"ticks\":\"\"}},\"ternary\":{\"bgcolor\":\"#E5ECF6\",\"aaxis\":{\"gridcolor\":\"white\",\"linecolor\":\"white\",\"ticks\":\"\"},\"baxis\":{\"gridcolor\":\"white\",\"linecolor\":\"white\",\"ticks\":\"\"},\"caxis\":{\"gridcolor\":\"white\",\"linecolor\":\"white\",\"ticks\":\"\"}},\"coloraxis\":{\"colorbar\":{\"outlinewidth\":0,\"ticks\":\"\"}},\"colorscale\":{\"sequential\":[[0.0,\"#0d0887\"],[0.1111111111111111,\"#46039f\"],[0.2222222222222222,\"#7201a8\"],[0.3333333333333333,\"#9c179e\"],[0.4444444444444444,\"#bd3786\"],[0.5555555555555556,\"#d8576b\"],[0.6666666666666666,\"#ed7953\"],[0.7777777777777778,\"#fb9f3a\"],[0.8888888888888888,\"#fdca26\"],[1.0,\"#f0f921\"]],\"sequentialminus\":[[0.0,\"#0d0887\"],[0.1111111111111111,\"#46039f\"],[0.2222222222222222,\"#7201a8\"],[0.3333333333333333,\"#9c179e\"],[0.4444444444444444,\"#bd3786\"],[0.5555555555555556,\"#d8576b\"],[0.6666666666666666,\"#ed7953\"],[0.7777777777777778,\"#fb9f3a\"],[0.8888888888888888,\"#fdca26\"],[1.0,\"#f0f921\"]],\"diverging\":[[0,\"#8e0152\"],[0.1,\"#c51b7d\"],[0.2,\"#de77ae\"],[0.3,\"#f1b6da\"],[0.4,\"#fde0ef\"],[0.5,\"#f7f7f7\"],[0.6,\"#e6f5d0\"],[0.7,\"#b8e186\"],[0.8,\"#7fbc41\"],[0.9,\"#4d9221\"],[1,\"#276419\"]]},\"xaxis\":{\"gridcolor\":\"white\",\"linecolor\":\"white\",\"ticks\":\"\",\"title\":{\"standoff\":15},\"zerolinecolor\":\"white\",\"automargin\":true,\"zerolinewidth\":2},\"yaxis\":{\"gridcolor\":\"white\",\"linecolor\":\"white\",\"ticks\":\"\",\"title\":{\"standoff\":15},\"zerolinecolor\":\"white\",\"automargin\":true,\"zerolinewidth\":2},\"scene\":{\"xaxis\":{\"backgroundcolor\":\"#E5ECF6\",\"gridcolor\":\"white\",\"linecolor\":\"white\",\"showbackground\":true,\"ticks\":\"\",\"zerolinecolor\":\"white\",\"gridwidth\":2},\"yaxis\":{\"backgroundcolor\":\"#E5ECF6\",\"gridcolor\":\"white\",\"linecolor\":\"white\",\"showbackground\":true,\"ticks\":\"\",\"zerolinecolor\":\"white\",\"gridwidth\":2},\"zaxis\":{\"backgroundcolor\":\"#E5ECF6\",\"gridcolor\":\"white\",\"linecolor\":\"white\",\"showbackground\":true,\"ticks\":\"\",\"zerolinecolor\":\"white\",\"gridwidth\":2}},\"shapedefaults\":{\"line\":{\"color\":\"#2a3f5f\"}},\"annotationdefaults\":{\"arrowcolor\":\"#2a3f5f\",\"arrowhead\":0,\"arrowwidth\":1},\"geo\":{\"bgcolor\":\"white\",\"landcolor\":\"#E5ECF6\",\"subunitcolor\":\"white\",\"showland\":true,\"showlakes\":true,\"lakecolor\":\"white\"},\"title\":{\"x\":0.05},\"mapbox\":{\"style\":\"light\"}}},\"xaxis\":{\"anchor\":\"y\",\"domain\":[0.0,1.0],\"title\":{\"text\":\"Date\"}},\"yaxis\":{\"anchor\":\"x\",\"domain\":[0.0,1.0],\"title\":{\"text\":\"Asset liability ratio\"}},\"legend\":{\"title\":{\"text\":\"Ticker\"},\"tracegroupgap\":0},\"title\":{\"text\":\"Trend of asset liability ratio\"}},                        {\"responsive\": true}                    ).then(function(){\n",
       "                            \n",
       "var gd = document.getElementById('554e12d8-d36e-46a8-92e7-dbacbf9f6bc8');\n",
       "var x = new MutationObserver(function (mutations, observer) {{\n",
       "        var display = window.getComputedStyle(gd).display;\n",
       "        if (!display || display === 'none') {{\n",
       "            console.log([gd, 'removed!']);\n",
       "            Plotly.purge(gd);\n",
       "            observer.disconnect();\n",
       "        }}\n",
       "}});\n",
       "\n",
       "// Listen for the removal of the full notebook cells\n",
       "var notebookContainer = gd.closest('#notebook-container');\n",
       "if (notebookContainer) {{\n",
       "    x.observe(notebookContainer, {childList: true});\n",
       "}}\n",
       "\n",
       "// Listen for the clearing of the current output cell\n",
       "var outputEl = gd.closest('.output');\n",
       "if (outputEl) {{\n",
       "    x.observe(outputEl, {childList: true});\n",
       "}}\n",
       "\n",
       "                        })                };                });            </script>        </div>"
      ]
     },
     "metadata": {},
     "output_type": "display_data"
    }
   ],
   "source": [
    "# Calculate the asset liability ratio\n",
    "balance['Debt/Assets Ratio'] = balance['Total Debt'] / balance['Total Assets']\n",
    "balance['Net Debt/Equity'] = balance['Net Debt'] / balance['Stockholders Equity']\n",
    "\n",
    "fig3 = px.line(\n",
    "    balance,\n",
    "    x='Date',\n",
    "    y='Debt/Assets Ratio',\n",
    "    color='Ticker',\n",
    "    title='Trend of asset liability ratio',\n",
    "    labels={'Debt/Assets Ratio': 'Asset liability ratio'}\n",
    ")\n",
    "fig3.show()"
   ]
  },
  {
   "cell_type": "markdown",
   "id": "6bdb3988-c2b5-4f51-bfd2-f34d6d4b75da",
   "metadata": {},
   "source": [
    "# 2.3 'Trend of asset liability ratio\n",
    "I calculated the asset liability ratio of each company by dividing debt by assets, and arranged them horizontally in chronological order to analyze whether there were significant changes in the asset liability ratio during the statistical period.The asset liability ratio of SCNI has decreased rapidly, which is why it will be included in my next analysis"
   ]
  },
  {
   "cell_type": "code",
   "execution_count": 445,
   "id": "9a386cd4-006e-4cd8-96a0-bd6433cf7e0b",
   "metadata": {},
   "outputs": [
    {
     "data": {
      "image/png": "[encoded data removed]",
      "text/plain": [
       "<Figure size 1200x800 with 2 Axes>"
      ]
     },
     "metadata": {},
     "output_type": "display_data"
    }
   ],
   "source": [
    "import pandas as pd\n",
    "import matplotlib.pyplot as plt\n",
    "\n",
    "# load data on SCNI\n",
    "file_path = \"nasdaq_30_combined_cleaned.xlsx\"\n",
    "balance = pd.read_excel(file_path, sheet_name=\"Balance_Sheet\")\n",
    "cashflow = pd.read_excel(file_path, sheet_name=\"Cash_Flow\")\n",
    "scni_balance = balance[balance[\"Ticker\"] == \"SCNI\"]\n",
    "scni_cashflow = cashflow[cashflow[\"Ticker\"] == \"SCNI\"]\n",
    "\n",
    "# Calculate the net profit from continuing operations (increase in total assets)\n",
    "net_income = scni_cashflow[[\"Date\", \"Net Income From Continuing Operations\"]]\n",
    "\n",
    "# Cash flow from operating activities (supporting debt repayment or asset growth)\n",
    "operating_cashflow = scni_cashflow[[\"Date\", \"Operating Cash Flow\"]]\n",
    "\n",
    "plt.figure(figsize=(12, 8))\n",
    "\n",
    "\n",
    "# Trend of profit\n",
    "plt.subplot(3, 1, 2)\n",
    "plt.plot(net_income[\"Date\"], net_income[\"Net Income From Continuing Operations\"], marker=\"o\", color=\"blue\")\n",
    "plt.title(\"SCNI Net Income Over Time\")\n",
    "plt.ylabel(\"Net Income\")\n",
    "plt.grid(True)\n",
    "\n",
    "# Trend of operating cost\n",
    "plt.subplot(3, 1, 3)\n",
    "plt.plot(operating_cashflow[\"Date\"], operating_cashflow[\"Operating Cash Flow\"], marker=\"o\", color=\"green\")\n",
    "plt.title(\"SCNI Operating Cash Flow Over Time\")\n",
    "plt.xlabel(\"Date\")\n",
    "plt.ylabel(\"Cash Flow\")\n",
    "plt.grid(True)\n",
    "\n",
    "plt.tight_layout()\n",
    "plt.show()"
   ]
  },
  {
   "cell_type": "markdown",
   "id": "e6b832b3-b56b-4af9-a791-d3dea4d582b3",
   "metadata": {},
   "source": [
    "# 2.4 Cash control ability\n",
    "Ahe asset liability ratio is usually determined by the profitability and cost of a company. I compared the profit trend and cost control trend of SCNI to identify the underlying reasons for the decline in the asset liability r.But it still needs to be compared whether it has stickiness to shareholders and whether it really invests costs in the work environment ,to check if these changes are made for long term.atio"
   ]
  },
  {
   "cell_type": "code",
   "execution_count": 471,
   "id": "d637139e-4000-4bc3-ae18-003fee90b294",
   "metadata": {},
   "outputs": [
    {
     "name": "stderr",
     "output_type": "stream",
     "text": [
      "C:\\Users\\13234\\AppData\\Local\\Temp\\ipykernel_52988\\2479595804.py:23: FutureWarning:\n",
      "\n",
      "Styler.applymap has been deprecated. Use Styler.map instead.\n",
      "\n"
     ]
    },
    {
     "data": {
      "text/html": [
       "<style type=\"text/css\">\n",
       "#T_3a8e7_row0_col2, #T_3a8e7_row0_col3, #T_3a8e7_row0_col5, #T_3a8e7_row1_col2, #T_3a8e7_row1_col3, #T_3a8e7_row1_col5, #T_3a8e7_row2_col2, #T_3a8e7_row2_col5, #T_3a8e7_row3_col2, #T_3a8e7_row3_col5, #T_3a8e7_row4_col2, #T_3a8e7_row4_col3, #T_3a8e7_row4_col5 {\n",
       "  color: red;\n",
       "}\n",
       "#T_3a8e7_row2_col3, #T_3a8e7_row3_col3 {\n",
       "  color: black;\n",
       "}\n",
       "</style>\n",
       "<table id=\"T_3a8e7\">\n",
       "  <thead>\n",
       "    <tr>\n",
       "      <th class=\"blank level0\" >&nbsp;</th>\n",
       "      <th id=\"T_3a8e7_level0_col0\" class=\"col_heading level0 col0\" >Date</th>\n",
       "      <th id=\"T_3a8e7_level0_col1\" class=\"col_heading level0 col1\" >Free Cash Flow</th>\n",
       "      <th id=\"T_3a8e7_level0_col2\" class=\"col_heading level0 col2\" >Operating Cash Flow</th>\n",
       "      <th id=\"T_3a8e7_level0_col3\" class=\"col_heading level0 col3\" >Change In Working Capital</th>\n",
       "      <th id=\"T_3a8e7_level0_col4\" class=\"col_heading level0 col4\" >Depreciation Amortization Depletion</th>\n",
       "      <th id=\"T_3a8e7_level0_col5\" class=\"col_heading level0 col5\" >Cash Dividends Paid</th>\n",
       "    </tr>\n",
       "  </thead>\n",
       "  <tbody>\n",
       "    <tr>\n",
       "      <th id=\"T_3a8e7_level0_row0\" class=\"row_heading level0 row0\" >128</th>\n",
       "      <td id=\"T_3a8e7_row0_col0\" class=\"data row0 col0\" >2024-09-30</td>\n",
       "      <td id=\"T_3a8e7_row0_col1\" class=\"data row0 col1\" >$-2,042,000</td>\n",
       "      <td id=\"T_3a8e7_row0_col2\" class=\"data row0 col2\" >$-2,038,000</td>\n",
       "      <td id=\"T_3a8e7_row0_col3\" class=\"data row0 col3\" >$-280,000</td>\n",
       "      <td id=\"T_3a8e7_row0_col4\" class=\"data row0 col4\" >$498,000</td>\n",
       "      <td id=\"T_3a8e7_row0_col5\" class=\"data row0 col5\" >$-20,908,986</td>\n",
       "    </tr>\n",
       "    <tr>\n",
       "      <th id=\"T_3a8e7_level0_row1\" class=\"row_heading level0 row1\" >129</th>\n",
       "      <td id=\"T_3a8e7_row1_col0\" class=\"data row1 col0\" >2024-06-30</td>\n",
       "      <td id=\"T_3a8e7_row1_col1\" class=\"data row1 col1\" >$-1,764,000</td>\n",
       "      <td id=\"T_3a8e7_row1_col2\" class=\"data row1 col2\" >$-1,758,000</td>\n",
       "      <td id=\"T_3a8e7_row1_col3\" class=\"data row1 col3\" >$-303,000</td>\n",
       "      <td id=\"T_3a8e7_row1_col4\" class=\"data row1 col4\" >$496,000</td>\n",
       "      <td id=\"T_3a8e7_row1_col5\" class=\"data row1 col5\" >$-20,908,986</td>\n",
       "    </tr>\n",
       "    <tr>\n",
       "      <th id=\"T_3a8e7_level0_row2\" class=\"row_heading level0 row2\" >130</th>\n",
       "      <td id=\"T_3a8e7_row2_col0\" class=\"data row2 col0\" >2024-03-31</td>\n",
       "      <td id=\"T_3a8e7_row2_col1\" class=\"data row2 col1\" >$-1,465,000</td>\n",
       "      <td id=\"T_3a8e7_row2_col2\" class=\"data row2 col2\" >$-1,463,000</td>\n",
       "      <td id=\"T_3a8e7_row2_col3\" class=\"data row2 col3\" >$220,000</td>\n",
       "      <td id=\"T_3a8e7_row2_col4\" class=\"data row2 col4\" >$156,000</td>\n",
       "      <td id=\"T_3a8e7_row2_col5\" class=\"data row2 col5\" >$-20,908,986</td>\n",
       "    </tr>\n",
       "    <tr>\n",
       "      <th id=\"T_3a8e7_level0_row3\" class=\"row_heading level0 row3\" >131</th>\n",
       "      <td id=\"T_3a8e7_row3_col0\" class=\"data row3 col0\" >2023-12-31</td>\n",
       "      <td id=\"T_3a8e7_row3_col1\" class=\"data row3 col1\" >$-1,459,000</td>\n",
       "      <td id=\"T_3a8e7_row3_col2\" class=\"data row3 col2\" >$-1,225,000</td>\n",
       "      <td id=\"T_3a8e7_row3_col3\" class=\"data row3 col3\" >$14,000</td>\n",
       "      <td id=\"T_3a8e7_row3_col4\" class=\"data row3 col4\" >$84,000</td>\n",
       "      <td id=\"T_3a8e7_row3_col5\" class=\"data row3 col5\" >$-20,908,986</td>\n",
       "    </tr>\n",
       "    <tr>\n",
       "      <th id=\"T_3a8e7_level0_row4\" class=\"row_heading level0 row4\" >132</th>\n",
       "      <td id=\"T_3a8e7_row4_col0\" class=\"data row4 col0\" >2023-09-30</td>\n",
       "      <td id=\"T_3a8e7_row4_col1\" class=\"data row4 col1\" >$-2,242,000</td>\n",
       "      <td id=\"T_3a8e7_row4_col2\" class=\"data row4 col2\" >$-2,222,000</td>\n",
       "      <td id=\"T_3a8e7_row4_col3\" class=\"data row4 col3\" >$-427,000</td>\n",
       "      <td id=\"T_3a8e7_row4_col4\" class=\"data row4 col4\" >$145,000</td>\n",
       "      <td id=\"T_3a8e7_row4_col5\" class=\"data row4 col5\" >$-20,908,986</td>\n",
       "    </tr>\n",
       "  </tbody>\n",
       "</table>\n"
      ],
      "text/plain": [
       "<pandas.io.formats.style.Styler at 0x28a35e02b10>"
      ]
     },
     "metadata": {},
     "output_type": "display_data"
    }
   ],
   "source": [
    "from IPython.display import display\n",
    "\n",
    "# Extract the required columns\n",
    "Keymetrics = scni_cashflow[['Date', 'Free Cash Flow', 'Operating Cash Flow', \n",
    "                            'Change In Working Capital', 'Depreciation Amortization Depletion', \n",
    "                            'Cash Dividends Paid']]\n",
    "\n",
    "# Define color rule function (only marking negative values as red)\n",
    "def color_negative_red(val):\n",
    "    color = 'red' if val < 0 else 'black'  \n",
    "    return f'color: {color}'\n",
    "\n",
    "# apply\n",
    "styled_table = Keymetrics.style\\\n",
    "    .format({\n",
    "        'Date': lambda x: x.strftime(\"%Y-%m-%d\"),  # Format date and currency\n",
    "        'Free Cash Flow': '${:,.0f}',              \n",
    "        'Operating Cash Flow': '${:,.0f}',         \n",
    "        'Change In Working Capital': '${:,.0f}',   \n",
    "        'Depreciation Amortization Depletion': '${:,.0f}',  \n",
    "        'Cash Dividends Paid': '${:,.0f}'        \n",
    "    })\\\n",
    "    .applymap(color_negative_red, subset=['Cash Dividends Paid','Change In Working Capital', 'Operating Cash Flow'])  # Color label the destination of funds and dividends\n",
    "\n",
    "display(styled_table)"
   ]
  },
  {
   "cell_type": "markdown",
   "id": "446374eb-bcfb-423b-838d-4f8240838bf3",
   "metadata": {},
   "source": [
    "# 2.5 Details of fund allocation\n",
    "After analyzing the funding trends of SCNI, I selected five more segmented categories of funding flows to examine the specific numbers. I directly selected from the previously defined table, using the date as the first column, and used red and black colors on three items to distinguish positive and negative numbers, in order to make better judgments.It can be seen that the consumption of working capital has surged ,and the Dividends remained the same amount."
   ]
  },
  {
   "cell_type": "code",
   "execution_count": 475,
   "id": "b4461741-377d-420c-9fe8-b0d56170fe40",
   "metadata": {},
   "outputs": [
    {
     "data": {
      "image/png": "[encoded data removed]",
      "text/plain": [
       "<Figure size 600x600 with 1 Axes>"
      ]
     },
     "metadata": {},
     "output_type": "display_data"
    }
   ],
   "source": [
    "\n",
    "import matplotlib.pyplot as plt\n",
    "\n",
    "end_cash = abs(scni_cashflow[\"End Cash Position\"].sum())\n",
    "operating_cash = abs(scni_cashflow[\"Operating Cash Flow\"].sum())\n",
    "long_debt_issuance = abs(scni_cashflow[\"Long Term Debt Issuance\"].sum())\n",
    "\n",
    "# set labels and values\n",
    "labels = ['End Cash Position', 'Operating Cash Flow', 'Long Term Debt Issuance']\n",
    "values = [end_cash, operating_cash, long_debt_issuance]\n",
    "# set color and effect\n",
    "colors = ['#66b3ff', '#99ff99', '#ff9999']\n",
    "explode = (0.1, 0, 0)  #Highlight the ending cash balance\n",
    "\n",
    "#Draw a pie chart\n",
    "plt.figure(figsize=(6, 6))\n",
    "plt.pie(values, labels=labels, autopct='%1.1f%%',\n",
    "        colors=colors, explode=explode, startangle=90,\n",
    "        wedgeprops={'edgecolor': 'white'})\n",
    "\n",
    "plt.title('SCNI Cash Management Strengths', fontsize=14)\n",
    "plt.show()"
   ]
  },
  {
   "cell_type": "markdown",
   "id": "83b9626a-fafd-43f7-9867-30a588a76277",
   "metadata": {},
   "source": [
    "# 2.6 Financial risk bearing ability\n",
    "After analyzing the flow of funds, I wanted to assess the company's ability to withstand risks, so I introduced a long term debt issue outside of operating cash to observe its fund composition. As it was to observe the proportion of fund composition, I chose a pie chart.It can be seen that long term debt occupies a very exaggerated proportion"
   ]
  },
  {
   "cell_type": "markdown",
   "id": "f9c2a7fd-5aa8-40a0-abbe-416f5d4435ec",
   "metadata": {},
   "source": [
    "# 3 Analysis of results\n",
    "\n",
    "The thirty companies on NASDAQ undoubtedly have strong operational capabilities, but their management and financial styles are also different.\n",
    "I first calculated the proportion of SG&A costs to the company's gross profit, in order to analyze whether the operating costs of the company are too high and whether there is a risk of cost control. It can be seen that the operating costs of most enterprises occupy a significant proportion, and some even exceed gross profit. The company has different funding strategies for high operating costs ,goodwill asset is one of the most important indicator. Next, I calculated the proportion of a company's goodwill assets to determine whether the company has potential commercial and financing potential to cope with high operating costs. It can be seen that except for a few companies such as AXON, SCNX， The proportion of goodwill in most companies is less than 0.5, and there has been no significant change during the statistical period.\n",
    "In order to verify the specific operational risks of these companies, I used a line chart to list their asset liability ratios. I soon found that SCNI's asset liability ratio had significantly decreased within a quarter,Its asset liability ratio has decreased from 1.4 to 0.1, and I want to know how this company achieved this.\n",
    "After comparing the trends of net income and operating cash, I found that SCNI's revenue continues to rise while operating expenses continue to decline, indicating that it has taken action to address its high debt to asset ratio. But it still needs to be compared whether it has stickiness to shareholders and whether it really invests costs in the work environment. The following table proves this point. It did not infringe on the rights of shareholders and continued to invest in working capital, which made its efforts effective\n",
    "In the future, whether SCNI can maintain a low debt to asset ratio without losing control of operating costs needs to be compared with its issuance of long-term bonds. Therefore, I created a pie chart and found that its long-term bond ratio is very high, up to 96%, which makes it have a high repayment demand in the future and is likely to exceed its ability to bear it\n"
   ]
  }
 ],
 "metadata": {
  "kernelspec": {
   "display_name": "Python 3 (ipykernel)",
   "language": "python",
   "name": "python3"
  },
  "language_info": {
   "codemirror_mode": {
    "name": "ipython",
    "version": 3
   },
   "file_extension": ".py",
   "mimetype": "text/x-python",
   "name": "python",
   "nbconvert_exporter": "python",
   "pygments_lexer": "ipython3",
   "version": "3.12.4"
  }
 },
 "nbformat": 4,
 "nbformat_minor": 5
}
